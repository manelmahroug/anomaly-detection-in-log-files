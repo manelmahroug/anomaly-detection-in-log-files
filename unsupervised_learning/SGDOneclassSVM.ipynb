{
 "cells": [
  {
   "cell_type": "code",
   "execution_count": 59,
   "metadata": {
    "_cell_guid": "b1076dfc-b9ad-4769-8c92-a6c4dae69d19",
    "_uuid": "8f2839f25d086af736a60e9eeb907d3b93b6e0e5",
    "tags": []
   },
   "outputs": [],
   "source": [
    "import numpy as np # linear algebra\n",
    "import pandas as pd # data processing, CSV file I/O (e.g. pd.read_csv)\n",
    "import warnings\n",
    "warnings.filterwarnings('ignore')\n",
    "\n",
    "from sklearn.preprocessing import LabelEncoder\n",
    "from sklearn.feature_extraction.text import TfidfVectorizer\n",
    "\n"
   ]
  },
  {
   "cell_type": "markdown",
   "metadata": {},
   "source": [
    "# SGD One class SVM"
   ]
  },
  {
   "cell_type": "markdown",
   "metadata": {},
   "source": [
    "## BGL"
   ]
  },
  {
   "cell_type": "code",
   "execution_count": 60,
   "metadata": {
    "tags": []
   },
   "outputs": [],
   "source": [
    "BGL_train= pd.read_csv(\"data/log_params/BGL_all_params.csv\")\n"
   ]
  },
  {
   "cell_type": "code",
   "execution_count": 61,
   "metadata": {
    "tags": []
   },
   "outputs": [
    {
     "data": {
      "text/plain": [
       "Index(['Unnamed: 0', 'timestamp', 'text', 'label', 'filename', 'clusters',\n",
       "       'tfidf_text', 'p-0-0', 'p-2-0', 'p-3-0', 'p-3-1', 'p-3-2', 'p-3-3',\n",
       "       'p-3-4', 'p-3-5', 'p-3-6', 'p-3-7', 'p-3-8', 'p-3-9', 'p-3-10',\n",
       "       'p-3-11', 'p-3-12', 'p-3-13', 'p-3-14', 'p-3-15', 'p-3-16', 'p-3-17',\n",
       "       'p-3-18', 'p-3-19', 'p-3-20', 'p-3-21', 'p-3-22', 'p-4-0', 'p-4-1',\n",
       "       'p-4-2', 'p-4-3', 'p-4-4', 'p-4-5', 'p-4-6', 'p-4-7', 'p-4-8', 'p-7-0',\n",
       "       'p-7-1', 'p-7-2', 'p-7-3', 'p-7-4', 'p-7-5', 'p-8-0', 'p-8-1', 'p-9-0',\n",
       "       'p-12-0', 'p-12-1', 'p-12-2', 'p-13-0', 'p-14-0', 'p-14-1', 'p-14-2',\n",
       "       'p-14-3', 'p-14-4', 'p-14-5', 'p-14-6', 'p-14-7', 'p-15-0', 'p-16-0',\n",
       "       'p-18-0', 'p-18-1', 'p-19-0', 'p-19-1', 'p-19-2', 'p-19-3', 'p-19-4',\n",
       "       'p-19-5', 'p-21-0', 'p-21-1', 'p-21-2', 'p-21-3', 'p-21-4', 'p-21-5',\n",
       "       'p-21-6', 'p-21-7', 'p-21-8', 'p-21-9', 'p-25-0'],\n",
       "      dtype='object')"
      ]
     },
     "execution_count": 61,
     "metadata": {},
     "output_type": "execute_result"
    }
   ],
   "source": [
    "BGL_train.columns"
   ]
  },
  {
   "cell_type": "code",
   "execution_count": 62,
   "metadata": {
    "tags": []
   },
   "outputs": [],
   "source": [
    "from sklearn.svm import OneClassSVM\n",
    "from numpy import quantile, where, random\n",
    "import matplotlib.pyplot as plt\n",
    "from sklearn.model_selection import train_test_split\n",
    "from sklearn.preprocessing import LabelEncoder\n",
    "from sklearn.linear_model import SGDOneClassSVM"
   ]
  },
  {
   "cell_type": "code",
   "execution_count": 63,
   "metadata": {
    "tags": []
   },
   "outputs": [],
   "source": [
    "le = LabelEncoder()\n",
    "y = le.fit_transform(BGL_train['label'])\n",
    "\n",
    "tfidf = TfidfVectorizer()\n",
    "vectorized_text = tfidf.fit_transform(BGL_train['tfidf_text'].dropna())\n",
    "\n"
   ]
  },
  {
   "cell_type": "code",
   "execution_count": 64,
   "metadata": {
    "tags": []
   },
   "outputs": [],
   "source": [
    "oneclass = SGDOneClassSVM().fit(vectorized_text)\n"
   ]
  },
  {
   "cell_type": "code",
   "execution_count": 65,
   "metadata": {
    "tags": []
   },
   "outputs": [],
   "source": [
    "y_pred = oneclass.predict(vectorized_text)\n",
    "y_pred = [1 if i==-1 else 0 for i in y_pred]\n"
   ]
  },
  {
   "cell_type": "code",
   "execution_count": 66,
   "metadata": {
    "tags": []
   },
   "outputs": [
    {
     "name": "stdout",
     "output_type": "stream",
     "text": [
      "Train Result:\n",
      "================================================\n",
      "Accuracy Score: 72.68%\n",
      "_______________________________________________\n",
      "CLASSIFICATION REPORT:\n",
      "                      0            1  accuracy     macro avg  weighted avg\n",
      "precision      0.999920     0.063398  0.726777      0.531659      0.982550\n",
      "recall         0.721672     0.996937  0.726777      0.859304      0.726777\n",
      "f1-score       0.838310     0.119214  0.726777      0.478762      0.824973\n",
      "support    69109.000000  1306.000000  0.726777  70415.000000  70415.000000\n",
      "_______________________________________________\n",
      "Confusion Matrix: \n",
      " [[49874 19235]\n",
      " [    4  1302]]\n",
      "\n",
      "_______________________________________________\n",
      "Recall Score: \n",
      " 0.996937212863706\n",
      "_______________________________________________\n",
      "Roc AUC Score: \n",
      " 0.8593043875891551\n"
     ]
    },
    {
     "data": {
      "image/png": "[encoded data removed]",
      "text/plain": [
       "<Figure size 640x480 with 2 Axes>"
      ]
     },
     "metadata": {},
     "output_type": "display_data"
    }
   ],
   "source": [
    "from sklearn.metrics import roc_curve, roc_auc_score, classification_report, \\\n",
    "accuracy_score, confusion_matrix ,f1_score, precision_score, recall_score, auc\n",
    "oneClass_report = pd.DataFrame(classification_report(y, y_pred, output_dict=True))\n",
    "print(\"Train Result:\\n================================================\")        \n",
    "print(f\"Accuracy Score: {accuracy_score(y, y_pred) * 100:.2f}%\")\n",
    "print(\"_______________________________________________\")\n",
    "print(f\"CLASSIFICATION REPORT:\\n{oneClass_report}\")\n",
    "print(\"_______________________________________________\")\n",
    "print(f\"Confusion Matrix: \\n {confusion_matrix(y, y_pred)}\\n\")\n",
    "print(\"_______________________________________________\")\n",
    "print(f'Recall Score: \\n {recall_score(y, y_pred)}')\n",
    "print(\"_______________________________________________\")\n",
    "print(f'Roc AUC Score: \\n {roc_auc_score(y, y_pred)}')\n",
    "\n",
    "oneClass_report\n",
    "from sklearn.metrics import ConfusionMatrixDisplay\n",
    "import matplotlib.pyplot as plt\n",
    "\n",
    "ConfusionMatrixDisplay.from_predictions(y, y_pred)\n",
    "plt.show()\n",
    "\n"
   ]
  },
  {
   "cell_type": "markdown",
   "metadata": {},
   "source": [
    "# Thunderbird"
   ]
  },
  {
   "cell_type": "code",
   "execution_count": 68,
   "metadata": {
    "tags": []
   },
   "outputs": [],
   "source": [
    "TB_train= pd.read_csv(\"data/log_params/Thunderbird_all_params.csv\")\n"
   ]
  },
  {
   "cell_type": "code",
   "execution_count": 69,
   "metadata": {
    "tags": []
   },
   "outputs": [],
   "source": [
    "lle = LabelEncoder()\n",
    "y = le.fit_transform(TB_train['label'])\n",
    "\n",
    "tfidf = TfidfVectorizer()\n",
    "vectorized_text = tfidf.fit_transform(TB_train['tfidf_text'].dropna())\n",
    "\n",
    "\n",
    "\n"
   ]
  },
  {
   "cell_type": "code",
   "execution_count": 70,
   "metadata": {
    "tags": []
   },
   "outputs": [],
   "source": [
    "\n",
    "oneclass = SGDOneClassSVM().fit(vectorized_text)\n",
    "\n"
   ]
  },
  {
   "cell_type": "code",
   "execution_count": 71,
   "metadata": {
    "tags": []
   },
   "outputs": [],
   "source": [
    "y_pred = oneclass.predict(vectorized_text)\n",
    "y_pred = [1 if i==-1 else 0 for i in y_pred]"
   ]
  },
  {
   "cell_type": "code",
   "execution_count": 72,
   "metadata": {
    "tags": []
   },
   "outputs": [
    {
     "name": "stdout",
     "output_type": "stream",
     "text": [
      "Train Result:\n",
      "================================================\n",
      "Accuracy Score: 50.56%\n",
      "_______________________________________________\n",
      "CLASSIFICATION REPORT:\n",
      "                       0            1  accuracy      macro avg   weighted avg\n",
      "precision       0.986720     0.003401  0.505599       0.495060       0.978414\n",
      "recall          0.508228     0.197015  0.505599       0.352621       0.505599\n",
      "f1-score        0.670898     0.006687  0.505599       0.338792       0.665287\n",
      "support    275284.000000  2345.000000  0.505599  277629.000000  277629.000000\n",
      "_______________________________________________\n",
      "Confusion Matrix: \n",
      " [[139907 135377]\n",
      " [  1883    462]]\n",
      "\n",
      "_______________________________________________\n",
      "Recall Score: \n",
      " 0.19701492537313434\n",
      "_______________________________________________\n",
      "Roc AUC Score: \n",
      " 0.3526213959336865\n"
     ]
    },
    {
     "data": {
      "image/png": "[encoded data removed]",
      "text/plain": [
       "<Figure size 640x480 with 2 Axes>"
      ]
     },
     "metadata": {},
     "output_type": "display_data"
    }
   ],
   "source": [
    "from sklearn.metrics import roc_curve, roc_auc_score, classification_report, \\\n",
    "accuracy_score, confusion_matrix ,f1_score, precision_score, recall_score, auc\n",
    "oneClass_report = pd.DataFrame(classification_report(y, y_pred, output_dict=True))\n",
    "print(\"Train Result:\\n================================================\")        \n",
    "print(f\"Accuracy Score: {accuracy_score(y, y_pred) * 100:.2f}%\")\n",
    "print(\"_______________________________________________\")\n",
    "print(f\"CLASSIFICATION REPORT:\\n{oneClass_report}\")\n",
    "print(\"_______________________________________________\")\n",
    "print(f\"Confusion Matrix: \\n {confusion_matrix(y, y_pred)}\\n\")\n",
    "print(\"_______________________________________________\")\n",
    "print(f'Recall Score: \\n {recall_score(y, y_pred)}')\n",
    "print(\"_______________________________________________\")\n",
    "print(f'Roc AUC Score: \\n {roc_auc_score(y, y_pred)}')\n",
    "\n",
    "oneClass_report\n",
    "from sklearn.metrics import ConfusionMatrixDisplay\n",
    "import matplotlib.pyplot as plt\n",
    "\n",
    "ConfusionMatrixDisplay.from_predictions(y, y_pred)\n",
    "plt.show()"
   ]
  },
  {
   "cell_type": "code",
   "execution_count": null,
   "metadata": {},
   "outputs": [],
   "source": []
  }
 ],
 "metadata": {
  "kernelspec": {
   "display_name": "Python 3 (ipykernel)",
   "language": "python",
   "name": "python3"
  },
  "language_info": {
   "codemirror_mode": {
    "name": "ipython",
    "version": 3
   },
   "file_extension": ".py",
   "mimetype": "text/x-python",
   "name": "python",
   "nbconvert_exporter": "python",
   "pygments_lexer": "ipython3",
   "version": "3.9.13"
  }
 },
 "nbformat": 4,
 "nbformat_minor": 4
}
