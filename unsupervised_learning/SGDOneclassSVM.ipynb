{
 "cells": [
  {
   "cell_type": "code",
   "execution_count": 28,
   "metadata": {
    "_cell_guid": "b1076dfc-b9ad-4769-8c92-a6c4dae69d19",
    "_uuid": "8f2839f25d086af736a60e9eeb907d3b93b6e0e5",
    "tags": []
   },
   "outputs": [],
   "source": [
    "import numpy as np # linear algebra\n",
    "import pandas as pd # data processing, CSV file I/O (e.g. pd.read_csv)\n",
    "import warnings\n",
    "warnings.filterwarnings('ignore')\n",
    "\n",
    "from sklearn.preprocessing import LabelEncoder\n",
    "from sklearn.feature_extraction.text import TfidfVectorizer\n",
    "\n"
   ]
  },
  {
   "cell_type": "code",
   "execution_count": 29,
   "metadata": {
    "tags": []
   },
   "outputs": [],
   "source": [
    "BGL_for_OneClass= pd.read_csv(\"output/BGL_clusters2.csv\")"
   ]
  },
  {
   "cell_type": "code",
   "execution_count": 30,
   "metadata": {
    "tags": []
   },
   "outputs": [
    {
     "data": {
      "text/html": [
       "<div>\n",
       "<style scoped>\n",
       "    .dataframe tbody tr th:only-of-type {\n",
       "        vertical-align: middle;\n",
       "    }\n",
       "\n",
       "    .dataframe tbody tr th {\n",
       "        vertical-align: top;\n",
       "    }\n",
       "\n",
       "    .dataframe thead th {\n",
       "        text-align: right;\n",
       "    }\n",
       "</style>\n",
       "<table border=\"1\" class=\"dataframe\">\n",
       "  <thead>\n",
       "    <tr style=\"text-align: right;\">\n",
       "      <th></th>\n",
       "      <th>Unnamed: 0</th>\n",
       "      <th>timestamp</th>\n",
       "      <th>text</th>\n",
       "      <th>label</th>\n",
       "      <th>filename</th>\n",
       "      <th>clusters</th>\n",
       "      <th>tfidf_text</th>\n",
       "      <th>p-3-0</th>\n",
       "      <th>p-7-0</th>\n",
       "      <th>p-9-0</th>\n",
       "      <th>...</th>\n",
       "      <th>p-28-0</th>\n",
       "      <th>p-30-0</th>\n",
       "      <th>p-32-0</th>\n",
       "      <th>p-36-0</th>\n",
       "      <th>p-36-1</th>\n",
       "      <th>p-36-2</th>\n",
       "      <th>p-36-3</th>\n",
       "      <th>p-36-4</th>\n",
       "      <th>p-37-0</th>\n",
       "      <th>cluster2</th>\n",
       "    </tr>\n",
       "  </thead>\n",
       "  <tbody>\n",
       "    <tr>\n",
       "      <th>0</th>\n",
       "      <td>0</td>\n",
       "      <td>1.117973e+12</td>\n",
       "      <td>RAS APP FATAL ciod: LOGIN chdir(/nfs/tmp1/ddcM...</td>\n",
       "      <td>False</td>\n",
       "      <td>R34-M0-NC-I:J18-U01</td>\n",
       "      <td>24</td>\n",
       "      <td>RAS APP FATAL ciod: LOGIN chdir(/nfs/tmp1/ddcM...</td>\n",
       "      <td>NaN</td>\n",
       "      <td>NaN</td>\n",
       "      <td>NaN</td>\n",
       "      <td>...</td>\n",
       "      <td>NaN</td>\n",
       "      <td>NaN</td>\n",
       "      <td>NaN</td>\n",
       "      <td>NaN</td>\n",
       "      <td>NaN</td>\n",
       "      <td>NaN</td>\n",
       "      <td>NaN</td>\n",
       "      <td>NaN</td>\n",
       "      <td>NaN</td>\n",
       "      <td>12</td>\n",
       "    </tr>\n",
       "    <tr>\n",
       "      <th>1</th>\n",
       "      <td>1</td>\n",
       "      <td>1.117973e+12</td>\n",
       "      <td>RAS APP FATAL ciod: LOGIN chdir(/nfs/tmp1/ddcM...</td>\n",
       "      <td>False</td>\n",
       "      <td>R30-M1-N4-I:J18-U11</td>\n",
       "      <td>24</td>\n",
       "      <td>RAS APP FATAL ciod: LOGIN chdir(/nfs/tmp1/ddcM...</td>\n",
       "      <td>NaN</td>\n",
       "      <td>NaN</td>\n",
       "      <td>NaN</td>\n",
       "      <td>...</td>\n",
       "      <td>NaN</td>\n",
       "      <td>NaN</td>\n",
       "      <td>NaN</td>\n",
       "      <td>NaN</td>\n",
       "      <td>NaN</td>\n",
       "      <td>NaN</td>\n",
       "      <td>NaN</td>\n",
       "      <td>NaN</td>\n",
       "      <td>NaN</td>\n",
       "      <td>12</td>\n",
       "    </tr>\n",
       "    <tr>\n",
       "      <th>2</th>\n",
       "      <td>2</td>\n",
       "      <td>1.117973e+12</td>\n",
       "      <td>RAS APP FATAL ciod: LOGIN chdir(/nfs/tmp1/ddcM...</td>\n",
       "      <td>False</td>\n",
       "      <td>R30-M1-N4-I:J18-U01</td>\n",
       "      <td>24</td>\n",
       "      <td>RAS APP FATAL ciod: LOGIN chdir(/nfs/tmp1/ddcM...</td>\n",
       "      <td>NaN</td>\n",
       "      <td>NaN</td>\n",
       "      <td>NaN</td>\n",
       "      <td>...</td>\n",
       "      <td>NaN</td>\n",
       "      <td>NaN</td>\n",
       "      <td>NaN</td>\n",
       "      <td>NaN</td>\n",
       "      <td>NaN</td>\n",
       "      <td>NaN</td>\n",
       "      <td>NaN</td>\n",
       "      <td>NaN</td>\n",
       "      <td>NaN</td>\n",
       "      <td>12</td>\n",
       "    </tr>\n",
       "    <tr>\n",
       "      <th>3</th>\n",
       "      <td>3</td>\n",
       "      <td>1.117973e+12</td>\n",
       "      <td>RAS APP FATAL ciod: LOGIN chdir(/nfs/tmp1/ddcM...</td>\n",
       "      <td>False</td>\n",
       "      <td>R30-M0-N4-I:J18-U11</td>\n",
       "      <td>24</td>\n",
       "      <td>RAS APP FATAL ciod: LOGIN chdir(/nfs/tmp1/ddcM...</td>\n",
       "      <td>NaN</td>\n",
       "      <td>NaN</td>\n",
       "      <td>NaN</td>\n",
       "      <td>...</td>\n",
       "      <td>NaN</td>\n",
       "      <td>NaN</td>\n",
       "      <td>NaN</td>\n",
       "      <td>NaN</td>\n",
       "      <td>NaN</td>\n",
       "      <td>NaN</td>\n",
       "      <td>NaN</td>\n",
       "      <td>NaN</td>\n",
       "      <td>NaN</td>\n",
       "      <td>12</td>\n",
       "    </tr>\n",
       "    <tr>\n",
       "      <th>4</th>\n",
       "      <td>4</td>\n",
       "      <td>1.117973e+12</td>\n",
       "      <td>RAS APP FATAL ciod: LOGIN chdir(/nfs/tmp1/ddcM...</td>\n",
       "      <td>False</td>\n",
       "      <td>R30-M0-N4-I:J18-U01</td>\n",
       "      <td>24</td>\n",
       "      <td>RAS APP FATAL ciod: LOGIN chdir(/nfs/tmp1/ddcM...</td>\n",
       "      <td>NaN</td>\n",
       "      <td>NaN</td>\n",
       "      <td>NaN</td>\n",
       "      <td>...</td>\n",
       "      <td>NaN</td>\n",
       "      <td>NaN</td>\n",
       "      <td>NaN</td>\n",
       "      <td>NaN</td>\n",
       "      <td>NaN</td>\n",
       "      <td>NaN</td>\n",
       "      <td>NaN</td>\n",
       "      <td>NaN</td>\n",
       "      <td>NaN</td>\n",
       "      <td>12</td>\n",
       "    </tr>\n",
       "  </tbody>\n",
       "</table>\n",
       "<p>5 rows × 64 columns</p>\n",
       "</div>"
      ],
      "text/plain": [
       "   Unnamed: 0     timestamp  \\\n",
       "0           0  1.117973e+12   \n",
       "1           1  1.117973e+12   \n",
       "2           2  1.117973e+12   \n",
       "3           3  1.117973e+12   \n",
       "4           4  1.117973e+12   \n",
       "\n",
       "                                                text  label  \\\n",
       "0  RAS APP FATAL ciod: LOGIN chdir(/nfs/tmp1/ddcM...  False   \n",
       "1  RAS APP FATAL ciod: LOGIN chdir(/nfs/tmp1/ddcM...  False   \n",
       "2  RAS APP FATAL ciod: LOGIN chdir(/nfs/tmp1/ddcM...  False   \n",
       "3  RAS APP FATAL ciod: LOGIN chdir(/nfs/tmp1/ddcM...  False   \n",
       "4  RAS APP FATAL ciod: LOGIN chdir(/nfs/tmp1/ddcM...  False   \n",
       "\n",
       "              filename  clusters  \\\n",
       "0  R34-M0-NC-I:J18-U01        24   \n",
       "1  R30-M1-N4-I:J18-U11        24   \n",
       "2  R30-M1-N4-I:J18-U01        24   \n",
       "3  R30-M0-N4-I:J18-U11        24   \n",
       "4  R30-M0-N4-I:J18-U01        24   \n",
       "\n",
       "                                          tfidf_text  p-3-0  p-7-0  p-9-0  \\\n",
       "0  RAS APP FATAL ciod: LOGIN chdir(/nfs/tmp1/ddcM...    NaN    NaN    NaN   \n",
       "1  RAS APP FATAL ciod: LOGIN chdir(/nfs/tmp1/ddcM...    NaN    NaN    NaN   \n",
       "2  RAS APP FATAL ciod: LOGIN chdir(/nfs/tmp1/ddcM...    NaN    NaN    NaN   \n",
       "3  RAS APP FATAL ciod: LOGIN chdir(/nfs/tmp1/ddcM...    NaN    NaN    NaN   \n",
       "4  RAS APP FATAL ciod: LOGIN chdir(/nfs/tmp1/ddcM...    NaN    NaN    NaN   \n",
       "\n",
       "   ...  p-28-0  p-30-0  p-32-0  p-36-0  p-36-1  p-36-2  p-36-3  p-36-4  \\\n",
       "0  ...     NaN     NaN     NaN     NaN     NaN     NaN     NaN     NaN   \n",
       "1  ...     NaN     NaN     NaN     NaN     NaN     NaN     NaN     NaN   \n",
       "2  ...     NaN     NaN     NaN     NaN     NaN     NaN     NaN     NaN   \n",
       "3  ...     NaN     NaN     NaN     NaN     NaN     NaN     NaN     NaN   \n",
       "4  ...     NaN     NaN     NaN     NaN     NaN     NaN     NaN     NaN   \n",
       "\n",
       "   p-37-0  cluster2  \n",
       "0     NaN        12  \n",
       "1     NaN        12  \n",
       "2     NaN        12  \n",
       "3     NaN        12  \n",
       "4     NaN        12  \n",
       "\n",
       "[5 rows x 64 columns]"
      ]
     },
     "execution_count": 30,
     "metadata": {},
     "output_type": "execute_result"
    }
   ],
   "source": [
    "BGL_for_OneClass.head()"
   ]
  },
  {
   "cell_type": "code",
   "execution_count": 31,
   "metadata": {
    "tags": []
   },
   "outputs": [],
   "source": [
    "#one_hot_encoded_BGL = pd.get_dummies(BGL_for_OneClass['clusters'])\n",
    "#one_hot_encoded_BGL.head()\n",
    "\n",
    "#for col in one_hot_encoded_BGL.columns:\n",
    " #   col_name= \"c\"+str(col)\n",
    " #   BGL_for_OneClass[col_name]=one_hot_encoded_BGL[col]\n",
    "\n",
    "#BGL_for_OneClass.head"
   ]
  },
  {
   "cell_type": "code",
   "execution_count": 32,
   "metadata": {
    "tags": []
   },
   "outputs": [],
   "source": [
    "BGL_for_OneClass.fillna(0,inplace=True)\n",
    "\n",
    "#BGL_for_OneClass.drop(columns=['clusters','Unnamed: 0','timestamp','text','filename'], inplace=True)\n",
    "\n",
    "#BGL_for_OneClass.columns"
   ]
  },
  {
   "cell_type": "markdown",
   "metadata": {},
   "source": [
    "# One class SVM"
   ]
  },
  {
   "cell_type": "code",
   "execution_count": 33,
   "metadata": {
    "tags": []
   },
   "outputs": [],
   "source": [
    "from sklearn.svm import OneClassSVM\n",
    "from numpy import quantile, where, random\n",
    "import matplotlib.pyplot as plt\n",
    "from sklearn.model_selection import train_test_split\n",
    "from sklearn.preprocessing import LabelEncoder\n",
    "from sklearn.linear_model import SGDOneClassSVM"
   ]
  },
  {
   "cell_type": "code",
   "execution_count": 34,
   "metadata": {
    "tags": []
   },
   "outputs": [
    {
     "name": "stdout",
     "output_type": "stream",
     "text": [
      "<class 'scipy.sparse._csr.csr_matrix'>\n",
      "[[0. 0. 0. ... 0. 0. 0.]\n",
      " [0. 0. 0. ... 0. 0. 0.]\n",
      " [0. 0. 0. ... 0. 0. 0.]\n",
      " ...\n",
      " [0. 0. 0. ... 0. 0. 0.]\n",
      " [0. 0. 0. ... 0. 0. 0.]\n",
      " [0. 0. 0. ... 0. 0. 0.]]\n"
     ]
    }
   ],
   "source": [
    "le = LabelEncoder()\n",
    "X = BGL_for_OneClass.drop('label', axis =1)\n",
    "#y = le.fit_transform(BGL_for_OneClass['label'])\n",
    "y = le.fit_transform(BGL_for_OneClass['label'])\n",
    "\n",
    "tfidf = TfidfVectorizer()\n",
    "vectorized_text = tfidf.fit_transform(X['tfidf_text'])\n",
    "print(type(vectorized_text))\n",
    "X['vectorized_text'] = list(vectorized_text.toarray()) \n",
    "vectors_for_training = np.array(X['vectorized_text'].tolist())\n",
    "#X_vectorized= X.drop('tfidf_text', axis =1)\n",
    "#print(X_vectorized.columns)\n",
    "print(vectors_for_training)\n",
    "\n",
    "\n",
    "X_train, X_test, y_train, y_test = train_test_split(vectors_for_training, y, test_size=0.33, random_state=42)\n",
    "\n"
   ]
  },
  {
   "cell_type": "code",
   "execution_count": 35,
   "metadata": {
    "tags": []
   },
   "outputs": [],
   "source": [
    "# OCSVM hyperparameters\n",
    "nu = 0.05\n",
    "gamma = 2.0\n",
    "\n",
    "oneclass = SGDOneClassSVM(\n",
    "    nu=nu, shuffle=True, fit_intercept=True, random_state=42, tol=1e-4\n",
    ").fit(X_train)\n",
    "y_pred = oneclass.predict(X_test)\n",
    "y_pred = [1 if i==-1 else 0 for i in y_pred]\n"
   ]
  },
  {
   "cell_type": "code",
   "execution_count": 36,
   "metadata": {
    "tags": []
   },
   "outputs": [
    {
     "name": "stdout",
     "output_type": "stream",
     "text": [
      "Train Result:\n",
      "================================================\n",
      "Accuracy Score: 75.27%\n",
      "_______________________________________________\n",
      "CLASSIFICATION REPORT:\n",
      "                      0            1  accuracy     macro avg  weighted avg\n",
      "precision      0.920945     0.063896   0.75274      0.492421      0.855741\n",
      "recall         0.801151     0.164831   0.75274      0.482991      0.752740\n",
      "f1-score       0.856882     0.092093   0.75274      0.474487      0.798697\n",
      "support    28660.000000  2360.000000   0.75274  31020.000000  31020.000000\n",
      "_______________________________________________\n",
      "Confusion Matrix: \n",
      " [[22961  5699]\n",
      " [ 1971   389]]\n",
      "\n",
      "_______________________________________________\n",
      "Recall Score: \n",
      " 0.16483050847457628\n",
      "_______________________________________________\n",
      "Roc AUC Score: \n",
      " 0.482990969519912\n"
     ]
    },
    {
     "data": {
      "image/png": "[encoded data removed]",
      "text/plain": [
       "<Figure size 640x480 with 2 Axes>"
      ]
     },
     "metadata": {},
     "output_type": "display_data"
    }
   ],
   "source": [
    "from sklearn.metrics import roc_curve, roc_auc_score, classification_report, \\\n",
    "accuracy_score, confusion_matrix ,f1_score, precision_score, recall_score, auc\n",
    "oneClass_report = pd.DataFrame(classification_report(y_test, y_pred, output_dict=True))\n",
    "print(\"Train Result:\\n================================================\")        \n",
    "print(f\"Accuracy Score: {accuracy_score(y_test, y_pred) * 100:.2f}%\")\n",
    "print(\"_______________________________________________\")\n",
    "print(f\"CLASSIFICATION REPORT:\\n{oneClass_report}\")\n",
    "print(\"_______________________________________________\")\n",
    "print(f\"Confusion Matrix: \\n {confusion_matrix(y_test, y_pred)}\\n\")\n",
    "print(\"_______________________________________________\")\n",
    "print(f'Recall Score: \\n {recall_score(y_test, y_pred)}')\n",
    "print(\"_______________________________________________\")\n",
    "print(f'Roc AUC Score: \\n {roc_auc_score(y_test, y_pred)}')\n",
    "\n",
    "oneClass_report\n",
    "from sklearn.metrics import ConfusionMatrixDisplay\n",
    "import matplotlib.pyplot as plt\n",
    "\n",
    "ConfusionMatrixDisplay.from_predictions(y_test, y_pred)\n",
    "plt.show()\n",
    "\n"
   ]
  },
  {
   "cell_type": "code",
   "execution_count": null,
   "metadata": {},
   "outputs": [],
   "source": []
  }
 ],
 "metadata": {
  "kernelspec": {
   "display_name": "Python 3 (ipykernel)",
   "language": "python",
   "name": "python3"
  },
  "language_info": {
   "codemirror_mode": {
    "name": "ipython",
    "version": 3
   },
   "file_extension": ".py",
   "mimetype": "text/x-python",
   "name": "python",
   "nbconvert_exporter": "python",
   "pygments_lexer": "ipython3",
   "version": "3.9.13"
  }
 },
 "nbformat": 4,
 "nbformat_minor": 4
}
