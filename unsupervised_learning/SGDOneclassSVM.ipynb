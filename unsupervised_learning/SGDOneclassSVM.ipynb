{
 "cells": [
  {
   "cell_type": "code",
   "execution_count": 16,
   "metadata": {
    "_cell_guid": "b1076dfc-b9ad-4769-8c92-a6c4dae69d19",
    "_uuid": "8f2839f25d086af736a60e9eeb907d3b93b6e0e5",
    "tags": []
   },
   "outputs": [],
   "source": [
    "import numpy as np # linear algebra\n",
    "import pandas as pd # data processing, CSV file I/O (e.g. pd.read_csv)\n",
    "import warnings\n",
    "warnings.filterwarnings('ignore')\n",
    "\n",
    "from sklearn.preprocessing import LabelEncoder\n",
    "from sklearn.feature_extraction.text import TfidfVectorizer\n",
    "\n"
   ]
  },
  {
   "cell_type": "markdown",
   "metadata": {},
   "source": [
    "# SGD One class SVM"
   ]
  },
  {
   "cell_type": "markdown",
   "metadata": {},
   "source": [
    "## BGL"
   ]
  },
  {
   "cell_type": "code",
   "execution_count": 2,
   "metadata": {
    "tags": []
   },
   "outputs": [],
   "source": [
    "BGL_for_OneClass= pd.read_csv(\"data/clusters2/BGL_clusters2.csv\")"
   ]
  },
  {
   "cell_type": "code",
   "execution_count": 3,
   "metadata": {
    "tags": []
   },
   "outputs": [
    {
     "data": {
      "text/html": [
       "<div>\n",
       "<style scoped>\n",
       "    .dataframe tbody tr th:only-of-type {\n",
       "        vertical-align: middle;\n",
       "    }\n",
       "\n",
       "    .dataframe tbody tr th {\n",
       "        vertical-align: top;\n",
       "    }\n",
       "\n",
       "    .dataframe thead th {\n",
       "        text-align: right;\n",
       "    }\n",
       "</style>\n",
       "<table border=\"1\" class=\"dataframe\">\n",
       "  <thead>\n",
       "    <tr style=\"text-align: right;\">\n",
       "      <th></th>\n",
       "      <th>Unnamed: 0</th>\n",
       "      <th>timestamp</th>\n",
       "      <th>text</th>\n",
       "      <th>label</th>\n",
       "      <th>filename</th>\n",
       "      <th>clusters</th>\n",
       "      <th>tfidf_text</th>\n",
       "      <th>p-3-0</th>\n",
       "      <th>p-7-0</th>\n",
       "      <th>p-9-0</th>\n",
       "      <th>...</th>\n",
       "      <th>p-28-0</th>\n",
       "      <th>p-30-0</th>\n",
       "      <th>p-32-0</th>\n",
       "      <th>p-36-0</th>\n",
       "      <th>p-36-1</th>\n",
       "      <th>p-36-2</th>\n",
       "      <th>p-36-3</th>\n",
       "      <th>p-36-4</th>\n",
       "      <th>p-37-0</th>\n",
       "      <th>cluster2</th>\n",
       "    </tr>\n",
       "  </thead>\n",
       "  <tbody>\n",
       "    <tr>\n",
       "      <th>0</th>\n",
       "      <td>0</td>\n",
       "      <td>1.117973e+12</td>\n",
       "      <td>RAS APP FATAL ciod: LOGIN chdir(/nfs/tmp1/ddcM...</td>\n",
       "      <td>False</td>\n",
       "      <td>R34-M0-NC-I:J18-U01</td>\n",
       "      <td>24</td>\n",
       "      <td>RAS APP FATAL ciod: LOGIN chdir(/nfs/tmp1/ddcM...</td>\n",
       "      <td>NaN</td>\n",
       "      <td>NaN</td>\n",
       "      <td>NaN</td>\n",
       "      <td>...</td>\n",
       "      <td>NaN</td>\n",
       "      <td>NaN</td>\n",
       "      <td>NaN</td>\n",
       "      <td>NaN</td>\n",
       "      <td>NaN</td>\n",
       "      <td>NaN</td>\n",
       "      <td>NaN</td>\n",
       "      <td>NaN</td>\n",
       "      <td>NaN</td>\n",
       "      <td>12</td>\n",
       "    </tr>\n",
       "    <tr>\n",
       "      <th>1</th>\n",
       "      <td>1</td>\n",
       "      <td>1.117973e+12</td>\n",
       "      <td>RAS APP FATAL ciod: LOGIN chdir(/nfs/tmp1/ddcM...</td>\n",
       "      <td>False</td>\n",
       "      <td>R30-M1-N4-I:J18-U11</td>\n",
       "      <td>24</td>\n",
       "      <td>RAS APP FATAL ciod: LOGIN chdir(/nfs/tmp1/ddcM...</td>\n",
       "      <td>NaN</td>\n",
       "      <td>NaN</td>\n",
       "      <td>NaN</td>\n",
       "      <td>...</td>\n",
       "      <td>NaN</td>\n",
       "      <td>NaN</td>\n",
       "      <td>NaN</td>\n",
       "      <td>NaN</td>\n",
       "      <td>NaN</td>\n",
       "      <td>NaN</td>\n",
       "      <td>NaN</td>\n",
       "      <td>NaN</td>\n",
       "      <td>NaN</td>\n",
       "      <td>12</td>\n",
       "    </tr>\n",
       "    <tr>\n",
       "      <th>2</th>\n",
       "      <td>2</td>\n",
       "      <td>1.117973e+12</td>\n",
       "      <td>RAS APP FATAL ciod: LOGIN chdir(/nfs/tmp1/ddcM...</td>\n",
       "      <td>False</td>\n",
       "      <td>R30-M1-N4-I:J18-U01</td>\n",
       "      <td>24</td>\n",
       "      <td>RAS APP FATAL ciod: LOGIN chdir(/nfs/tmp1/ddcM...</td>\n",
       "      <td>NaN</td>\n",
       "      <td>NaN</td>\n",
       "      <td>NaN</td>\n",
       "      <td>...</td>\n",
       "      <td>NaN</td>\n",
       "      <td>NaN</td>\n",
       "      <td>NaN</td>\n",
       "      <td>NaN</td>\n",
       "      <td>NaN</td>\n",
       "      <td>NaN</td>\n",
       "      <td>NaN</td>\n",
       "      <td>NaN</td>\n",
       "      <td>NaN</td>\n",
       "      <td>12</td>\n",
       "    </tr>\n",
       "    <tr>\n",
       "      <th>3</th>\n",
       "      <td>3</td>\n",
       "      <td>1.117973e+12</td>\n",
       "      <td>RAS APP FATAL ciod: LOGIN chdir(/nfs/tmp1/ddcM...</td>\n",
       "      <td>False</td>\n",
       "      <td>R30-M0-N4-I:J18-U11</td>\n",
       "      <td>24</td>\n",
       "      <td>RAS APP FATAL ciod: LOGIN chdir(/nfs/tmp1/ddcM...</td>\n",
       "      <td>NaN</td>\n",
       "      <td>NaN</td>\n",
       "      <td>NaN</td>\n",
       "      <td>...</td>\n",
       "      <td>NaN</td>\n",
       "      <td>NaN</td>\n",
       "      <td>NaN</td>\n",
       "      <td>NaN</td>\n",
       "      <td>NaN</td>\n",
       "      <td>NaN</td>\n",
       "      <td>NaN</td>\n",
       "      <td>NaN</td>\n",
       "      <td>NaN</td>\n",
       "      <td>12</td>\n",
       "    </tr>\n",
       "    <tr>\n",
       "      <th>4</th>\n",
       "      <td>4</td>\n",
       "      <td>1.117973e+12</td>\n",
       "      <td>RAS APP FATAL ciod: LOGIN chdir(/nfs/tmp1/ddcM...</td>\n",
       "      <td>False</td>\n",
       "      <td>R30-M0-N4-I:J18-U01</td>\n",
       "      <td>24</td>\n",
       "      <td>RAS APP FATAL ciod: LOGIN chdir(/nfs/tmp1/ddcM...</td>\n",
       "      <td>NaN</td>\n",
       "      <td>NaN</td>\n",
       "      <td>NaN</td>\n",
       "      <td>...</td>\n",
       "      <td>NaN</td>\n",
       "      <td>NaN</td>\n",
       "      <td>NaN</td>\n",
       "      <td>NaN</td>\n",
       "      <td>NaN</td>\n",
       "      <td>NaN</td>\n",
       "      <td>NaN</td>\n",
       "      <td>NaN</td>\n",
       "      <td>NaN</td>\n",
       "      <td>12</td>\n",
       "    </tr>\n",
       "  </tbody>\n",
       "</table>\n",
       "<p>5 rows × 64 columns</p>\n",
       "</div>"
      ],
      "text/plain": [
       "   Unnamed: 0     timestamp  \\\n",
       "0           0  1.117973e+12   \n",
       "1           1  1.117973e+12   \n",
       "2           2  1.117973e+12   \n",
       "3           3  1.117973e+12   \n",
       "4           4  1.117973e+12   \n",
       "\n",
       "                                                text  label  \\\n",
       "0  RAS APP FATAL ciod: LOGIN chdir(/nfs/tmp1/ddcM...  False   \n",
       "1  RAS APP FATAL ciod: LOGIN chdir(/nfs/tmp1/ddcM...  False   \n",
       "2  RAS APP FATAL ciod: LOGIN chdir(/nfs/tmp1/ddcM...  False   \n",
       "3  RAS APP FATAL ciod: LOGIN chdir(/nfs/tmp1/ddcM...  False   \n",
       "4  RAS APP FATAL ciod: LOGIN chdir(/nfs/tmp1/ddcM...  False   \n",
       "\n",
       "              filename  clusters  \\\n",
       "0  R34-M0-NC-I:J18-U01        24   \n",
       "1  R30-M1-N4-I:J18-U11        24   \n",
       "2  R30-M1-N4-I:J18-U01        24   \n",
       "3  R30-M0-N4-I:J18-U11        24   \n",
       "4  R30-M0-N4-I:J18-U01        24   \n",
       "\n",
       "                                          tfidf_text  p-3-0  p-7-0  p-9-0  \\\n",
       "0  RAS APP FATAL ciod: LOGIN chdir(/nfs/tmp1/ddcM...    NaN    NaN    NaN   \n",
       "1  RAS APP FATAL ciod: LOGIN chdir(/nfs/tmp1/ddcM...    NaN    NaN    NaN   \n",
       "2  RAS APP FATAL ciod: LOGIN chdir(/nfs/tmp1/ddcM...    NaN    NaN    NaN   \n",
       "3  RAS APP FATAL ciod: LOGIN chdir(/nfs/tmp1/ddcM...    NaN    NaN    NaN   \n",
       "4  RAS APP FATAL ciod: LOGIN chdir(/nfs/tmp1/ddcM...    NaN    NaN    NaN   \n",
       "\n",
       "   ...  p-28-0  p-30-0  p-32-0  p-36-0  p-36-1  p-36-2  p-36-3  p-36-4  \\\n",
       "0  ...     NaN     NaN     NaN     NaN     NaN     NaN     NaN     NaN   \n",
       "1  ...     NaN     NaN     NaN     NaN     NaN     NaN     NaN     NaN   \n",
       "2  ...     NaN     NaN     NaN     NaN     NaN     NaN     NaN     NaN   \n",
       "3  ...     NaN     NaN     NaN     NaN     NaN     NaN     NaN     NaN   \n",
       "4  ...     NaN     NaN     NaN     NaN     NaN     NaN     NaN     NaN   \n",
       "\n",
       "   p-37-0  cluster2  \n",
       "0     NaN        12  \n",
       "1     NaN        12  \n",
       "2     NaN        12  \n",
       "3     NaN        12  \n",
       "4     NaN        12  \n",
       "\n",
       "[5 rows x 64 columns]"
      ]
     },
     "execution_count": 3,
     "metadata": {},
     "output_type": "execute_result"
    }
   ],
   "source": [
    "BGL_for_OneClass.head()"
   ]
  },
  {
   "cell_type": "code",
   "execution_count": 4,
   "metadata": {
    "tags": []
   },
   "outputs": [],
   "source": [
    "BGL_for_OneClass.fillna(0,inplace=True)"
   ]
  },
  {
   "cell_type": "code",
   "execution_count": 5,
   "metadata": {
    "tags": []
   },
   "outputs": [],
   "source": [
    "from sklearn.svm import OneClassSVM\n",
    "from numpy import quantile, where, random\n",
    "import matplotlib.pyplot as plt\n",
    "from sklearn.model_selection import train_test_split\n",
    "from sklearn.preprocessing import LabelEncoder\n",
    "from sklearn.linear_model import SGDOneClassSVM"
   ]
  },
  {
   "cell_type": "code",
   "execution_count": 17,
   "metadata": {
    "tags": []
   },
   "outputs": [
    {
     "name": "stdout",
     "output_type": "stream",
     "text": [
      "<class 'scipy.sparse._csr.csr_matrix'>\n"
     ]
    }
   ],
   "source": [
    "le = LabelEncoder()\n",
    "y = le.fit_transform(BGL_for_OneClass['label'])\n",
    "\n",
    "tfidf = TfidfVectorizer()\n",
    "vectorized_text = tfidf.fit_transform(BGL_for_OneClass['tfidf_text'])\n",
    "print(type(vectorized_text))\n",
    "X = list(vectorized_text.toarray()) \n",
    "\n",
    "X_train, X_test, y_train, y_test = train_test_split(X, y, test_size=0.33, random_state=42)\n",
    "\n"
   ]
  },
  {
   "cell_type": "code",
   "execution_count": 18,
   "metadata": {
    "tags": []
   },
   "outputs": [],
   "source": [
    "oneclass = SGDOneClassSVM().fit(X_train)\n",
    "y_pred = oneclass.predict(X_test)\n",
    "y_pred = [1 if i==-1 else 0 for i in y_pred]\n"
   ]
  },
  {
   "cell_type": "code",
   "execution_count": 19,
   "metadata": {
    "tags": []
   },
   "outputs": [
    {
     "name": "stdout",
     "output_type": "stream",
     "text": [
      "Train Result:\n",
      "================================================\n",
      "Accuracy Score: 55.33%\n",
      "_______________________________________________\n",
      "CLASSIFICATION REPORT:\n",
      "                      0            1  accuracy     macro avg  weighted avg\n",
      "precision      0.910129     0.056892   0.55332      0.483510      0.845214\n",
      "recall         0.573133     0.312712   0.55332      0.442923      0.553320\n",
      "f1-score       0.703348     0.096269   0.55332      0.399809      0.657162\n",
      "support    28660.000000  2360.000000   0.55332  31020.000000  31020.000000\n",
      "_______________________________________________\n",
      "Confusion Matrix: \n",
      " [[16426 12234]\n",
      " [ 1622   738]]\n",
      "\n",
      "_______________________________________________\n",
      "Recall Score: \n",
      " 0.31271186440677967\n",
      "_______________________________________________\n",
      "Roc AUC Score: \n",
      " 0.44292257560883297\n"
     ]
    },
    {
     "data": {
      "image/png": "[encoded data removed]",
      "text/plain": [
       "<Figure size 640x480 with 2 Axes>"
      ]
     },
     "metadata": {},
     "output_type": "display_data"
    }
   ],
   "source": [
    "from sklearn.metrics import roc_curve, roc_auc_score, classification_report, \\\n",
    "accuracy_score, confusion_matrix ,f1_score, precision_score, recall_score, auc\n",
    "oneClass_report = pd.DataFrame(classification_report(y_test, y_pred, output_dict=True))\n",
    "print(\"Train Result:\\n================================================\")        \n",
    "print(f\"Accuracy Score: {accuracy_score(y_test, y_pred) * 100:.2f}%\")\n",
    "print(\"_______________________________________________\")\n",
    "print(f\"CLASSIFICATION REPORT:\\n{oneClass_report}\")\n",
    "print(\"_______________________________________________\")\n",
    "print(f\"Confusion Matrix: \\n {confusion_matrix(y_test, y_pred)}\\n\")\n",
    "print(\"_______________________________________________\")\n",
    "print(f'Recall Score: \\n {recall_score(y_test, y_pred)}')\n",
    "print(\"_______________________________________________\")\n",
    "print(f'Roc AUC Score: \\n {roc_auc_score(y_test, y_pred)}')\n",
    "\n",
    "oneClass_report\n",
    "from sklearn.metrics import ConfusionMatrixDisplay\n",
    "import matplotlib.pyplot as plt\n",
    "\n",
    "ConfusionMatrixDisplay.from_predictions(y_test, y_pred)\n",
    "plt.show()\n",
    "\n"
   ]
  },
  {
   "cell_type": "markdown",
   "metadata": {},
   "source": [
    "# Thunderbird"
   ]
  },
  {
   "cell_type": "code",
   "execution_count": 21,
   "metadata": {
    "tags": []
   },
   "outputs": [],
   "source": [
    "TB_for_OneClass= pd.read_csv(\"data/clusters2/Thunderbird_clusters2.csv\")\n",
    "TB_for_OneClass.fillna(0,inplace=True)\n"
   ]
  },
  {
   "cell_type": "code",
   "execution_count": 22,
   "metadata": {
    "tags": []
   },
   "outputs": [
    {
     "name": "stdout",
     "output_type": "stream",
     "text": [
      "<class 'scipy.sparse._csr.csr_matrix'>\n"
     ]
    }
   ],
   "source": [
    "le = LabelEncoder()\n",
    "y = le.fit_transform(TB_for_OneClass['label'])\n",
    "\n",
    "tfidf = TfidfVectorizer()\n",
    "vectorized_text = tfidf.fit_transform(TB_for_OneClass['tfidf_text'])\n",
    "print(type(vectorized_text))\n",
    "X = list(vectorized_text.toarray()) \n",
    "\n",
    "X_train, X_test, y_train, y_test = train_test_split(X, y, test_size=0.33, random_state=42)\n",
    "\n",
    "\n",
    "\n"
   ]
  },
  {
   "cell_type": "code",
   "execution_count": 23,
   "metadata": {
    "tags": []
   },
   "outputs": [],
   "source": [
    "\n",
    "oneclass = SGDOneClassSVM().fit(X_train)\n",
    "y_pred = oneclass.predict(X_test)\n",
    "y_pred = [1 if i==-1 else 0 for i in y_pred]\n"
   ]
  },
  {
   "cell_type": "code",
   "execution_count": 24,
   "metadata": {
    "tags": []
   },
   "outputs": [
    {
     "name": "stdout",
     "output_type": "stream",
     "text": [
      "Train Result:\n",
      "================================================\n",
      "Accuracy Score: 51.78%\n",
      "_______________________________________________\n",
      "CLASSIFICATION REPORT:\n",
      "                      0           1  accuracy     macro avg  weighted avg\n",
      "precision      0.920745    0.012060  0.517838      0.466402      0.875800\n",
      "recall         0.539158    0.108108  0.517838      0.323633      0.517838\n",
      "f1-score       0.680082    0.021699  0.517838      0.350890      0.647518\n",
      "support    11377.000000  592.000000  0.517838  11969.000000  11969.000000\n",
      "_______________________________________________\n",
      "Confusion Matrix: \n",
      " [[6134 5243]\n",
      " [ 528   64]]\n",
      "\n",
      "_______________________________________________\n",
      "Recall Score: \n",
      " 0.10810810810810811\n",
      "_______________________________________________\n",
      "Roc AUC Score: \n",
      " 0.32363302917930675\n"
     ]
    },
    {
     "data": {
      "image/png": "[encoded data removed]",
      "text/plain": [
       "<Figure size 640x480 with 2 Axes>"
      ]
     },
     "metadata": {},
     "output_type": "display_data"
    }
   ],
   "source": [
    "from sklearn.metrics import roc_curve, roc_auc_score, classification_report, \\\n",
    "accuracy_score, confusion_matrix ,f1_score, precision_score, recall_score, auc\n",
    "oneClass_report = pd.DataFrame(classification_report(y_test, y_pred, output_dict=True))\n",
    "print(\"Train Result:\\n================================================\")        \n",
    "print(f\"Accuracy Score: {accuracy_score(y_test, y_pred) * 100:.2f}%\")\n",
    "print(\"_______________________________________________\")\n",
    "print(f\"CLASSIFICATION REPORT:\\n{oneClass_report}\")\n",
    "print(\"_______________________________________________\")\n",
    "print(f\"Confusion Matrix: \\n {confusion_matrix(y_test, y_pred)}\\n\")\n",
    "print(\"_______________________________________________\")\n",
    "print(f'Recall Score: \\n {recall_score(y_test, y_pred)}')\n",
    "print(\"_______________________________________________\")\n",
    "print(f'Roc AUC Score: \\n {roc_auc_score(y_test, y_pred)}')\n",
    "\n",
    "oneClass_report\n",
    "from sklearn.metrics import ConfusionMatrixDisplay\n",
    "import matplotlib.pyplot as plt\n",
    "\n",
    "ConfusionMatrixDisplay.from_predictions(y_test, y_pred)\n",
    "plt.show()"
   ]
  },
  {
   "cell_type": "code",
   "execution_count": null,
   "metadata": {},
   "outputs": [],
   "source": []
  }
 ],
 "metadata": {
  "kernelspec": {
   "display_name": "Python 3 (ipykernel)",
   "language": "python",
   "name": "python3"
  },
  "language_info": {
   "codemirror_mode": {
    "name": "ipython",
    "version": 3
   },
   "file_extension": ".py",
   "mimetype": "text/x-python",
   "name": "python",
   "nbconvert_exporter": "python",
   "pygments_lexer": "ipython3",
   "version": "3.9.13"
  }
 },
 "nbformat": 4,
 "nbformat_minor": 4
}
