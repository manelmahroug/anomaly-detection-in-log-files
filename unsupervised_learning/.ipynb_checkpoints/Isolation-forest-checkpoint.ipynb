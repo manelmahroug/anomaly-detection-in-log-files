{
 "cells": [
  {
   "cell_type": "markdown",
   "metadata": {},
   "source": [
    "# Imports"
   ]
  },
  {
   "cell_type": "code",
   "execution_count": 65,
   "metadata": {
    "execution": {
     "iopub.execute_input": "2023-07-17T20:06:24.809259Z",
     "iopub.status.busy": "2023-07-17T20:06:24.808861Z",
     "iopub.status.idle": "2023-07-17T20:06:24.818295Z",
     "shell.execute_reply": "2023-07-17T20:06:24.817507Z",
     "shell.execute_reply.started": "2023-07-17T20:06:24.809227Z"
    }
   },
   "outputs": [],
   "source": [
    "import csv\n",
    "import numpy as np\n",
    "import pandas as pd\n",
    "import seaborn as sns\n",
    "from sklearn.cluster import KMeans\n",
    "from sklearn.metrics import roc_auc_score, classification_report,\\\n",
    "accuracy_score, confusion_matrix , precision_score, recall_score\n",
    "from sklearn.metrics import completeness_score, homogeneity_score\n",
    "from sklearn.metrics import ConfusionMatrixDisplay\n",
    "from sklearn.metrics import PrecisionRecallDisplay\n",
    "from scipy.spatial.distance import cosine\n",
    "from sklearn.ensemble import IsolationForest\n",
    "import warnings\n",
    "import matplotlib.pyplot as plt\n",
    "import sys\n",
    "import subprocess\n",
    "import random\n",
    "\n",
    "\n",
    "warnings.filterwarnings(\"ignore\")\n",
    "pd.set_option('display.max_columns', None)\n",
    "pd.set_option('display.max_rows', None)\n",
    "from sklearn.feature_extraction.text import TfidfVectorizer\n",
    "from sklearn.preprocessing import LabelEncoder"
   ]
  },
  {
   "cell_type": "markdown",
   "metadata": {},
   "source": [
    "# Preprocessing"
   ]
  },
  {
   "cell_type": "code",
   "execution_count": 66,
   "metadata": {
    "execution": {
     "iopub.execute_input": "2023-07-17T20:06:37.965777Z",
     "iopub.status.busy": "2023-07-17T20:06:37.965357Z",
     "iopub.status.idle": "2023-07-17T20:06:37.973140Z",
     "shell.execute_reply": "2023-07-17T20:06:37.972085Z",
     "shell.execute_reply.started": "2023-07-17T20:06:37.965745Z"
    }
   },
   "outputs": [],
   "source": [
    "def read_csv(file_path,file,col):\n",
    "    df=pd.read_csv(file_path+\"/\"+file)\n",
    "    print(\"Input_data Shape:\",df.shape)\n",
    "    normal= df[col].value_counts()[0]\n",
    "    anomalous= df[col].value_counts()[1]\n",
    "    print(f\"There are {normal} normal logs and {anomalous} anomalous logs in this file\")\n",
    "    print(\"Their ratio is \"+ str(anomalous/normal))\n",
    "    sns.countplot(x=df[col])\n",
    "    plt.show()\n",
    "    return df"
   ]
  },
  {
   "cell_type": "markdown",
   "metadata": {},
   "source": [
    "## BGL Dataset"
   ]
  },
  {
   "cell_type": "code",
   "execution_count": 67,
   "metadata": {
    "execution": {
     "iopub.execute_input": "2023-07-17T20:06:49.955358Z",
     "iopub.status.busy": "2023-07-17T20:06:49.954887Z",
     "iopub.status.idle": "2023-07-17T20:06:50.409503Z",
     "shell.execute_reply": "2023-07-17T20:06:50.408476Z",
     "shell.execute_reply.started": "2023-07-17T20:06:49.955325Z"
    }
   },
   "outputs": [
    {
     "name": "stdout",
     "output_type": "stream",
     "text": [
      "Input_data Shape: (100000, 11)\n",
      "There are 92262 normal logs and 7738 anomalous logs in this file\n",
      "Their ratio is 0.08386984890854306\n"
     ]
    },
    {
     "data": {
      "image/png": "[encoded data removed]",
      "text/plain": [
       "<Figure size 640x480 with 1 Axes>"
      ]
     },
     "metadata": {},
     "output_type": "display_data"
    }
   ],
   "source": [
    "file_path=\"data/log_params\"\n",
    "file=\"BGL_all_params.csv\"\n",
    "col='label'\n",
    "BGL=read_csv(file_path,file,col)"
   ]
  },
  {
   "cell_type": "markdown",
   "metadata": {},
   "source": [
    "## Isolation Forest with params features"
   ]
  },
  {
   "cell_type": "code",
   "execution_count": 68,
   "metadata": {
    "execution": {
     "iopub.execute_input": "2023-07-17T20:06:54.819732Z",
     "iopub.status.busy": "2023-07-17T20:06:54.818623Z",
     "iopub.status.idle": "2023-07-17T20:06:54.838341Z",
     "shell.execute_reply": "2023-07-17T20:06:54.837253Z",
     "shell.execute_reply.started": "2023-07-17T20:06:54.819694Z"
    }
   },
   "outputs": [
    {
     "data": {
      "text/html": [
       "<div>\n",
       "<style scoped>\n",
       "    .dataframe tbody tr th:only-of-type {\n",
       "        vertical-align: middle;\n",
       "    }\n",
       "\n",
       "    .dataframe tbody tr th {\n",
       "        vertical-align: top;\n",
       "    }\n",
       "\n",
       "    .dataframe thead th {\n",
       "        text-align: right;\n",
       "    }\n",
       "</style>\n",
       "<table border=\"1\" class=\"dataframe\">\n",
       "  <thead>\n",
       "    <tr style=\"text-align: right;\">\n",
       "      <th></th>\n",
       "      <th>Unnamed: 0</th>\n",
       "      <th>timestamp</th>\n",
       "      <th>text</th>\n",
       "      <th>label</th>\n",
       "      <th>filename</th>\n",
       "      <th>clusters</th>\n",
       "      <th>p-15-0</th>\n",
       "      <th>p-15-1</th>\n",
       "      <th>p-16-0</th>\n",
       "      <th>p-16-1</th>\n",
       "      <th>p-17-0</th>\n",
       "    </tr>\n",
       "  </thead>\n",
       "  <tbody>\n",
       "    <tr>\n",
       "      <th>0</th>\n",
       "      <td>0</td>\n",
       "      <td>1.117868e+12</td>\n",
       "      <td>RAS LINKCARD INFO MidplaneSwitchController per...</td>\n",
       "      <td>False</td>\n",
       "      <td>R33-M1-L0-U22-C</td>\n",
       "      <td>15</td>\n",
       "      <td>NaN</td>\n",
       "      <td>NaN</td>\n",
       "      <td>NaN</td>\n",
       "      <td>NaN</td>\n",
       "      <td>NaN</td>\n",
       "    </tr>\n",
       "    <tr>\n",
       "      <th>1</th>\n",
       "      <td>1</td>\n",
       "      <td>1.117868e+12</td>\n",
       "      <td>RAS LINKCARD INFO MidplaneSwitchController per...</td>\n",
       "      <td>False</td>\n",
       "      <td>R27-M1-L3-U18-C</td>\n",
       "      <td>15</td>\n",
       "      <td>NaN</td>\n",
       "      <td>NaN</td>\n",
       "      <td>NaN</td>\n",
       "      <td>NaN</td>\n",
       "      <td>NaN</td>\n",
       "    </tr>\n",
       "    <tr>\n",
       "      <th>2</th>\n",
       "      <td>2</td>\n",
       "      <td>1.117869e+12</td>\n",
       "      <td>RAS LINKCARD INFO MidplaneSwitchController per...</td>\n",
       "      <td>False</td>\n",
       "      <td>R33-M1-L0-U22-C</td>\n",
       "      <td>15</td>\n",
       "      <td>NaN</td>\n",
       "      <td>NaN</td>\n",
       "      <td>NaN</td>\n",
       "      <td>NaN</td>\n",
       "      <td>NaN</td>\n",
       "    </tr>\n",
       "    <tr>\n",
       "      <th>3</th>\n",
       "      <td>3</td>\n",
       "      <td>1.117869e+12</td>\n",
       "      <td>RAS LINKCARD INFO MidplaneSwitchController per...</td>\n",
       "      <td>False</td>\n",
       "      <td>R27-M1-L3-U18-C</td>\n",
       "      <td>15</td>\n",
       "      <td>NaN</td>\n",
       "      <td>NaN</td>\n",
       "      <td>NaN</td>\n",
       "      <td>NaN</td>\n",
       "      <td>NaN</td>\n",
       "    </tr>\n",
       "    <tr>\n",
       "      <th>4</th>\n",
       "      <td>4</td>\n",
       "      <td>1.117870e+12</td>\n",
       "      <td>RAS APP FATAL ciod: LOGIN chdir(/p/gb2/draeger...</td>\n",
       "      <td>False</td>\n",
       "      <td>R23-M0-N4-I:J18-U11</td>\n",
       "      <td>16</td>\n",
       "      <td>NaN</td>\n",
       "      <td>NaN</td>\n",
       "      <td>NaN</td>\n",
       "      <td>NaN</td>\n",
       "      <td>NaN</td>\n",
       "    </tr>\n",
       "  </tbody>\n",
       "</table>\n",
       "</div>"
      ],
      "text/plain": [
       "   Unnamed: 0     timestamp  \\\n",
       "0           0  1.117868e+12   \n",
       "1           1  1.117868e+12   \n",
       "2           2  1.117869e+12   \n",
       "3           3  1.117869e+12   \n",
       "4           4  1.117870e+12   \n",
       "\n",
       "                                                text  label  \\\n",
       "0  RAS LINKCARD INFO MidplaneSwitchController per...  False   \n",
       "1  RAS LINKCARD INFO MidplaneSwitchController per...  False   \n",
       "2  RAS LINKCARD INFO MidplaneSwitchController per...  False   \n",
       "3  RAS LINKCARD INFO MidplaneSwitchController per...  False   \n",
       "4  RAS APP FATAL ciod: LOGIN chdir(/p/gb2/draeger...  False   \n",
       "\n",
       "              filename  clusters  p-15-0  p-15-1  p-16-0  p-16-1  p-17-0  \n",
       "0      R33-M1-L0-U22-C        15     NaN     NaN     NaN     NaN     NaN  \n",
       "1      R27-M1-L3-U18-C        15     NaN     NaN     NaN     NaN     NaN  \n",
       "2      R33-M1-L0-U22-C        15     NaN     NaN     NaN     NaN     NaN  \n",
       "3      R27-M1-L3-U18-C        15     NaN     NaN     NaN     NaN     NaN  \n",
       "4  R23-M0-N4-I:J18-U11        16     NaN     NaN     NaN     NaN     NaN  "
      ]
     },
     "execution_count": 68,
     "metadata": {},
     "output_type": "execute_result"
    }
   ],
   "source": [
    "BGL.head()"
   ]
  },
  {
   "cell_type": "code",
   "execution_count": 69,
   "metadata": {
    "execution": {
     "iopub.execute_input": "2023-07-17T20:07:28.766490Z",
     "iopub.status.busy": "2023-07-17T20:07:28.766083Z",
     "iopub.status.idle": "2023-07-17T20:07:28.793226Z",
     "shell.execute_reply": "2023-07-17T20:07:28.792148Z",
     "shell.execute_reply.started": "2023-07-17T20:07:28.766455Z"
    }
   },
   "outputs": [],
   "source": [
    "le = LabelEncoder()\n",
    "BGL['label'] = le.fit_transform(BGL['label']) # false:0 and true:1\n",
    "one_hot_encoded_BGL = pd.get_dummies(BGL['clusters'])\n",
    "labels= BGL['label']"
   ]
  },
  {
   "cell_type": "code",
   "execution_count": 70,
   "metadata": {
    "execution": {
     "iopub.execute_input": "2023-07-17T20:08:02.854503Z",
     "iopub.status.busy": "2023-07-17T20:08:02.853432Z",
     "iopub.status.idle": "2023-07-17T20:08:02.869922Z",
     "shell.execute_reply": "2023-07-17T20:08:02.868621Z",
     "shell.execute_reply.started": "2023-07-17T20:08:02.854456Z"
    }
   },
   "outputs": [],
   "source": [
    "for col in one_hot_encoded_BGL.columns:\n",
    "    col_name= \"c\"+str(col)\n",
    "    BGL[col_name]=one_hot_encoded_BGL[col]"
   ]
  },
  {
   "cell_type": "code",
   "execution_count": 71,
   "metadata": {
    "execution": {
     "iopub.execute_input": "2023-07-17T20:08:06.084288Z",
     "iopub.status.busy": "2023-07-17T20:08:06.083851Z",
     "iopub.status.idle": "2023-07-17T20:08:06.114097Z",
     "shell.execute_reply": "2023-07-17T20:08:06.112949Z",
     "shell.execute_reply.started": "2023-07-17T20:08:06.084249Z"
    }
   },
   "outputs": [],
   "source": [
    "BGL.drop(columns=['clusters','Unnamed: 0','timestamp','text','label','filename'], inplace=True)"
   ]
  },
  {
   "cell_type": "code",
   "execution_count": 72,
   "metadata": {
    "execution": {
     "iopub.execute_input": "2023-07-17T20:08:08.465775Z",
     "iopub.status.busy": "2023-07-17T20:08:08.465355Z",
     "iopub.status.idle": "2023-07-17T20:08:08.482021Z",
     "shell.execute_reply": "2023-07-17T20:08:08.480855Z",
     "shell.execute_reply.started": "2023-07-17T20:08:08.465738Z"
    }
   },
   "outputs": [],
   "source": [
    "BGL.fillna(0,inplace=True)"
   ]
  },
  {
   "cell_type": "code",
   "execution_count": 73,
   "metadata": {
    "execution": {
     "iopub.execute_input": "2023-07-17T20:08:11.472564Z",
     "iopub.status.busy": "2023-07-17T20:08:11.472174Z",
     "iopub.status.idle": "2023-07-17T20:08:11.494468Z",
     "shell.execute_reply": "2023-07-17T20:08:11.493256Z",
     "shell.execute_reply.started": "2023-07-17T20:08:11.472535Z"
    }
   },
   "outputs": [
    {
     "data": {
      "text/html": [
       "<div>\n",
       "<style scoped>\n",
       "    .dataframe tbody tr th:only-of-type {\n",
       "        vertical-align: middle;\n",
       "    }\n",
       "\n",
       "    .dataframe tbody tr th {\n",
       "        vertical-align: top;\n",
       "    }\n",
       "\n",
       "    .dataframe thead th {\n",
       "        text-align: right;\n",
       "    }\n",
       "</style>\n",
       "<table border=\"1\" class=\"dataframe\">\n",
       "  <thead>\n",
       "    <tr style=\"text-align: right;\">\n",
       "      <th></th>\n",
       "      <th>p-15-0</th>\n",
       "      <th>p-15-1</th>\n",
       "      <th>p-16-0</th>\n",
       "      <th>p-16-1</th>\n",
       "      <th>p-17-0</th>\n",
       "      <th>c0</th>\n",
       "      <th>c1</th>\n",
       "      <th>c2</th>\n",
       "      <th>c3</th>\n",
       "      <th>c4</th>\n",
       "      <th>c5</th>\n",
       "      <th>c6</th>\n",
       "      <th>c7</th>\n",
       "      <th>c8</th>\n",
       "      <th>c9</th>\n",
       "      <th>c10</th>\n",
       "      <th>c11</th>\n",
       "      <th>c12</th>\n",
       "      <th>c13</th>\n",
       "      <th>c14</th>\n",
       "      <th>c15</th>\n",
       "      <th>c16</th>\n",
       "      <th>c17</th>\n",
       "      <th>c18</th>\n",
       "      <th>c19</th>\n",
       "    </tr>\n",
       "  </thead>\n",
       "  <tbody>\n",
       "    <tr>\n",
       "      <th>0</th>\n",
       "      <td>0.0</td>\n",
       "      <td>0.0</td>\n",
       "      <td>0.0</td>\n",
       "      <td>0.0</td>\n",
       "      <td>0.0</td>\n",
       "      <td>0</td>\n",
       "      <td>0</td>\n",
       "      <td>0</td>\n",
       "      <td>0</td>\n",
       "      <td>0</td>\n",
       "      <td>0</td>\n",
       "      <td>0</td>\n",
       "      <td>0</td>\n",
       "      <td>0</td>\n",
       "      <td>0</td>\n",
       "      <td>0</td>\n",
       "      <td>0</td>\n",
       "      <td>0</td>\n",
       "      <td>0</td>\n",
       "      <td>0</td>\n",
       "      <td>1</td>\n",
       "      <td>0</td>\n",
       "      <td>0</td>\n",
       "      <td>0</td>\n",
       "      <td>0</td>\n",
       "    </tr>\n",
       "    <tr>\n",
       "      <th>1</th>\n",
       "      <td>0.0</td>\n",
       "      <td>0.0</td>\n",
       "      <td>0.0</td>\n",
       "      <td>0.0</td>\n",
       "      <td>0.0</td>\n",
       "      <td>0</td>\n",
       "      <td>0</td>\n",
       "      <td>0</td>\n",
       "      <td>0</td>\n",
       "      <td>0</td>\n",
       "      <td>0</td>\n",
       "      <td>0</td>\n",
       "      <td>0</td>\n",
       "      <td>0</td>\n",
       "      <td>0</td>\n",
       "      <td>0</td>\n",
       "      <td>0</td>\n",
       "      <td>0</td>\n",
       "      <td>0</td>\n",
       "      <td>0</td>\n",
       "      <td>1</td>\n",
       "      <td>0</td>\n",
       "      <td>0</td>\n",
       "      <td>0</td>\n",
       "      <td>0</td>\n",
       "    </tr>\n",
       "    <tr>\n",
       "      <th>2</th>\n",
       "      <td>0.0</td>\n",
       "      <td>0.0</td>\n",
       "      <td>0.0</td>\n",
       "      <td>0.0</td>\n",
       "      <td>0.0</td>\n",
       "      <td>0</td>\n",
       "      <td>0</td>\n",
       "      <td>0</td>\n",
       "      <td>0</td>\n",
       "      <td>0</td>\n",
       "      <td>0</td>\n",
       "      <td>0</td>\n",
       "      <td>0</td>\n",
       "      <td>0</td>\n",
       "      <td>0</td>\n",
       "      <td>0</td>\n",
       "      <td>0</td>\n",
       "      <td>0</td>\n",
       "      <td>0</td>\n",
       "      <td>0</td>\n",
       "      <td>1</td>\n",
       "      <td>0</td>\n",
       "      <td>0</td>\n",
       "      <td>0</td>\n",
       "      <td>0</td>\n",
       "    </tr>\n",
       "    <tr>\n",
       "      <th>3</th>\n",
       "      <td>0.0</td>\n",
       "      <td>0.0</td>\n",
       "      <td>0.0</td>\n",
       "      <td>0.0</td>\n",
       "      <td>0.0</td>\n",
       "      <td>0</td>\n",
       "      <td>0</td>\n",
       "      <td>0</td>\n",
       "      <td>0</td>\n",
       "      <td>0</td>\n",
       "      <td>0</td>\n",
       "      <td>0</td>\n",
       "      <td>0</td>\n",
       "      <td>0</td>\n",
       "      <td>0</td>\n",
       "      <td>0</td>\n",
       "      <td>0</td>\n",
       "      <td>0</td>\n",
       "      <td>0</td>\n",
       "      <td>0</td>\n",
       "      <td>1</td>\n",
       "      <td>0</td>\n",
       "      <td>0</td>\n",
       "      <td>0</td>\n",
       "      <td>0</td>\n",
       "    </tr>\n",
       "    <tr>\n",
       "      <th>4</th>\n",
       "      <td>0.0</td>\n",
       "      <td>0.0</td>\n",
       "      <td>0.0</td>\n",
       "      <td>0.0</td>\n",
       "      <td>0.0</td>\n",
       "      <td>0</td>\n",
       "      <td>0</td>\n",
       "      <td>0</td>\n",
       "      <td>0</td>\n",
       "      <td>0</td>\n",
       "      <td>0</td>\n",
       "      <td>0</td>\n",
       "      <td>0</td>\n",
       "      <td>0</td>\n",
       "      <td>0</td>\n",
       "      <td>0</td>\n",
       "      <td>0</td>\n",
       "      <td>0</td>\n",
       "      <td>0</td>\n",
       "      <td>0</td>\n",
       "      <td>0</td>\n",
       "      <td>1</td>\n",
       "      <td>0</td>\n",
       "      <td>0</td>\n",
       "      <td>0</td>\n",
       "    </tr>\n",
       "  </tbody>\n",
       "</table>\n",
       "</div>"
      ],
      "text/plain": [
       "   p-15-0  p-15-1  p-16-0  p-16-1  p-17-0  c0  c1  c2  c3  c4  c5  c6  c7  c8  \\\n",
       "0     0.0     0.0     0.0     0.0     0.0   0   0   0   0   0   0   0   0   0   \n",
       "1     0.0     0.0     0.0     0.0     0.0   0   0   0   0   0   0   0   0   0   \n",
       "2     0.0     0.0     0.0     0.0     0.0   0   0   0   0   0   0   0   0   0   \n",
       "3     0.0     0.0     0.0     0.0     0.0   0   0   0   0   0   0   0   0   0   \n",
       "4     0.0     0.0     0.0     0.0     0.0   0   0   0   0   0   0   0   0   0   \n",
       "\n",
       "   c9  c10  c11  c12  c13  c14  c15  c16  c17  c18  c19  \n",
       "0   0    0    0    0    0    0    1    0    0    0    0  \n",
       "1   0    0    0    0    0    0    1    0    0    0    0  \n",
       "2   0    0    0    0    0    0    1    0    0    0    0  \n",
       "3   0    0    0    0    0    0    1    0    0    0    0  \n",
       "4   0    0    0    0    0    0    0    1    0    0    0  "
      ]
     },
     "execution_count": 73,
     "metadata": {},
     "output_type": "execute_result"
    }
   ],
   "source": [
    "BGL.head()"
   ]
  },
  {
   "cell_type": "code",
   "execution_count": 74,
   "metadata": {
    "execution": {
     "iopub.execute_input": "2023-07-17T20:08:15.317309Z",
     "iopub.status.busy": "2023-07-17T20:08:15.316908Z",
     "iopub.status.idle": "2023-07-17T20:08:15.652271Z",
     "shell.execute_reply": "2023-07-17T20:08:15.651267Z",
     "shell.execute_reply.started": "2023-07-17T20:08:15.317276Z"
    }
   },
   "outputs": [
    {
     "data": {
      "text/html": [
       "<style>#sk-container-id-5 {color: black;background-color: white;}#sk-container-id-5 pre{padding: 0;}#sk-container-id-5 div.sk-toggleable {background-color: white;}#sk-container-id-5 label.sk-toggleable__label {cursor: pointer;display: block;width: 100%;margin-bottom: 0;padding: 0.3em;box-sizing: border-box;text-align: center;}#sk-container-id-5 label.sk-toggleable__label-arrow:before {content: \"▸\";float: left;margin-right: 0.25em;color: #696969;}#sk-container-id-5 label.sk-toggleable__label-arrow:hover:before {color: black;}#sk-container-id-5 div.sk-estimator:hover label.sk-toggleable__label-arrow:before {color: black;}#sk-container-id-5 div.sk-toggleable__content {max-height: 0;max-width: 0;overflow: hidden;text-align: left;background-color: #f0f8ff;}#sk-container-id-5 div.sk-toggleable__content pre {margin: 0.2em;color: black;border-radius: 0.25em;background-color: #f0f8ff;}#sk-container-id-5 input.sk-toggleable__control:checked~div.sk-toggleable__content {max-height: 200px;max-width: 100%;overflow: auto;}#sk-container-id-5 input.sk-toggleable__control:checked~label.sk-toggleable__label-arrow:before {content: \"▾\";}#sk-container-id-5 div.sk-estimator input.sk-toggleable__control:checked~label.sk-toggleable__label {background-color: #d4ebff;}#sk-container-id-5 div.sk-label input.sk-toggleable__control:checked~label.sk-toggleable__label {background-color: #d4ebff;}#sk-container-id-5 input.sk-hidden--visually {border: 0;clip: rect(1px 1px 1px 1px);clip: rect(1px, 1px, 1px, 1px);height: 1px;margin: -1px;overflow: hidden;padding: 0;position: absolute;width: 1px;}#sk-container-id-5 div.sk-estimator {font-family: monospace;background-color: #f0f8ff;border: 1px dotted black;border-radius: 0.25em;box-sizing: border-box;margin-bottom: 0.5em;}#sk-container-id-5 div.sk-estimator:hover {background-color: #d4ebff;}#sk-container-id-5 div.sk-parallel-item::after {content: \"\";width: 100%;border-bottom: 1px solid gray;flex-grow: 1;}#sk-container-id-5 div.sk-label:hover label.sk-toggleable__label {background-color: #d4ebff;}#sk-container-id-5 div.sk-serial::before {content: \"\";position: absolute;border-left: 1px solid gray;box-sizing: border-box;top: 0;bottom: 0;left: 50%;z-index: 0;}#sk-container-id-5 div.sk-serial {display: flex;flex-direction: column;align-items: center;background-color: white;padding-right: 0.2em;padding-left: 0.2em;position: relative;}#sk-container-id-5 div.sk-item {position: relative;z-index: 1;}#sk-container-id-5 div.sk-parallel {display: flex;align-items: stretch;justify-content: center;background-color: white;position: relative;}#sk-container-id-5 div.sk-item::before, #sk-container-id-5 div.sk-parallel-item::before {content: \"\";position: absolute;border-left: 1px solid gray;box-sizing: border-box;top: 0;bottom: 0;left: 50%;z-index: -1;}#sk-container-id-5 div.sk-parallel-item {display: flex;flex-direction: column;z-index: 1;position: relative;background-color: white;}#sk-container-id-5 div.sk-parallel-item:first-child::after {align-self: flex-end;width: 50%;}#sk-container-id-5 div.sk-parallel-item:last-child::after {align-self: flex-start;width: 50%;}#sk-container-id-5 div.sk-parallel-item:only-child::after {width: 0;}#sk-container-id-5 div.sk-dashed-wrapped {border: 1px dashed gray;margin: 0 0.4em 0.5em 0.4em;box-sizing: border-box;padding-bottom: 0.4em;background-color: white;}#sk-container-id-5 div.sk-label label {font-family: monospace;font-weight: bold;display: inline-block;line-height: 1.2em;}#sk-container-id-5 div.sk-label-container {text-align: center;}#sk-container-id-5 div.sk-container {/* jupyter's `normalize.less` sets `[hidden] { display: none; }` but bootstrap.min.css set `[hidden] { display: none !important; }` so we also need the `!important` here to be able to override the default hidden behavior on the sphinx rendered scikit-learn.org. See: https://github.com/scikit-learn/scikit-learn/issues/21755 */display: inline-block !important;position: relative;}#sk-container-id-5 div.sk-text-repr-fallback {display: none;}</style><div id=\"sk-container-id-5\" class=\"sk-top-container\"><div class=\"sk-text-repr-fallback\"><pre>IsolationForest()</pre><b>In a Jupyter environment, please rerun this cell to show the HTML representation or trust the notebook. <br />On GitHub, the HTML representation is unable to render, please try loading this page with nbviewer.org.</b></div><div class=\"sk-container\" hidden><div class=\"sk-item\"><div class=\"sk-estimator sk-toggleable\"><input class=\"sk-toggleable__control sk-hidden--visually\" id=\"sk-estimator-id-5\" type=\"checkbox\" checked><label for=\"sk-estimator-id-5\" class=\"sk-toggleable__label sk-toggleable__label-arrow\">IsolationForest</label><div class=\"sk-toggleable__content\"><pre>IsolationForest()</pre></div></div></div></div></div>"
      ],
      "text/plain": [
       "IsolationForest()"
      ]
     },
     "execution_count": 74,
     "metadata": {},
     "output_type": "execute_result"
    }
   ],
   "source": [
    "#initialize model\n",
    "random_state = np.random.RandomState(42)\n",
    "model=IsolationForest()\n",
    "\n",
    "model.fit(BGL)\n",
    "\n",
    "#print(model.get_params())"
   ]
  },
  {
   "cell_type": "code",
   "execution_count": 75,
   "metadata": {
    "execution": {
     "iopub.execute_input": "2023-07-17T20:08:19.719629Z",
     "iopub.status.busy": "2023-07-17T20:08:19.719245Z",
     "iopub.status.idle": "2023-07-17T20:08:21.964716Z",
     "shell.execute_reply": "2023-07-17T20:08:21.963572Z",
     "shell.execute_reply.started": "2023-07-17T20:08:19.719596Z"
    }
   },
   "outputs": [],
   "source": [
    "BGL['anomaly_score'] = model.predict(BGL) #column to hold predictions"
   ]
  },
  {
   "cell_type": "code",
   "execution_count": 76,
   "metadata": {
    "execution": {
     "iopub.execute_input": "2023-07-17T20:08:25.329593Z",
     "iopub.status.busy": "2023-07-17T20:08:25.329189Z",
     "iopub.status.idle": "2023-07-17T20:08:25.336025Z",
     "shell.execute_reply": "2023-07-17T20:08:25.334889Z",
     "shell.execute_reply.started": "2023-07-17T20:08:25.329559Z"
    }
   },
   "outputs": [],
   "source": [
    "BGL['labels']=labels #add labels to get accuracy"
   ]
  },
  {
   "cell_type": "code",
   "execution_count": 77,
   "metadata": {
    "execution": {
     "iopub.execute_input": "2023-07-17T20:08:36.403692Z",
     "iopub.status.busy": "2023-07-17T20:08:36.403313Z",
     "iopub.status.idle": "2023-07-17T20:08:36.413119Z",
     "shell.execute_reply": "2023-07-17T20:08:36.412022Z",
     "shell.execute_reply.started": "2023-07-17T20:08:36.403663Z"
    }
   },
   "outputs": [
    {
     "data": {
      "text/plain": [
       "1    100000\n",
       "Name: anomaly_score, dtype: int64"
      ]
     },
     "execution_count": 77,
     "metadata": {},
     "output_type": "execute_result"
    }
   ],
   "source": [
    "BGL['anomaly_score'].value_counts()"
   ]
  },
  {
   "cell_type": "code",
   "execution_count": 78,
   "metadata": {
    "execution": {
     "iopub.execute_input": "2023-07-17T20:08:41.762314Z",
     "iopub.status.busy": "2023-07-17T20:08:41.761908Z",
     "iopub.status.idle": "2023-07-17T20:08:41.770856Z",
     "shell.execute_reply": "2023-07-17T20:08:41.769605Z",
     "shell.execute_reply.started": "2023-07-17T20:08:41.762279Z"
    }
   },
   "outputs": [
    {
     "name": "stdout",
     "output_type": "stream",
     "text": [
      "The number of rows that meet the conditions:  0\n"
     ]
    }
   ],
   "source": [
    "condition1= BGL['labels']==0\n",
    "condition2= BGL['anomaly_score']==-1\n",
    "count=(condition1&condition2).sum()\n",
    "print(\"The number of rows that meet the conditions: \",count)"
   ]
  },
  {
   "cell_type": "markdown",
   "metadata": {},
   "source": [
    "## Isolation Forest with tf-idf features"
   ]
  },
  {
   "cell_type": "code",
   "execution_count": 79,
   "metadata": {
    "execution": {
     "iopub.execute_input": "2023-07-17T20:08:46.821284Z",
     "iopub.status.busy": "2023-07-17T20:08:46.820890Z",
     "iopub.status.idle": "2023-07-17T20:08:47.490765Z",
     "shell.execute_reply": "2023-07-17T20:08:47.489685Z",
     "shell.execute_reply.started": "2023-07-17T20:08:46.821250Z"
    }
   },
   "outputs": [],
   "source": [
    "BGL_tfidf=pd.read_csv(\"data/log_params/BGL_all_params.csv\") "
   ]
  },
  {
   "cell_type": "code",
   "execution_count": 80,
   "metadata": {
    "execution": {
     "iopub.execute_input": "2023-07-17T20:08:50.029546Z",
     "iopub.status.busy": "2023-07-17T20:08:50.029131Z",
     "iopub.status.idle": "2023-07-17T20:08:50.089715Z",
     "shell.execute_reply": "2023-07-17T20:08:50.088903Z",
     "shell.execute_reply.started": "2023-07-17T20:08:50.029513Z"
    }
   },
   "outputs": [
    {
     "data": {
      "text/html": [
       "<div>\n",
       "<style scoped>\n",
       "    .dataframe tbody tr th:only-of-type {\n",
       "        vertical-align: middle;\n",
       "    }\n",
       "\n",
       "    .dataframe tbody tr th {\n",
       "        vertical-align: top;\n",
       "    }\n",
       "\n",
       "    .dataframe thead th {\n",
       "        text-align: right;\n",
       "    }\n",
       "</style>\n",
       "<table border=\"1\" class=\"dataframe\">\n",
       "  <thead>\n",
       "    <tr style=\"text-align: right;\">\n",
       "      <th></th>\n",
       "      <th>Unnamed: 0</th>\n",
       "      <th>timestamp</th>\n",
       "      <th>text</th>\n",
       "      <th>label</th>\n",
       "      <th>filename</th>\n",
       "      <th>clusters</th>\n",
       "      <th>tfidf_text</th>\n",
       "      <th>p-0-0</th>\n",
       "      <th>p-2-0</th>\n",
       "      <th>p-3-0</th>\n",
       "      <th>p-3-1</th>\n",
       "      <th>p-3-2</th>\n",
       "      <th>p-3-3</th>\n",
       "      <th>p-3-4</th>\n",
       "      <th>p-3-5</th>\n",
       "      <th>p-3-6</th>\n",
       "      <th>p-3-7</th>\n",
       "      <th>p-3-8</th>\n",
       "      <th>p-3-9</th>\n",
       "      <th>p-3-10</th>\n",
       "      <th>p-3-11</th>\n",
       "      <th>p-3-12</th>\n",
       "      <th>p-3-13</th>\n",
       "      <th>p-3-14</th>\n",
       "      <th>p-3-15</th>\n",
       "      <th>p-3-16</th>\n",
       "      <th>p-3-17</th>\n",
       "      <th>p-3-18</th>\n",
       "      <th>p-3-19</th>\n",
       "      <th>p-3-20</th>\n",
       "      <th>p-3-21</th>\n",
       "      <th>p-3-22</th>\n",
       "      <th>p-4-0</th>\n",
       "      <th>p-4-1</th>\n",
       "      <th>p-4-2</th>\n",
       "      <th>p-4-3</th>\n",
       "      <th>p-4-4</th>\n",
       "      <th>p-4-5</th>\n",
       "      <th>p-4-6</th>\n",
       "      <th>p-4-7</th>\n",
       "      <th>p-4-8</th>\n",
       "      <th>p-7-0</th>\n",
       "      <th>p-7-1</th>\n",
       "      <th>p-7-2</th>\n",
       "      <th>p-7-3</th>\n",
       "      <th>p-7-4</th>\n",
       "      <th>p-7-5</th>\n",
       "      <th>p-8-0</th>\n",
       "      <th>p-8-1</th>\n",
       "      <th>p-9-0</th>\n",
       "      <th>p-12-0</th>\n",
       "      <th>p-12-1</th>\n",
       "      <th>p-12-2</th>\n",
       "      <th>p-13-0</th>\n",
       "      <th>p-14-0</th>\n",
       "      <th>p-14-1</th>\n",
       "      <th>p-14-2</th>\n",
       "      <th>p-14-3</th>\n",
       "      <th>p-14-4</th>\n",
       "      <th>p-14-5</th>\n",
       "      <th>p-14-6</th>\n",
       "      <th>p-14-7</th>\n",
       "      <th>p-15-0</th>\n",
       "      <th>p-16-0</th>\n",
       "      <th>p-18-0</th>\n",
       "      <th>p-18-1</th>\n",
       "      <th>p-19-0</th>\n",
       "      <th>p-19-1</th>\n",
       "      <th>p-19-2</th>\n",
       "      <th>p-19-3</th>\n",
       "      <th>p-19-4</th>\n",
       "      <th>p-19-5</th>\n",
       "      <th>p-21-0</th>\n",
       "      <th>p-21-1</th>\n",
       "      <th>p-21-2</th>\n",
       "      <th>p-21-3</th>\n",
       "      <th>p-21-4</th>\n",
       "      <th>p-21-5</th>\n",
       "      <th>p-21-6</th>\n",
       "      <th>p-21-7</th>\n",
       "      <th>p-21-8</th>\n",
       "      <th>p-21-9</th>\n",
       "      <th>p-25-0</th>\n",
       "    </tr>\n",
       "  </thead>\n",
       "  <tbody>\n",
       "    <tr>\n",
       "      <th>0</th>\n",
       "      <td>0</td>\n",
       "      <td>1.117955e+12</td>\n",
       "      <td>RAS KERNEL INFO generating core.4003</td>\n",
       "      <td>False</td>\n",
       "      <td>R20-M0-N1-C:J02-U01</td>\n",
       "      <td>10</td>\n",
       "      <td>RAS KERNEL INFO generating</td>\n",
       "      <td>NaN</td>\n",
       "      <td>NaN</td>\n",
       "      <td>NaN</td>\n",
       "      <td>NaN</td>\n",
       "      <td>NaN</td>\n",
       "      <td>NaN</td>\n",
       "      <td>NaN</td>\n",
       "      <td>NaN</td>\n",
       "      <td>NaN</td>\n",
       "      <td>NaN</td>\n",
       "      <td>NaN</td>\n",
       "      <td>NaN</td>\n",
       "      <td>NaN</td>\n",
       "      <td>NaN</td>\n",
       "      <td>NaN</td>\n",
       "      <td>NaN</td>\n",
       "      <td>NaN</td>\n",
       "      <td>NaN</td>\n",
       "      <td>NaN</td>\n",
       "      <td>NaN</td>\n",
       "      <td>NaN</td>\n",
       "      <td>NaN</td>\n",
       "      <td>NaN</td>\n",
       "      <td>NaN</td>\n",
       "      <td>NaN</td>\n",
       "      <td>NaN</td>\n",
       "      <td>NaN</td>\n",
       "      <td>NaN</td>\n",
       "      <td>NaN</td>\n",
       "      <td>NaN</td>\n",
       "      <td>NaN</td>\n",
       "      <td>NaN</td>\n",
       "      <td>NaN</td>\n",
       "      <td>NaN</td>\n",
       "      <td>NaN</td>\n",
       "      <td>NaN</td>\n",
       "      <td>NaN</td>\n",
       "      <td>NaN</td>\n",
       "      <td>NaN</td>\n",
       "      <td>NaN</td>\n",
       "      <td>NaN</td>\n",
       "      <td>NaN</td>\n",
       "      <td>NaN</td>\n",
       "      <td>NaN</td>\n",
       "      <td>NaN</td>\n",
       "      <td>NaN</td>\n",
       "      <td>NaN</td>\n",
       "      <td>NaN</td>\n",
       "      <td>NaN</td>\n",
       "      <td>NaN</td>\n",
       "      <td>NaN</td>\n",
       "      <td>NaN</td>\n",
       "      <td>NaN</td>\n",
       "      <td>NaN</td>\n",
       "      <td>NaN</td>\n",
       "      <td>NaN</td>\n",
       "      <td>NaN</td>\n",
       "      <td>NaN</td>\n",
       "      <td>NaN</td>\n",
       "      <td>NaN</td>\n",
       "      <td>NaN</td>\n",
       "      <td>NaN</td>\n",
       "      <td>NaN</td>\n",
       "      <td>NaN</td>\n",
       "      <td>NaN</td>\n",
       "      <td>NaN</td>\n",
       "      <td>NaN</td>\n",
       "      <td>NaN</td>\n",
       "      <td>NaN</td>\n",
       "      <td>NaN</td>\n",
       "      <td>NaN</td>\n",
       "      <td>NaN</td>\n",
       "      <td>NaN</td>\n",
       "      <td>NaN</td>\n",
       "      <td>NaN</td>\n",
       "      <td>NaN</td>\n",
       "    </tr>\n",
       "    <tr>\n",
       "      <th>1</th>\n",
       "      <td>1</td>\n",
       "      <td>1.117955e+12</td>\n",
       "      <td>RAS KERNEL INFO generating core.4011</td>\n",
       "      <td>False</td>\n",
       "      <td>R20-M0-N1-C:J02-U11</td>\n",
       "      <td>10</td>\n",
       "      <td>RAS KERNEL INFO generating</td>\n",
       "      <td>NaN</td>\n",
       "      <td>NaN</td>\n",
       "      <td>NaN</td>\n",
       "      <td>NaN</td>\n",
       "      <td>NaN</td>\n",
       "      <td>NaN</td>\n",
       "      <td>NaN</td>\n",
       "      <td>NaN</td>\n",
       "      <td>NaN</td>\n",
       "      <td>NaN</td>\n",
       "      <td>NaN</td>\n",
       "      <td>NaN</td>\n",
       "      <td>NaN</td>\n",
       "      <td>NaN</td>\n",
       "      <td>NaN</td>\n",
       "      <td>NaN</td>\n",
       "      <td>NaN</td>\n",
       "      <td>NaN</td>\n",
       "      <td>NaN</td>\n",
       "      <td>NaN</td>\n",
       "      <td>NaN</td>\n",
       "      <td>NaN</td>\n",
       "      <td>NaN</td>\n",
       "      <td>NaN</td>\n",
       "      <td>NaN</td>\n",
       "      <td>NaN</td>\n",
       "      <td>NaN</td>\n",
       "      <td>NaN</td>\n",
       "      <td>NaN</td>\n",
       "      <td>NaN</td>\n",
       "      <td>NaN</td>\n",
       "      <td>NaN</td>\n",
       "      <td>NaN</td>\n",
       "      <td>NaN</td>\n",
       "      <td>NaN</td>\n",
       "      <td>NaN</td>\n",
       "      <td>NaN</td>\n",
       "      <td>NaN</td>\n",
       "      <td>NaN</td>\n",
       "      <td>NaN</td>\n",
       "      <td>NaN</td>\n",
       "      <td>NaN</td>\n",
       "      <td>NaN</td>\n",
       "      <td>NaN</td>\n",
       "      <td>NaN</td>\n",
       "      <td>NaN</td>\n",
       "      <td>NaN</td>\n",
       "      <td>NaN</td>\n",
       "      <td>NaN</td>\n",
       "      <td>NaN</td>\n",
       "      <td>NaN</td>\n",
       "      <td>NaN</td>\n",
       "      <td>NaN</td>\n",
       "      <td>NaN</td>\n",
       "      <td>NaN</td>\n",
       "      <td>NaN</td>\n",
       "      <td>NaN</td>\n",
       "      <td>NaN</td>\n",
       "      <td>NaN</td>\n",
       "      <td>NaN</td>\n",
       "      <td>NaN</td>\n",
       "      <td>NaN</td>\n",
       "      <td>NaN</td>\n",
       "      <td>NaN</td>\n",
       "      <td>NaN</td>\n",
       "      <td>NaN</td>\n",
       "      <td>NaN</td>\n",
       "      <td>NaN</td>\n",
       "      <td>NaN</td>\n",
       "      <td>NaN</td>\n",
       "      <td>NaN</td>\n",
       "      <td>NaN</td>\n",
       "      <td>NaN</td>\n",
       "      <td>NaN</td>\n",
       "      <td>NaN</td>\n",
       "      <td>NaN</td>\n",
       "    </tr>\n",
       "    <tr>\n",
       "      <th>2</th>\n",
       "      <td>2</td>\n",
       "      <td>1.117955e+12</td>\n",
       "      <td>RAS KERNEL INFO generating core.3162</td>\n",
       "      <td>False</td>\n",
       "      <td>R24-M0-NF-C:J09-U11</td>\n",
       "      <td>10</td>\n",
       "      <td>RAS KERNEL INFO generating</td>\n",
       "      <td>NaN</td>\n",
       "      <td>NaN</td>\n",
       "      <td>NaN</td>\n",
       "      <td>NaN</td>\n",
       "      <td>NaN</td>\n",
       "      <td>NaN</td>\n",
       "      <td>NaN</td>\n",
       "      <td>NaN</td>\n",
       "      <td>NaN</td>\n",
       "      <td>NaN</td>\n",
       "      <td>NaN</td>\n",
       "      <td>NaN</td>\n",
       "      <td>NaN</td>\n",
       "      <td>NaN</td>\n",
       "      <td>NaN</td>\n",
       "      <td>NaN</td>\n",
       "      <td>NaN</td>\n",
       "      <td>NaN</td>\n",
       "      <td>NaN</td>\n",
       "      <td>NaN</td>\n",
       "      <td>NaN</td>\n",
       "      <td>NaN</td>\n",
       "      <td>NaN</td>\n",
       "      <td>NaN</td>\n",
       "      <td>NaN</td>\n",
       "      <td>NaN</td>\n",
       "      <td>NaN</td>\n",
       "      <td>NaN</td>\n",
       "      <td>NaN</td>\n",
       "      <td>NaN</td>\n",
       "      <td>NaN</td>\n",
       "      <td>NaN</td>\n",
       "      <td>NaN</td>\n",
       "      <td>NaN</td>\n",
       "      <td>NaN</td>\n",
       "      <td>NaN</td>\n",
       "      <td>NaN</td>\n",
       "      <td>NaN</td>\n",
       "      <td>NaN</td>\n",
       "      <td>NaN</td>\n",
       "      <td>NaN</td>\n",
       "      <td>NaN</td>\n",
       "      <td>NaN</td>\n",
       "      <td>NaN</td>\n",
       "      <td>NaN</td>\n",
       "      <td>NaN</td>\n",
       "      <td>NaN</td>\n",
       "      <td>NaN</td>\n",
       "      <td>NaN</td>\n",
       "      <td>NaN</td>\n",
       "      <td>NaN</td>\n",
       "      <td>NaN</td>\n",
       "      <td>NaN</td>\n",
       "      <td>NaN</td>\n",
       "      <td>NaN</td>\n",
       "      <td>NaN</td>\n",
       "      <td>NaN</td>\n",
       "      <td>NaN</td>\n",
       "      <td>NaN</td>\n",
       "      <td>NaN</td>\n",
       "      <td>NaN</td>\n",
       "      <td>NaN</td>\n",
       "      <td>NaN</td>\n",
       "      <td>NaN</td>\n",
       "      <td>NaN</td>\n",
       "      <td>NaN</td>\n",
       "      <td>NaN</td>\n",
       "      <td>NaN</td>\n",
       "      <td>NaN</td>\n",
       "      <td>NaN</td>\n",
       "      <td>NaN</td>\n",
       "      <td>NaN</td>\n",
       "      <td>NaN</td>\n",
       "      <td>NaN</td>\n",
       "      <td>NaN</td>\n",
       "      <td>NaN</td>\n",
       "    </tr>\n",
       "    <tr>\n",
       "      <th>3</th>\n",
       "      <td>3</td>\n",
       "      <td>1.117955e+12</td>\n",
       "      <td>RAS KERNEL INFO generating core.3288</td>\n",
       "      <td>False</td>\n",
       "      <td>R24-M0-NF-C:J15-U11</td>\n",
       "      <td>10</td>\n",
       "      <td>RAS KERNEL INFO generating</td>\n",
       "      <td>NaN</td>\n",
       "      <td>NaN</td>\n",
       "      <td>NaN</td>\n",
       "      <td>NaN</td>\n",
       "      <td>NaN</td>\n",
       "      <td>NaN</td>\n",
       "      <td>NaN</td>\n",
       "      <td>NaN</td>\n",
       "      <td>NaN</td>\n",
       "      <td>NaN</td>\n",
       "      <td>NaN</td>\n",
       "      <td>NaN</td>\n",
       "      <td>NaN</td>\n",
       "      <td>NaN</td>\n",
       "      <td>NaN</td>\n",
       "      <td>NaN</td>\n",
       "      <td>NaN</td>\n",
       "      <td>NaN</td>\n",
       "      <td>NaN</td>\n",
       "      <td>NaN</td>\n",
       "      <td>NaN</td>\n",
       "      <td>NaN</td>\n",
       "      <td>NaN</td>\n",
       "      <td>NaN</td>\n",
       "      <td>NaN</td>\n",
       "      <td>NaN</td>\n",
       "      <td>NaN</td>\n",
       "      <td>NaN</td>\n",
       "      <td>NaN</td>\n",
       "      <td>NaN</td>\n",
       "      <td>NaN</td>\n",
       "      <td>NaN</td>\n",
       "      <td>NaN</td>\n",
       "      <td>NaN</td>\n",
       "      <td>NaN</td>\n",
       "      <td>NaN</td>\n",
       "      <td>NaN</td>\n",
       "      <td>NaN</td>\n",
       "      <td>NaN</td>\n",
       "      <td>NaN</td>\n",
       "      <td>NaN</td>\n",
       "      <td>NaN</td>\n",
       "      <td>NaN</td>\n",
       "      <td>NaN</td>\n",
       "      <td>NaN</td>\n",
       "      <td>NaN</td>\n",
       "      <td>NaN</td>\n",
       "      <td>NaN</td>\n",
       "      <td>NaN</td>\n",
       "      <td>NaN</td>\n",
       "      <td>NaN</td>\n",
       "      <td>NaN</td>\n",
       "      <td>NaN</td>\n",
       "      <td>NaN</td>\n",
       "      <td>NaN</td>\n",
       "      <td>NaN</td>\n",
       "      <td>NaN</td>\n",
       "      <td>NaN</td>\n",
       "      <td>NaN</td>\n",
       "      <td>NaN</td>\n",
       "      <td>NaN</td>\n",
       "      <td>NaN</td>\n",
       "      <td>NaN</td>\n",
       "      <td>NaN</td>\n",
       "      <td>NaN</td>\n",
       "      <td>NaN</td>\n",
       "      <td>NaN</td>\n",
       "      <td>NaN</td>\n",
       "      <td>NaN</td>\n",
       "      <td>NaN</td>\n",
       "      <td>NaN</td>\n",
       "      <td>NaN</td>\n",
       "      <td>NaN</td>\n",
       "      <td>NaN</td>\n",
       "      <td>NaN</td>\n",
       "      <td>NaN</td>\n",
       "    </tr>\n",
       "    <tr>\n",
       "      <th>4</th>\n",
       "      <td>4</td>\n",
       "      <td>1.117955e+12</td>\n",
       "      <td>RAS KERNEL INFO generating core.3289</td>\n",
       "      <td>False</td>\n",
       "      <td>R24-M0-NF-C:J11-U11</td>\n",
       "      <td>10</td>\n",
       "      <td>RAS KERNEL INFO generating</td>\n",
       "      <td>NaN</td>\n",
       "      <td>NaN</td>\n",
       "      <td>NaN</td>\n",
       "      <td>NaN</td>\n",
       "      <td>NaN</td>\n",
       "      <td>NaN</td>\n",
       "      <td>NaN</td>\n",
       "      <td>NaN</td>\n",
       "      <td>NaN</td>\n",
       "      <td>NaN</td>\n",
       "      <td>NaN</td>\n",
       "      <td>NaN</td>\n",
       "      <td>NaN</td>\n",
       "      <td>NaN</td>\n",
       "      <td>NaN</td>\n",
       "      <td>NaN</td>\n",
       "      <td>NaN</td>\n",
       "      <td>NaN</td>\n",
       "      <td>NaN</td>\n",
       "      <td>NaN</td>\n",
       "      <td>NaN</td>\n",
       "      <td>NaN</td>\n",
       "      <td>NaN</td>\n",
       "      <td>NaN</td>\n",
       "      <td>NaN</td>\n",
       "      <td>NaN</td>\n",
       "      <td>NaN</td>\n",
       "      <td>NaN</td>\n",
       "      <td>NaN</td>\n",
       "      <td>NaN</td>\n",
       "      <td>NaN</td>\n",
       "      <td>NaN</td>\n",
       "      <td>NaN</td>\n",
       "      <td>NaN</td>\n",
       "      <td>NaN</td>\n",
       "      <td>NaN</td>\n",
       "      <td>NaN</td>\n",
       "      <td>NaN</td>\n",
       "      <td>NaN</td>\n",
       "      <td>NaN</td>\n",
       "      <td>NaN</td>\n",
       "      <td>NaN</td>\n",
       "      <td>NaN</td>\n",
       "      <td>NaN</td>\n",
       "      <td>NaN</td>\n",
       "      <td>NaN</td>\n",
       "      <td>NaN</td>\n",
       "      <td>NaN</td>\n",
       "      <td>NaN</td>\n",
       "      <td>NaN</td>\n",
       "      <td>NaN</td>\n",
       "      <td>NaN</td>\n",
       "      <td>NaN</td>\n",
       "      <td>NaN</td>\n",
       "      <td>NaN</td>\n",
       "      <td>NaN</td>\n",
       "      <td>NaN</td>\n",
       "      <td>NaN</td>\n",
       "      <td>NaN</td>\n",
       "      <td>NaN</td>\n",
       "      <td>NaN</td>\n",
       "      <td>NaN</td>\n",
       "      <td>NaN</td>\n",
       "      <td>NaN</td>\n",
       "      <td>NaN</td>\n",
       "      <td>NaN</td>\n",
       "      <td>NaN</td>\n",
       "      <td>NaN</td>\n",
       "      <td>NaN</td>\n",
       "      <td>NaN</td>\n",
       "      <td>NaN</td>\n",
       "      <td>NaN</td>\n",
       "      <td>NaN</td>\n",
       "      <td>NaN</td>\n",
       "      <td>NaN</td>\n",
       "      <td>NaN</td>\n",
       "    </tr>\n",
       "  </tbody>\n",
       "</table>\n",
       "</div>"
      ],
      "text/plain": [
       "   Unnamed: 0     timestamp                                  text  label  \\\n",
       "0           0  1.117955e+12  RAS KERNEL INFO generating core.4003  False   \n",
       "1           1  1.117955e+12  RAS KERNEL INFO generating core.4011  False   \n",
       "2           2  1.117955e+12  RAS KERNEL INFO generating core.3162  False   \n",
       "3           3  1.117955e+12  RAS KERNEL INFO generating core.3288  False   \n",
       "4           4  1.117955e+12  RAS KERNEL INFO generating core.3289  False   \n",
       "\n",
       "              filename  clusters                   tfidf_text  p-0-0  p-2-0  \\\n",
       "0  R20-M0-N1-C:J02-U01        10  RAS KERNEL INFO generating     NaN    NaN   \n",
       "1  R20-M0-N1-C:J02-U11        10  RAS KERNEL INFO generating     NaN    NaN   \n",
       "2  R24-M0-NF-C:J09-U11        10  RAS KERNEL INFO generating     NaN    NaN   \n",
       "3  R24-M0-NF-C:J15-U11        10  RAS KERNEL INFO generating     NaN    NaN   \n",
       "4  R24-M0-NF-C:J11-U11        10  RAS KERNEL INFO generating     NaN    NaN   \n",
       "\n",
       "   p-3-0  p-3-1  p-3-2  p-3-3  p-3-4  p-3-5  p-3-6  p-3-7  p-3-8  p-3-9  \\\n",
       "0    NaN    NaN    NaN    NaN    NaN    NaN    NaN    NaN    NaN    NaN   \n",
       "1    NaN    NaN    NaN    NaN    NaN    NaN    NaN    NaN    NaN    NaN   \n",
       "2    NaN    NaN    NaN    NaN    NaN    NaN    NaN    NaN    NaN    NaN   \n",
       "3    NaN    NaN    NaN    NaN    NaN    NaN    NaN    NaN    NaN    NaN   \n",
       "4    NaN    NaN    NaN    NaN    NaN    NaN    NaN    NaN    NaN    NaN   \n",
       "\n",
       "   p-3-10  p-3-11  p-3-12  p-3-13  p-3-14  p-3-15  p-3-16  p-3-17  p-3-18  \\\n",
       "0     NaN     NaN     NaN     NaN     NaN     NaN     NaN     NaN     NaN   \n",
       "1     NaN     NaN     NaN     NaN     NaN     NaN     NaN     NaN     NaN   \n",
       "2     NaN     NaN     NaN     NaN     NaN     NaN     NaN     NaN     NaN   \n",
       "3     NaN     NaN     NaN     NaN     NaN     NaN     NaN     NaN     NaN   \n",
       "4     NaN     NaN     NaN     NaN     NaN     NaN     NaN     NaN     NaN   \n",
       "\n",
       "   p-3-19  p-3-20  p-3-21  p-3-22  p-4-0  p-4-1  p-4-2  p-4-3  p-4-4  p-4-5  \\\n",
       "0     NaN     NaN     NaN     NaN    NaN    NaN    NaN    NaN    NaN    NaN   \n",
       "1     NaN     NaN     NaN     NaN    NaN    NaN    NaN    NaN    NaN    NaN   \n",
       "2     NaN     NaN     NaN     NaN    NaN    NaN    NaN    NaN    NaN    NaN   \n",
       "3     NaN     NaN     NaN     NaN    NaN    NaN    NaN    NaN    NaN    NaN   \n",
       "4     NaN     NaN     NaN     NaN    NaN    NaN    NaN    NaN    NaN    NaN   \n",
       "\n",
       "   p-4-6  p-4-7  p-4-8  p-7-0  p-7-1  p-7-2  p-7-3  p-7-4  p-7-5  p-8-0  \\\n",
       "0    NaN    NaN    NaN    NaN    NaN    NaN    NaN    NaN    NaN    NaN   \n",
       "1    NaN    NaN    NaN    NaN    NaN    NaN    NaN    NaN    NaN    NaN   \n",
       "2    NaN    NaN    NaN    NaN    NaN    NaN    NaN    NaN    NaN    NaN   \n",
       "3    NaN    NaN    NaN    NaN    NaN    NaN    NaN    NaN    NaN    NaN   \n",
       "4    NaN    NaN    NaN    NaN    NaN    NaN    NaN    NaN    NaN    NaN   \n",
       "\n",
       "   p-8-1  p-9-0  p-12-0  p-12-1  p-12-2  p-13-0  p-14-0  p-14-1  p-14-2  \\\n",
       "0    NaN    NaN     NaN     NaN     NaN     NaN     NaN     NaN     NaN   \n",
       "1    NaN    NaN     NaN     NaN     NaN     NaN     NaN     NaN     NaN   \n",
       "2    NaN    NaN     NaN     NaN     NaN     NaN     NaN     NaN     NaN   \n",
       "3    NaN    NaN     NaN     NaN     NaN     NaN     NaN     NaN     NaN   \n",
       "4    NaN    NaN     NaN     NaN     NaN     NaN     NaN     NaN     NaN   \n",
       "\n",
       "   p-14-3  p-14-4  p-14-5  p-14-6  p-14-7  p-15-0  p-16-0  p-18-0  p-18-1  \\\n",
       "0     NaN     NaN     NaN     NaN     NaN     NaN     NaN     NaN     NaN   \n",
       "1     NaN     NaN     NaN     NaN     NaN     NaN     NaN     NaN     NaN   \n",
       "2     NaN     NaN     NaN     NaN     NaN     NaN     NaN     NaN     NaN   \n",
       "3     NaN     NaN     NaN     NaN     NaN     NaN     NaN     NaN     NaN   \n",
       "4     NaN     NaN     NaN     NaN     NaN     NaN     NaN     NaN     NaN   \n",
       "\n",
       "   p-19-0  p-19-1  p-19-2  p-19-3  p-19-4  p-19-5  p-21-0  p-21-1  p-21-2  \\\n",
       "0     NaN     NaN     NaN     NaN     NaN     NaN     NaN     NaN     NaN   \n",
       "1     NaN     NaN     NaN     NaN     NaN     NaN     NaN     NaN     NaN   \n",
       "2     NaN     NaN     NaN     NaN     NaN     NaN     NaN     NaN     NaN   \n",
       "3     NaN     NaN     NaN     NaN     NaN     NaN     NaN     NaN     NaN   \n",
       "4     NaN     NaN     NaN     NaN     NaN     NaN     NaN     NaN     NaN   \n",
       "\n",
       "   p-21-3  p-21-4  p-21-5  p-21-6  p-21-7  p-21-8  p-21-9  p-25-0  \n",
       "0     NaN     NaN     NaN     NaN     NaN     NaN     NaN     NaN  \n",
       "1     NaN     NaN     NaN     NaN     NaN     NaN     NaN     NaN  \n",
       "2     NaN     NaN     NaN     NaN     NaN     NaN     NaN     NaN  \n",
       "3     NaN     NaN     NaN     NaN     NaN     NaN     NaN     NaN  \n",
       "4     NaN     NaN     NaN     NaN     NaN     NaN     NaN     NaN  "
      ]
     },
     "execution_count": 80,
     "metadata": {},
     "output_type": "execute_result"
    }
   ],
   "source": [
    "BGL_tfidf.head()"
   ]
  },
  {
   "cell_type": "code",
   "execution_count": 81,
   "metadata": {
    "execution": {
     "iopub.execute_input": "2023-07-17T20:08:53.218467Z",
     "iopub.status.busy": "2023-07-17T20:08:53.218076Z",
     "iopub.status.idle": "2023-07-17T20:08:53.243979Z",
     "shell.execute_reply": "2023-07-17T20:08:53.242895Z",
     "shell.execute_reply.started": "2023-07-17T20:08:53.218437Z"
    }
   },
   "outputs": [
    {
     "name": "stdout",
     "output_type": "stream",
     "text": [
      "columns for the X fileIndex(['tfidf_text'], dtype='object')\n",
      "(70415, 1) (70415,)\n"
     ]
    }
   ],
   "source": [
    "le = LabelEncoder()\n",
    "BGL_tfidf['label'] = le.fit_transform(BGL_tfidf['label']) # false:0 and true:1\n",
    "\n",
    "X = BGL_tfidf[['tfidf_text']].dropna()\n",
    "y = BGL_tfidf.loc[X.index,'label'].values\n",
    "\n",
    "print(\"columns for the X file\"+ str(X.columns))\n",
    "print(X.shape,y.shape)"
   ]
  },
  {
   "cell_type": "code",
   "execution_count": 83,
   "metadata": {
    "execution": {
     "iopub.execute_input": "2023-07-17T20:09:31.410343Z",
     "iopub.status.busy": "2023-07-17T20:09:31.409241Z",
     "iopub.status.idle": "2023-07-17T20:09:32.002522Z",
     "shell.execute_reply": "2023-07-17T20:09:32.001342Z",
     "shell.execute_reply.started": "2023-07-17T20:09:31.410301Z"
    }
   },
   "outputs": [
    {
     "name": "stdout",
     "output_type": "stream",
     "text": [
      "tfidf shape (70415, 500)\n"
     ]
    }
   ],
   "source": [
    "tfidf = TfidfVectorizer(max_features=500)\n",
    "X_tfidf = tfidf.fit_transform(X['tfidf_text'])\n",
    "print('tfidf shape', X_tfidf.shape)"
   ]
  },
  {
   "cell_type": "code",
   "execution_count": 84,
   "metadata": {
    "execution": {
     "iopub.execute_input": "2023-07-17T20:09:36.570740Z",
     "iopub.status.busy": "2023-07-17T20:09:36.570356Z",
     "iopub.status.idle": "2023-07-17T20:09:37.067737Z",
     "shell.execute_reply": "2023-07-17T20:09:37.066766Z",
     "shell.execute_reply.started": "2023-07-17T20:09:36.570711Z"
    }
   },
   "outputs": [
    {
     "data": {
      "text/html": [
       "<style>#sk-container-id-6 {color: black;background-color: white;}#sk-container-id-6 pre{padding: 0;}#sk-container-id-6 div.sk-toggleable {background-color: white;}#sk-container-id-6 label.sk-toggleable__label {cursor: pointer;display: block;width: 100%;margin-bottom: 0;padding: 0.3em;box-sizing: border-box;text-align: center;}#sk-container-id-6 label.sk-toggleable__label-arrow:before {content: \"▸\";float: left;margin-right: 0.25em;color: #696969;}#sk-container-id-6 label.sk-toggleable__label-arrow:hover:before {color: black;}#sk-container-id-6 div.sk-estimator:hover label.sk-toggleable__label-arrow:before {color: black;}#sk-container-id-6 div.sk-toggleable__content {max-height: 0;max-width: 0;overflow: hidden;text-align: left;background-color: #f0f8ff;}#sk-container-id-6 div.sk-toggleable__content pre {margin: 0.2em;color: black;border-radius: 0.25em;background-color: #f0f8ff;}#sk-container-id-6 input.sk-toggleable__control:checked~div.sk-toggleable__content {max-height: 200px;max-width: 100%;overflow: auto;}#sk-container-id-6 input.sk-toggleable__control:checked~label.sk-toggleable__label-arrow:before {content: \"▾\";}#sk-container-id-6 div.sk-estimator input.sk-toggleable__control:checked~label.sk-toggleable__label {background-color: #d4ebff;}#sk-container-id-6 div.sk-label input.sk-toggleable__control:checked~label.sk-toggleable__label {background-color: #d4ebff;}#sk-container-id-6 input.sk-hidden--visually {border: 0;clip: rect(1px 1px 1px 1px);clip: rect(1px, 1px, 1px, 1px);height: 1px;margin: -1px;overflow: hidden;padding: 0;position: absolute;width: 1px;}#sk-container-id-6 div.sk-estimator {font-family: monospace;background-color: #f0f8ff;border: 1px dotted black;border-radius: 0.25em;box-sizing: border-box;margin-bottom: 0.5em;}#sk-container-id-6 div.sk-estimator:hover {background-color: #d4ebff;}#sk-container-id-6 div.sk-parallel-item::after {content: \"\";width: 100%;border-bottom: 1px solid gray;flex-grow: 1;}#sk-container-id-6 div.sk-label:hover label.sk-toggleable__label {background-color: #d4ebff;}#sk-container-id-6 div.sk-serial::before {content: \"\";position: absolute;border-left: 1px solid gray;box-sizing: border-box;top: 0;bottom: 0;left: 50%;z-index: 0;}#sk-container-id-6 div.sk-serial {display: flex;flex-direction: column;align-items: center;background-color: white;padding-right: 0.2em;padding-left: 0.2em;position: relative;}#sk-container-id-6 div.sk-item {position: relative;z-index: 1;}#sk-container-id-6 div.sk-parallel {display: flex;align-items: stretch;justify-content: center;background-color: white;position: relative;}#sk-container-id-6 div.sk-item::before, #sk-container-id-6 div.sk-parallel-item::before {content: \"\";position: absolute;border-left: 1px solid gray;box-sizing: border-box;top: 0;bottom: 0;left: 50%;z-index: -1;}#sk-container-id-6 div.sk-parallel-item {display: flex;flex-direction: column;z-index: 1;position: relative;background-color: white;}#sk-container-id-6 div.sk-parallel-item:first-child::after {align-self: flex-end;width: 50%;}#sk-container-id-6 div.sk-parallel-item:last-child::after {align-self: flex-start;width: 50%;}#sk-container-id-6 div.sk-parallel-item:only-child::after {width: 0;}#sk-container-id-6 div.sk-dashed-wrapped {border: 1px dashed gray;margin: 0 0.4em 0.5em 0.4em;box-sizing: border-box;padding-bottom: 0.4em;background-color: white;}#sk-container-id-6 div.sk-label label {font-family: monospace;font-weight: bold;display: inline-block;line-height: 1.2em;}#sk-container-id-6 div.sk-label-container {text-align: center;}#sk-container-id-6 div.sk-container {/* jupyter's `normalize.less` sets `[hidden] { display: none; }` but bootstrap.min.css set `[hidden] { display: none !important; }` so we also need the `!important` here to be able to override the default hidden behavior on the sphinx rendered scikit-learn.org. See: https://github.com/scikit-learn/scikit-learn/issues/21755 */display: inline-block !important;position: relative;}#sk-container-id-6 div.sk-text-repr-fallback {display: none;}</style><div id=\"sk-container-id-6\" class=\"sk-top-container\"><div class=\"sk-text-repr-fallback\"><pre>IsolationForest()</pre><b>In a Jupyter environment, please rerun this cell to show the HTML representation or trust the notebook. <br />On GitHub, the HTML representation is unable to render, please try loading this page with nbviewer.org.</b></div><div class=\"sk-container\" hidden><div class=\"sk-item\"><div class=\"sk-estimator sk-toggleable\"><input class=\"sk-toggleable__control sk-hidden--visually\" id=\"sk-estimator-id-6\" type=\"checkbox\" checked><label for=\"sk-estimator-id-6\" class=\"sk-toggleable__label sk-toggleable__label-arrow\">IsolationForest</label><div class=\"sk-toggleable__content\"><pre>IsolationForest()</pre></div></div></div></div></div>"
      ],
      "text/plain": [
       "IsolationForest()"
      ]
     },
     "execution_count": 84,
     "metadata": {},
     "output_type": "execute_result"
    }
   ],
   "source": [
    "#initialize model\n",
    "random_state = np.random.RandomState(42)\n",
    "model_tf=IsolationForest()\n",
    "\n",
    "model_tf.fit(X_tfidf)"
   ]
  },
  {
   "cell_type": "code",
   "execution_count": 85,
   "metadata": {
    "execution": {
     "iopub.execute_input": "2023-07-17T20:09:39.973292Z",
     "iopub.status.busy": "2023-07-17T20:09:39.972874Z",
     "iopub.status.idle": "2023-07-17T20:09:41.525842Z",
     "shell.execute_reply": "2023-07-17T20:09:41.524517Z",
     "shell.execute_reply.started": "2023-07-17T20:09:39.973257Z"
    }
   },
   "outputs": [],
   "source": [
    "predictions= model_tf.predict(X_tfidf)"
   ]
  },
  {
   "cell_type": "code",
   "execution_count": 86,
   "metadata": {
    "execution": {
     "iopub.execute_input": "2023-07-17T20:09:45.197717Z",
     "iopub.status.busy": "2023-07-17T20:09:45.197329Z",
     "iopub.status.idle": "2023-07-17T20:09:45.203068Z",
     "shell.execute_reply": "2023-07-17T20:09:45.201991Z",
     "shell.execute_reply.started": "2023-07-17T20:09:45.197689Z"
    }
   },
   "outputs": [],
   "source": [
    "predictions[predictions==-1] = 0 #anomalies are marked as -1 in isolation forest"
   ]
  },
  {
   "cell_type": "code",
   "execution_count": 88,
   "metadata": {
    "execution": {
     "iopub.execute_input": "2023-07-17T20:10:06.702340Z",
     "iopub.status.busy": "2023-07-17T20:10:06.701547Z",
     "iopub.status.idle": "2023-07-17T20:10:06.713812Z",
     "shell.execute_reply": "2023-07-17T20:10:06.712608Z",
     "shell.execute_reply.started": "2023-07-17T20:10:06.702306Z"
    }
   },
   "outputs": [
    {
     "name": "stdout",
     "output_type": "stream",
     "text": [
      "Accuracy: 0.031981822054959884\n"
     ]
    }
   ],
   "source": [
    "from sklearn.metrics import accuracy_score\n",
    "\n",
    "accuracy = accuracy_score(y, predictions)\n",
    "print(\"Accuracy:\", accuracy)"
   ]
  },
  {
   "cell_type": "markdown",
   "metadata": {},
   "source": [
    "# Thunderbird Dataset"
   ]
  },
  {
   "cell_type": "code",
   "execution_count": 106,
   "metadata": {
    "execution": {
     "iopub.execute_input": "2023-07-17T20:27:45.550992Z",
     "iopub.status.busy": "2023-07-17T20:27:45.550256Z",
     "iopub.status.idle": "2023-07-17T20:27:45.557639Z",
     "shell.execute_reply": "2023-07-17T20:27:45.556475Z",
     "shell.execute_reply.started": "2023-07-17T20:27:45.550951Z"
    }
   },
   "outputs": [],
   "source": [
    "def read_plot(file_path,file,col):\n",
    "    df=pd.read_csv(file_path+\"/\"+file)\n",
    "    print(\"Input_data Shape:\",df.shape)\n",
    "    normal= df[col].value_counts()[0]\n",
    "    anomalous= df[col].value_counts()[1]\n",
    "    print(f\"There are {normal} normal logs and {anomalous} anomalous logs in this file\")\n",
    "    print(\"Their ratio is \"+ str(anomalous/normal))\n",
    "    sns.countplot(x=df[col])\n",
    "    plt.show()\n",
    "    return df"
   ]
  },
  {
   "cell_type": "code",
   "execution_count": 107,
   "metadata": {
    "execution": {
     "iopub.execute_input": "2023-07-17T20:27:48.038405Z",
     "iopub.status.busy": "2023-07-17T20:27:48.038019Z",
     "iopub.status.idle": "2023-07-17T20:27:51.502079Z",
     "shell.execute_reply": "2023-07-17T20:27:51.501216Z",
     "shell.execute_reply.started": "2023-07-17T20:27:48.038374Z"
    }
   },
   "outputs": [
    {
     "name": "stdout",
     "output_type": "stream",
     "text": [
      "Input_data Shape: (291014, 212)\n",
      "There are 286014 normal logs and 5000 anomalous logs in this file\n",
      "Their ratio is 0.01748166173683806\n"
     ]
    },
    {
     "data": {
      "image/png": "[encoded data removed]",
      "text/plain": [
       "<Figure size 640x480 with 1 Axes>"
      ]
     },
     "metadata": {},
     "output_type": "display_data"
    }
   ],
   "source": [
    "file_path=\"data/log_params/\"\n",
    "file=\"Thunderbird_all_params.csv\"\n",
    "col='label'\n",
    "thunder=read_csv(file_path,file,col)"
   ]
  },
  {
   "cell_type": "markdown",
   "metadata": {},
   "source": [
    "## Isolation Forest with params features"
   ]
  },
  {
   "cell_type": "code",
   "execution_count": 110,
   "metadata": {
    "execution": {
     "iopub.execute_input": "2023-07-17T20:28:55.365049Z",
     "iopub.status.busy": "2023-07-17T20:28:55.364373Z",
     "iopub.status.idle": "2023-07-17T20:28:55.573042Z",
     "shell.execute_reply": "2023-07-17T20:28:55.571804Z",
     "shell.execute_reply.started": "2023-07-17T20:28:55.365003Z"
    }
   },
   "outputs": [],
   "source": [
    "le = LabelEncoder()\n",
    "thunder['label'] = le.fit_transform(thunder['label']) # false:0 and true:1\n",
    "one_hot_encoded_thunder= pd.get_dummies(thunder['clusters'])\n",
    "labels= thunder['label'].values"
   ]
  },
  {
   "cell_type": "code",
   "execution_count": 100,
   "metadata": {
    "execution": {
     "iopub.execute_input": "2023-07-17T20:24:42.642804Z",
     "iopub.status.busy": "2023-07-17T20:24:42.642419Z",
     "iopub.status.idle": "2023-07-17T20:24:42.698047Z",
     "shell.execute_reply": "2023-07-17T20:24:42.696631Z",
     "shell.execute_reply.started": "2023-07-17T20:24:42.642774Z"
    }
   },
   "outputs": [],
   "source": [
    "for col in one_hot_encoded_thunder.columns:\n",
    "    col_name= \"c\"+str(col)\n",
    "    thunder[col_name]=one_hot_encoded_thunder[col]"
   ]
  },
  {
   "cell_type": "code",
   "execution_count": 101,
   "metadata": {
    "execution": {
     "iopub.execute_input": "2023-07-17T20:24:47.819352Z",
     "iopub.status.busy": "2023-07-17T20:24:47.818926Z",
     "iopub.status.idle": "2023-07-17T20:24:48.555545Z",
     "shell.execute_reply": "2023-07-17T20:24:48.554409Z",
     "shell.execute_reply.started": "2023-07-17T20:24:47.819317Z"
    }
   },
   "outputs": [],
   "source": [
    "thunder.drop(columns=['clusters','Unnamed: 0','timestamp','text','label','filename'], inplace=True)\n"
   ]
  },
  {
   "cell_type": "code",
   "execution_count": 102,
   "metadata": {
    "execution": {
     "iopub.execute_input": "2023-07-17T20:24:52.024284Z",
     "iopub.status.busy": "2023-07-17T20:24:52.021934Z",
     "iopub.status.idle": "2023-07-17T20:24:53.050366Z",
     "shell.execute_reply": "2023-07-17T20:24:53.049457Z",
     "shell.execute_reply.started": "2023-07-17T20:24:52.024246Z"
    }
   },
   "outputs": [],
   "source": [
    "thunder.fillna(0,inplace=True)"
   ]
  },
  {
   "cell_type": "code",
   "execution_count": 103,
   "metadata": {
    "execution": {
     "iopub.execute_input": "2023-07-17T20:24:55.951668Z",
     "iopub.status.busy": "2023-07-17T20:24:55.951277Z",
     "iopub.status.idle": "2023-07-17T20:24:56.821236Z",
     "shell.execute_reply": "2023-07-17T20:24:56.820249Z",
     "shell.execute_reply.started": "2023-07-17T20:24:55.951628Z"
    }
   },
   "outputs": [
    {
     "data": {
      "text/html": [
       "<style>#sk-container-id-8 {color: black;background-color: white;}#sk-container-id-8 pre{padding: 0;}#sk-container-id-8 div.sk-toggleable {background-color: white;}#sk-container-id-8 label.sk-toggleable__label {cursor: pointer;display: block;width: 100%;margin-bottom: 0;padding: 0.3em;box-sizing: border-box;text-align: center;}#sk-container-id-8 label.sk-toggleable__label-arrow:before {content: \"▸\";float: left;margin-right: 0.25em;color: #696969;}#sk-container-id-8 label.sk-toggleable__label-arrow:hover:before {color: black;}#sk-container-id-8 div.sk-estimator:hover label.sk-toggleable__label-arrow:before {color: black;}#sk-container-id-8 div.sk-toggleable__content {max-height: 0;max-width: 0;overflow: hidden;text-align: left;background-color: #f0f8ff;}#sk-container-id-8 div.sk-toggleable__content pre {margin: 0.2em;color: black;border-radius: 0.25em;background-color: #f0f8ff;}#sk-container-id-8 input.sk-toggleable__control:checked~div.sk-toggleable__content {max-height: 200px;max-width: 100%;overflow: auto;}#sk-container-id-8 input.sk-toggleable__control:checked~label.sk-toggleable__label-arrow:before {content: \"▾\";}#sk-container-id-8 div.sk-estimator input.sk-toggleable__control:checked~label.sk-toggleable__label {background-color: #d4ebff;}#sk-container-id-8 div.sk-label input.sk-toggleable__control:checked~label.sk-toggleable__label {background-color: #d4ebff;}#sk-container-id-8 input.sk-hidden--visually {border: 0;clip: rect(1px 1px 1px 1px);clip: rect(1px, 1px, 1px, 1px);height: 1px;margin: -1px;overflow: hidden;padding: 0;position: absolute;width: 1px;}#sk-container-id-8 div.sk-estimator {font-family: monospace;background-color: #f0f8ff;border: 1px dotted black;border-radius: 0.25em;box-sizing: border-box;margin-bottom: 0.5em;}#sk-container-id-8 div.sk-estimator:hover {background-color: #d4ebff;}#sk-container-id-8 div.sk-parallel-item::after {content: \"\";width: 100%;border-bottom: 1px solid gray;flex-grow: 1;}#sk-container-id-8 div.sk-label:hover label.sk-toggleable__label {background-color: #d4ebff;}#sk-container-id-8 div.sk-serial::before {content: \"\";position: absolute;border-left: 1px solid gray;box-sizing: border-box;top: 0;bottom: 0;left: 50%;z-index: 0;}#sk-container-id-8 div.sk-serial {display: flex;flex-direction: column;align-items: center;background-color: white;padding-right: 0.2em;padding-left: 0.2em;position: relative;}#sk-container-id-8 div.sk-item {position: relative;z-index: 1;}#sk-container-id-8 div.sk-parallel {display: flex;align-items: stretch;justify-content: center;background-color: white;position: relative;}#sk-container-id-8 div.sk-item::before, #sk-container-id-8 div.sk-parallel-item::before {content: \"\";position: absolute;border-left: 1px solid gray;box-sizing: border-box;top: 0;bottom: 0;left: 50%;z-index: -1;}#sk-container-id-8 div.sk-parallel-item {display: flex;flex-direction: column;z-index: 1;position: relative;background-color: white;}#sk-container-id-8 div.sk-parallel-item:first-child::after {align-self: flex-end;width: 50%;}#sk-container-id-8 div.sk-parallel-item:last-child::after {align-self: flex-start;width: 50%;}#sk-container-id-8 div.sk-parallel-item:only-child::after {width: 0;}#sk-container-id-8 div.sk-dashed-wrapped {border: 1px dashed gray;margin: 0 0.4em 0.5em 0.4em;box-sizing: border-box;padding-bottom: 0.4em;background-color: white;}#sk-container-id-8 div.sk-label label {font-family: monospace;font-weight: bold;display: inline-block;line-height: 1.2em;}#sk-container-id-8 div.sk-label-container {text-align: center;}#sk-container-id-8 div.sk-container {/* jupyter's `normalize.less` sets `[hidden] { display: none; }` but bootstrap.min.css set `[hidden] { display: none !important; }` so we also need the `!important` here to be able to override the default hidden behavior on the sphinx rendered scikit-learn.org. See: https://github.com/scikit-learn/scikit-learn/issues/21755 */display: inline-block !important;position: relative;}#sk-container-id-8 div.sk-text-repr-fallback {display: none;}</style><div id=\"sk-container-id-8\" class=\"sk-top-container\"><div class=\"sk-text-repr-fallback\"><pre>IsolationForest()</pre><b>In a Jupyter environment, please rerun this cell to show the HTML representation or trust the notebook. <br />On GitHub, the HTML representation is unable to render, please try loading this page with nbviewer.org.</b></div><div class=\"sk-container\" hidden><div class=\"sk-item\"><div class=\"sk-estimator sk-toggleable\"><input class=\"sk-toggleable__control sk-hidden--visually\" id=\"sk-estimator-id-8\" type=\"checkbox\" checked><label for=\"sk-estimator-id-8\" class=\"sk-toggleable__label sk-toggleable__label-arrow\">IsolationForest</label><div class=\"sk-toggleable__content\"><pre>IsolationForest()</pre></div></div></div></div></div>"
      ],
      "text/plain": [
       "IsolationForest()"
      ]
     },
     "execution_count": 103,
     "metadata": {},
     "output_type": "execute_result"
    }
   ],
   "source": [
    "#initialize model\n",
    "random_state = np.random.RandomState(42)\n",
    "model_thunder=IsolationForest()\n",
    "\n",
    "model_thunder.fit(thunder)\n"
   ]
  },
  {
   "cell_type": "code",
   "execution_count": 104,
   "metadata": {
    "execution": {
     "iopub.execute_input": "2023-07-17T20:25:06.770352Z",
     "iopub.status.busy": "2023-07-17T20:25:06.769858Z",
     "iopub.status.idle": "2023-07-17T20:25:45.216518Z",
     "shell.execute_reply": "2023-07-17T20:25:45.215516Z",
     "shell.execute_reply.started": "2023-07-17T20:25:06.770316Z"
    }
   },
   "outputs": [],
   "source": [
    "preds=model_thunder.predict(thunder)"
   ]
  },
  {
   "cell_type": "code",
   "execution_count": 105,
   "metadata": {
    "execution": {
     "iopub.execute_input": "2023-07-17T20:27:05.801034Z",
     "iopub.status.busy": "2023-07-17T20:27:05.800623Z",
     "iopub.status.idle": "2023-07-17T20:27:05.807375Z",
     "shell.execute_reply": "2023-07-17T20:27:05.806149Z",
     "shell.execute_reply.started": "2023-07-17T20:27:05.800999Z"
    }
   },
   "outputs": [],
   "source": [
    "preds[preds==-1] = 0"
   ]
  },
  {
   "cell_type": "code",
   "execution_count": 111,
   "metadata": {
    "execution": {
     "iopub.execute_input": "2023-07-17T20:29:08.597536Z",
     "iopub.status.busy": "2023-07-17T20:29:08.596762Z",
     "iopub.status.idle": "2023-07-17T20:29:08.625739Z",
     "shell.execute_reply": "2023-07-17T20:29:08.624653Z",
     "shell.execute_reply.started": "2023-07-17T20:29:08.597492Z"
    }
   },
   "outputs": [
    {
     "name": "stdout",
     "output_type": "stream",
     "text": [
      "Accuracy: 0.031981822054959884\n"
     ]
    }
   ],
   "source": [
    "accuracy_thunder = accuracy_score(labels, preds)\n",
    "print(\"Accuracy:\", accuracy)"
   ]
  },
  {
   "cell_type": "markdown",
   "metadata": {},
   "source": [
    "# tSNE-BGL"
   ]
  },
  {
   "cell_type": "code",
   "execution_count": 112,
   "metadata": {
    "execution": {
     "iopub.execute_input": "2023-07-17T20:32:29.963671Z",
     "iopub.status.busy": "2023-07-17T20:32:29.963293Z",
     "iopub.status.idle": "2023-07-17T20:32:29.969318Z",
     "shell.execute_reply": "2023-07-17T20:32:29.968185Z",
     "shell.execute_reply.started": "2023-07-17T20:32:29.963643Z"
    }
   },
   "outputs": [],
   "source": [
    "from sklearn.manifold import TSNE"
   ]
  },
  {
   "cell_type": "code",
   "execution_count": 113,
   "metadata": {
    "execution": {
     "iopub.execute_input": "2023-07-17T20:32:37.739982Z",
     "iopub.status.busy": "2023-07-17T20:32:37.739590Z",
     "iopub.status.idle": "2023-07-17T20:32:37.880452Z",
     "shell.execute_reply": "2023-07-17T20:32:37.879545Z",
     "shell.execute_reply.started": "2023-07-17T20:32:37.739951Z"
    }
   },
   "outputs": [],
   "source": [
    "BGL_tsne= pd.read_csv(\"data/log_params/BGL_all_params.csv\")"
   ]
  },
  {
   "cell_type": "code",
   "execution_count": 115,
   "metadata": {
    "execution": {
     "iopub.execute_input": "2023-07-17T20:32:58.631011Z",
     "iopub.status.busy": "2023-07-17T20:32:58.630610Z",
     "iopub.status.idle": "2023-07-17T20:32:58.635833Z",
     "shell.execute_reply": "2023-07-17T20:32:58.635045Z",
     "shell.execute_reply.started": "2023-07-17T20:32:58.630976Z"
    }
   },
   "outputs": [],
   "source": [
    "tsne = TSNE(n_components=2, verbose=1, perplexity=40, n_iter=300, random_state=0)"
   ]
  },
  {
   "cell_type": "code",
   "execution_count": 116,
   "metadata": {
    "execution": {
     "iopub.execute_input": "2023-07-17T20:33:01.342722Z",
     "iopub.status.busy": "2023-07-17T20:33:01.342316Z",
     "iopub.status.idle": "2023-07-17T20:33:01.351262Z",
     "shell.execute_reply": "2023-07-17T20:33:01.350062Z",
     "shell.execute_reply.started": "2023-07-17T20:33:01.342688Z"
    }
   },
   "outputs": [],
   "source": [
    "BGL_tsne= BGL_tsne.drop(['Unnamed: 0', 'timestamp','text','label','filename'], axis=1)"
   ]
  },
  {
   "cell_type": "code",
   "execution_count": 120,
   "metadata": {
    "execution": {
     "iopub.execute_input": "2023-07-17T20:36:40.889832Z",
     "iopub.status.busy": "2023-07-17T20:36:40.888946Z",
     "iopub.status.idle": "2023-07-17T20:36:40.897123Z",
     "shell.execute_reply": "2023-07-17T20:36:40.895938Z",
     "shell.execute_reply.started": "2023-07-17T20:36:40.889790Z"
    }
   },
   "outputs": [],
   "source": [
    "BGL_tsne= BGL_tsne.fillna(0)"
   ]
  },
  {
   "cell_type": "code",
   "execution_count": 122,
   "metadata": {
    "execution": {
     "iopub.execute_input": "2023-07-17T20:39:04.282921Z",
     "iopub.status.busy": "2023-07-17T20:39:04.282516Z",
     "iopub.status.idle": "2023-07-17T20:39:04.297231Z",
     "shell.execute_reply": "2023-07-17T20:39:04.296141Z",
     "shell.execute_reply.started": "2023-07-17T20:39:04.282888Z"
    }
   },
   "outputs": [
    {
     "data": {
      "text/html": [
       "<div>\n",
       "<style scoped>\n",
       "    .dataframe tbody tr th:only-of-type {\n",
       "        vertical-align: middle;\n",
       "    }\n",
       "\n",
       "    .dataframe tbody tr th {\n",
       "        vertical-align: top;\n",
       "    }\n",
       "\n",
       "    .dataframe thead th {\n",
       "        text-align: right;\n",
       "    }\n",
       "</style>\n",
       "<table border=\"1\" class=\"dataframe\">\n",
       "  <thead>\n",
       "    <tr style=\"text-align: right;\">\n",
       "      <th></th>\n",
       "      <th>clusters</th>\n",
       "      <th>p-15-0</th>\n",
       "      <th>p-15-1</th>\n",
       "      <th>p-16-0</th>\n",
       "      <th>p-16-1</th>\n",
       "      <th>p-17-0</th>\n",
       "    </tr>\n",
       "  </thead>\n",
       "  <tbody>\n",
       "    <tr>\n",
       "      <th>0</th>\n",
       "      <td>15</td>\n",
       "      <td>0.0</td>\n",
       "      <td>0.0</td>\n",
       "      <td>0.0</td>\n",
       "      <td>0.0</td>\n",
       "      <td>0.0</td>\n",
       "    </tr>\n",
       "    <tr>\n",
       "      <th>1</th>\n",
       "      <td>15</td>\n",
       "      <td>0.0</td>\n",
       "      <td>0.0</td>\n",
       "      <td>0.0</td>\n",
       "      <td>0.0</td>\n",
       "      <td>0.0</td>\n",
       "    </tr>\n",
       "    <tr>\n",
       "      <th>2</th>\n",
       "      <td>15</td>\n",
       "      <td>0.0</td>\n",
       "      <td>0.0</td>\n",
       "      <td>0.0</td>\n",
       "      <td>0.0</td>\n",
       "      <td>0.0</td>\n",
       "    </tr>\n",
       "    <tr>\n",
       "      <th>3</th>\n",
       "      <td>15</td>\n",
       "      <td>0.0</td>\n",
       "      <td>0.0</td>\n",
       "      <td>0.0</td>\n",
       "      <td>0.0</td>\n",
       "      <td>0.0</td>\n",
       "    </tr>\n",
       "    <tr>\n",
       "      <th>4</th>\n",
       "      <td>16</td>\n",
       "      <td>0.0</td>\n",
       "      <td>0.0</td>\n",
       "      <td>0.0</td>\n",
       "      <td>0.0</td>\n",
       "      <td>0.0</td>\n",
       "    </tr>\n",
       "  </tbody>\n",
       "</table>\n",
       "</div>"
      ],
      "text/plain": [
       "   clusters  p-15-0  p-15-1  p-16-0  p-16-1  p-17-0\n",
       "0        15     0.0     0.0     0.0     0.0     0.0\n",
       "1        15     0.0     0.0     0.0     0.0     0.0\n",
       "2        15     0.0     0.0     0.0     0.0     0.0\n",
       "3        15     0.0     0.0     0.0     0.0     0.0\n",
       "4        16     0.0     0.0     0.0     0.0     0.0"
      ]
     },
     "execution_count": 122,
     "metadata": {},
     "output_type": "execute_result"
    }
   ],
   "source": [
    "BGL_tsne.head()"
   ]
  },
  {
   "cell_type": "code",
   "execution_count": 123,
   "metadata": {
    "execution": {
     "iopub.execute_input": "2023-07-17T20:39:07.683807Z",
     "iopub.status.busy": "2023-07-17T20:39:07.683084Z",
     "iopub.status.idle": "2023-07-17T20:41:39.414645Z",
     "shell.execute_reply": "2023-07-17T20:41:39.413553Z",
     "shell.execute_reply.started": "2023-07-17T20:39:07.683767Z"
    }
   },
   "outputs": [
    {
     "name": "stdout",
     "output_type": "stream",
     "text": [
      "[t-SNE] Computing 121 nearest neighbors...\n",
      "[t-SNE] Indexed 100000 samples in 0.091s...\n",
      "[t-SNE] Computed neighbors for 100000 samples in 28.062s...\n",
      "[t-SNE] Computed conditional probabilities for sample 1000 / 100000\n",
      "[t-SNE] Computed conditional probabilities for sample 2000 / 100000\n",
      "[t-SNE] Computed conditional probabilities for sample 3000 / 100000\n",
      "[t-SNE] Computed conditional probabilities for sample 4000 / 100000\n",
      "[t-SNE] Computed conditional probabilities for sample 5000 / 100000\n",
      "[t-SNE] Computed conditional probabilities for sample 6000 / 100000\n",
      "[t-SNE] Computed conditional probabilities for sample 7000 / 100000\n",
      "[t-SNE] Computed conditional probabilities for sample 8000 / 100000\n",
      "[t-SNE] Computed conditional probabilities for sample 9000 / 100000\n",
      "[t-SNE] Computed conditional probabilities for sample 10000 / 100000\n",
      "[t-SNE] Computed conditional probabilities for sample 11000 / 100000\n",
      "[t-SNE] Computed conditional probabilities for sample 12000 / 100000\n",
      "[t-SNE] Computed conditional probabilities for sample 13000 / 100000\n",
      "[t-SNE] Computed conditional probabilities for sample 14000 / 100000\n",
      "[t-SNE] Computed conditional probabilities for sample 15000 / 100000\n",
      "[t-SNE] Computed conditional probabilities for sample 16000 / 100000\n",
      "[t-SNE] Computed conditional probabilities for sample 17000 / 100000\n",
      "[t-SNE] Computed conditional probabilities for sample 18000 / 100000\n",
      "[t-SNE] Computed conditional probabilities for sample 19000 / 100000\n",
      "[t-SNE] Computed conditional probabilities for sample 20000 / 100000\n",
      "[t-SNE] Computed conditional probabilities for sample 21000 / 100000\n",
      "[t-SNE] Computed conditional probabilities for sample 22000 / 100000\n",
      "[t-SNE] Computed conditional probabilities for sample 23000 / 100000\n",
      "[t-SNE] Computed conditional probabilities for sample 24000 / 100000\n",
      "[t-SNE] Computed conditional probabilities for sample 25000 / 100000\n",
      "[t-SNE] Computed conditional probabilities for sample 26000 / 100000\n",
      "[t-SNE] Computed conditional probabilities for sample 27000 / 100000\n",
      "[t-SNE] Computed conditional probabilities for sample 28000 / 100000\n",
      "[t-SNE] Computed conditional probabilities for sample 29000 / 100000\n",
      "[t-SNE] Computed conditional probabilities for sample 30000 / 100000\n",
      "[t-SNE] Computed conditional probabilities for sample 31000 / 100000\n",
      "[t-SNE] Computed conditional probabilities for sample 32000 / 100000\n",
      "[t-SNE] Computed conditional probabilities for sample 33000 / 100000\n",
      "[t-SNE] Computed conditional probabilities for sample 34000 / 100000\n",
      "[t-SNE] Computed conditional probabilities for sample 35000 / 100000\n",
      "[t-SNE] Computed conditional probabilities for sample 36000 / 100000\n",
      "[t-SNE] Computed conditional probabilities for sample 37000 / 100000\n",
      "[t-SNE] Computed conditional probabilities for sample 38000 / 100000\n",
      "[t-SNE] Computed conditional probabilities for sample 39000 / 100000\n",
      "[t-SNE] Computed conditional probabilities for sample 40000 / 100000\n",
      "[t-SNE] Computed conditional probabilities for sample 41000 / 100000\n",
      "[t-SNE] Computed conditional probabilities for sample 42000 / 100000\n",
      "[t-SNE] Computed conditional probabilities for sample 43000 / 100000\n",
      "[t-SNE] Computed conditional probabilities for sample 44000 / 100000\n",
      "[t-SNE] Computed conditional probabilities for sample 45000 / 100000\n",
      "[t-SNE] Computed conditional probabilities for sample 46000 / 100000\n",
      "[t-SNE] Computed conditional probabilities for sample 47000 / 100000\n",
      "[t-SNE] Computed conditional probabilities for sample 48000 / 100000\n",
      "[t-SNE] Computed conditional probabilities for sample 49000 / 100000\n",
      "[t-SNE] Computed conditional probabilities for sample 50000 / 100000\n",
      "[t-SNE] Computed conditional probabilities for sample 51000 / 100000\n",
      "[t-SNE] Computed conditional probabilities for sample 52000 / 100000\n",
      "[t-SNE] Computed conditional probabilities for sample 53000 / 100000\n",
      "[t-SNE] Computed conditional probabilities for sample 54000 / 100000\n",
      "[t-SNE] Computed conditional probabilities for sample 55000 / 100000\n",
      "[t-SNE] Computed conditional probabilities for sample 56000 / 100000\n",
      "[t-SNE] Computed conditional probabilities for sample 57000 / 100000\n",
      "[t-SNE] Computed conditional probabilities for sample 58000 / 100000\n",
      "[t-SNE] Computed conditional probabilities for sample 59000 / 100000\n",
      "[t-SNE] Computed conditional probabilities for sample 60000 / 100000\n",
      "[t-SNE] Computed conditional probabilities for sample 61000 / 100000\n",
      "[t-SNE] Computed conditional probabilities for sample 62000 / 100000\n",
      "[t-SNE] Computed conditional probabilities for sample 63000 / 100000\n",
      "[t-SNE] Computed conditional probabilities for sample 64000 / 100000\n",
      "[t-SNE] Computed conditional probabilities for sample 65000 / 100000\n",
      "[t-SNE] Computed conditional probabilities for sample 66000 / 100000\n",
      "[t-SNE] Computed conditional probabilities for sample 67000 / 100000\n",
      "[t-SNE] Computed conditional probabilities for sample 68000 / 100000\n",
      "[t-SNE] Computed conditional probabilities for sample 69000 / 100000\n",
      "[t-SNE] Computed conditional probabilities for sample 70000 / 100000\n",
      "[t-SNE] Computed conditional probabilities for sample 71000 / 100000\n",
      "[t-SNE] Computed conditional probabilities for sample 72000 / 100000\n",
      "[t-SNE] Computed conditional probabilities for sample 73000 / 100000\n",
      "[t-SNE] Computed conditional probabilities for sample 74000 / 100000\n",
      "[t-SNE] Computed conditional probabilities for sample 75000 / 100000\n",
      "[t-SNE] Computed conditional probabilities for sample 76000 / 100000\n",
      "[t-SNE] Computed conditional probabilities for sample 77000 / 100000\n",
      "[t-SNE] Computed conditional probabilities for sample 78000 / 100000\n",
      "[t-SNE] Computed conditional probabilities for sample 79000 / 100000\n",
      "[t-SNE] Computed conditional probabilities for sample 80000 / 100000\n",
      "[t-SNE] Computed conditional probabilities for sample 81000 / 100000\n",
      "[t-SNE] Computed conditional probabilities for sample 82000 / 100000\n",
      "[t-SNE] Computed conditional probabilities for sample 83000 / 100000\n",
      "[t-SNE] Computed conditional probabilities for sample 84000 / 100000\n",
      "[t-SNE] Computed conditional probabilities for sample 85000 / 100000\n",
      "[t-SNE] Computed conditional probabilities for sample 86000 / 100000\n",
      "[t-SNE] Computed conditional probabilities for sample 87000 / 100000\n",
      "[t-SNE] Computed conditional probabilities for sample 88000 / 100000\n",
      "[t-SNE] Computed conditional probabilities for sample 89000 / 100000\n",
      "[t-SNE] Computed conditional probabilities for sample 90000 / 100000\n",
      "[t-SNE] Computed conditional probabilities for sample 91000 / 100000\n",
      "[t-SNE] Computed conditional probabilities for sample 92000 / 100000\n",
      "[t-SNE] Computed conditional probabilities for sample 93000 / 100000\n",
      "[t-SNE] Computed conditional probabilities for sample 94000 / 100000\n",
      "[t-SNE] Computed conditional probabilities for sample 95000 / 100000\n",
      "[t-SNE] Computed conditional probabilities for sample 96000 / 100000\n",
      "[t-SNE] Computed conditional probabilities for sample 97000 / 100000\n",
      "[t-SNE] Computed conditional probabilities for sample 98000 / 100000\n",
      "[t-SNE] Computed conditional probabilities for sample 99000 / 100000\n",
      "[t-SNE] Computed conditional probabilities for sample 100000 / 100000\n",
      "[t-SNE] Mean sigma: 0.000000\n",
      "[t-SNE] KL divergence after 250 iterations with early exaggeration: 16.674320\n",
      "[t-SNE] KL divergence after 300 iterations: -1.171423\n"
     ]
    }
   ],
   "source": [
    "tsne_result = tsne.fit_transform(BGL_tsne)"
   ]
  },
  {
   "cell_type": "code",
   "execution_count": 126,
   "metadata": {
    "execution": {
     "iopub.execute_input": "2023-07-17T20:41:44.639089Z",
     "iopub.status.busy": "2023-07-17T20:41:44.638706Z",
     "iopub.status.idle": "2023-07-17T20:41:44.646860Z",
     "shell.execute_reply": "2023-07-17T20:41:44.645831Z",
     "shell.execute_reply.started": "2023-07-17T20:41:44.639055Z"
    }
   },
   "outputs": [],
   "source": [
    "BGL_tsne['tsne_one'] = tsne_result[:,0]\n",
    "BGL_tsne['tsne_two'] = tsne_result[:,1]\n",
    "labels=BGL[['labels']]\n",
    "BGL_tsne['labels']=labels"
   ]
  },
  {
   "cell_type": "code",
   "execution_count": 127,
   "metadata": {
    "execution": {
     "iopub.execute_input": "2023-07-17T20:41:48.422853Z",
     "iopub.status.busy": "2023-07-17T20:41:48.422449Z",
     "iopub.status.idle": "2023-07-17T20:41:48.438712Z",
     "shell.execute_reply": "2023-07-17T20:41:48.437541Z",
     "shell.execute_reply.started": "2023-07-17T20:41:48.422816Z"
    }
   },
   "outputs": [
    {
     "data": {
      "text/html": [
       "<div>\n",
       "<style scoped>\n",
       "    .dataframe tbody tr th:only-of-type {\n",
       "        vertical-align: middle;\n",
       "    }\n",
       "\n",
       "    .dataframe tbody tr th {\n",
       "        vertical-align: top;\n",
       "    }\n",
       "\n",
       "    .dataframe thead th {\n",
       "        text-align: right;\n",
       "    }\n",
       "</style>\n",
       "<table border=\"1\" class=\"dataframe\">\n",
       "  <thead>\n",
       "    <tr style=\"text-align: right;\">\n",
       "      <th></th>\n",
       "      <th>clusters</th>\n",
       "      <th>p-15-0</th>\n",
       "      <th>p-15-1</th>\n",
       "      <th>p-16-0</th>\n",
       "      <th>p-16-1</th>\n",
       "      <th>p-17-0</th>\n",
       "      <th>tsne_one</th>\n",
       "      <th>tsne_two</th>\n",
       "      <th>labels</th>\n",
       "    </tr>\n",
       "  </thead>\n",
       "  <tbody>\n",
       "    <tr>\n",
       "      <th>0</th>\n",
       "      <td>15</td>\n",
       "      <td>0.0</td>\n",
       "      <td>0.0</td>\n",
       "      <td>0.0</td>\n",
       "      <td>0.0</td>\n",
       "      <td>0.0</td>\n",
       "      <td>7.968689</td>\n",
       "      <td>-3.997494</td>\n",
       "      <td>0</td>\n",
       "    </tr>\n",
       "    <tr>\n",
       "      <th>1</th>\n",
       "      <td>15</td>\n",
       "      <td>0.0</td>\n",
       "      <td>0.0</td>\n",
       "      <td>0.0</td>\n",
       "      <td>0.0</td>\n",
       "      <td>0.0</td>\n",
       "      <td>7.968689</td>\n",
       "      <td>-3.997494</td>\n",
       "      <td>0</td>\n",
       "    </tr>\n",
       "    <tr>\n",
       "      <th>2</th>\n",
       "      <td>15</td>\n",
       "      <td>0.0</td>\n",
       "      <td>0.0</td>\n",
       "      <td>0.0</td>\n",
       "      <td>0.0</td>\n",
       "      <td>0.0</td>\n",
       "      <td>7.968689</td>\n",
       "      <td>-3.997494</td>\n",
       "      <td>0</td>\n",
       "    </tr>\n",
       "    <tr>\n",
       "      <th>3</th>\n",
       "      <td>15</td>\n",
       "      <td>0.0</td>\n",
       "      <td>0.0</td>\n",
       "      <td>0.0</td>\n",
       "      <td>0.0</td>\n",
       "      <td>0.0</td>\n",
       "      <td>7.968689</td>\n",
       "      <td>-3.997494</td>\n",
       "      <td>0</td>\n",
       "    </tr>\n",
       "    <tr>\n",
       "      <th>4</th>\n",
       "      <td>16</td>\n",
       "      <td>0.0</td>\n",
       "      <td>0.0</td>\n",
       "      <td>0.0</td>\n",
       "      <td>0.0</td>\n",
       "      <td>0.0</td>\n",
       "      <td>11.268318</td>\n",
       "      <td>50.422421</td>\n",
       "      <td>0</td>\n",
       "    </tr>\n",
       "  </tbody>\n",
       "</table>\n",
       "</div>"
      ],
      "text/plain": [
       "   clusters  p-15-0  p-15-1  p-16-0  p-16-1  p-17-0   tsne_one   tsne_two  \\\n",
       "0        15     0.0     0.0     0.0     0.0     0.0   7.968689  -3.997494   \n",
       "1        15     0.0     0.0     0.0     0.0     0.0   7.968689  -3.997494   \n",
       "2        15     0.0     0.0     0.0     0.0     0.0   7.968689  -3.997494   \n",
       "3        15     0.0     0.0     0.0     0.0     0.0   7.968689  -3.997494   \n",
       "4        16     0.0     0.0     0.0     0.0     0.0  11.268318  50.422421   \n",
       "\n",
       "   labels  \n",
       "0       0  \n",
       "1       0  \n",
       "2       0  \n",
       "3       0  \n",
       "4       0  "
      ]
     },
     "execution_count": 127,
     "metadata": {},
     "output_type": "execute_result"
    }
   ],
   "source": [
    "BGL_tsne.head()"
   ]
  },
  {
   "cell_type": "code",
   "execution_count": 128,
   "metadata": {
    "execution": {
     "iopub.execute_input": "2023-07-17T20:41:58.887183Z",
     "iopub.status.busy": "2023-07-17T20:41:58.886543Z",
     "iopub.status.idle": "2023-07-17T20:41:58.908661Z",
     "shell.execute_reply": "2023-07-17T20:41:58.907460Z",
     "shell.execute_reply.started": "2023-07-17T20:41:58.887135Z"
    }
   },
   "outputs": [],
   "source": [
    "tsne_cluster = BGL_tsne.groupby(['clusters','labels']).agg({'tsne_one':'mean','tsne_two':'mean'}).reset_index()"
   ]
  },
  {
   "cell_type": "code",
   "execution_count": 129,
   "metadata": {
    "execution": {
     "iopub.execute_input": "2023-07-17T20:42:06.004700Z",
     "iopub.status.busy": "2023-07-17T20:42:06.004322Z",
     "iopub.status.idle": "2023-07-17T20:42:06.022136Z",
     "shell.execute_reply": "2023-07-17T20:42:06.021147Z",
     "shell.execute_reply.started": "2023-07-17T20:42:06.004670Z"
    }
   },
   "outputs": [
    {
     "data": {
      "text/html": [
       "<div>\n",
       "<style scoped>\n",
       "    .dataframe tbody tr th:only-of-type {\n",
       "        vertical-align: middle;\n",
       "    }\n",
       "\n",
       "    .dataframe tbody tr th {\n",
       "        vertical-align: top;\n",
       "    }\n",
       "\n",
       "    .dataframe thead th {\n",
       "        text-align: right;\n",
       "    }\n",
       "</style>\n",
       "<table border=\"1\" class=\"dataframe\">\n",
       "  <thead>\n",
       "    <tr style=\"text-align: right;\">\n",
       "      <th></th>\n",
       "      <th>clusters</th>\n",
       "      <th>p-15-0</th>\n",
       "      <th>p-15-1</th>\n",
       "      <th>p-16-0</th>\n",
       "      <th>p-16-1</th>\n",
       "      <th>p-17-0</th>\n",
       "      <th>tsne_one</th>\n",
       "      <th>tsne_two</th>\n",
       "      <th>labels</th>\n",
       "    </tr>\n",
       "  </thead>\n",
       "  <tbody>\n",
       "    <tr>\n",
       "      <th>0</th>\n",
       "      <td>15</td>\n",
       "      <td>0.0</td>\n",
       "      <td>0.0</td>\n",
       "      <td>0.0</td>\n",
       "      <td>0.0</td>\n",
       "      <td>0.0</td>\n",
       "      <td>7.968689</td>\n",
       "      <td>-3.997494</td>\n",
       "      <td>0</td>\n",
       "    </tr>\n",
       "    <tr>\n",
       "      <th>1</th>\n",
       "      <td>15</td>\n",
       "      <td>0.0</td>\n",
       "      <td>0.0</td>\n",
       "      <td>0.0</td>\n",
       "      <td>0.0</td>\n",
       "      <td>0.0</td>\n",
       "      <td>7.968689</td>\n",
       "      <td>-3.997494</td>\n",
       "      <td>0</td>\n",
       "    </tr>\n",
       "    <tr>\n",
       "      <th>2</th>\n",
       "      <td>15</td>\n",
       "      <td>0.0</td>\n",
       "      <td>0.0</td>\n",
       "      <td>0.0</td>\n",
       "      <td>0.0</td>\n",
       "      <td>0.0</td>\n",
       "      <td>7.968689</td>\n",
       "      <td>-3.997494</td>\n",
       "      <td>0</td>\n",
       "    </tr>\n",
       "    <tr>\n",
       "      <th>3</th>\n",
       "      <td>15</td>\n",
       "      <td>0.0</td>\n",
       "      <td>0.0</td>\n",
       "      <td>0.0</td>\n",
       "      <td>0.0</td>\n",
       "      <td>0.0</td>\n",
       "      <td>7.968689</td>\n",
       "      <td>-3.997494</td>\n",
       "      <td>0</td>\n",
       "    </tr>\n",
       "    <tr>\n",
       "      <th>4</th>\n",
       "      <td>16</td>\n",
       "      <td>0.0</td>\n",
       "      <td>0.0</td>\n",
       "      <td>0.0</td>\n",
       "      <td>0.0</td>\n",
       "      <td>0.0</td>\n",
       "      <td>11.268318</td>\n",
       "      <td>50.422421</td>\n",
       "      <td>0</td>\n",
       "    </tr>\n",
       "  </tbody>\n",
       "</table>\n",
       "</div>"
      ],
      "text/plain": [
       "   clusters  p-15-0  p-15-1  p-16-0  p-16-1  p-17-0   tsne_one   tsne_two  \\\n",
       "0        15     0.0     0.0     0.0     0.0     0.0   7.968689  -3.997494   \n",
       "1        15     0.0     0.0     0.0     0.0     0.0   7.968689  -3.997494   \n",
       "2        15     0.0     0.0     0.0     0.0     0.0   7.968689  -3.997494   \n",
       "3        15     0.0     0.0     0.0     0.0     0.0   7.968689  -3.997494   \n",
       "4        16     0.0     0.0     0.0     0.0     0.0  11.268318  50.422421   \n",
       "\n",
       "   labels  \n",
       "0       0  \n",
       "1       0  \n",
       "2       0  \n",
       "3       0  \n",
       "4       0  "
      ]
     },
     "execution_count": 129,
     "metadata": {},
     "output_type": "execute_result"
    }
   ],
   "source": [
    "BGL_tsne.head()"
   ]
  },
  {
   "cell_type": "code",
   "execution_count": 130,
   "metadata": {
    "execution": {
     "iopub.execute_input": "2023-07-17T20:42:23.534688Z",
     "iopub.status.busy": "2023-07-17T20:42:23.534292Z",
     "iopub.status.idle": "2023-07-17T20:42:23.552718Z",
     "shell.execute_reply": "2023-07-17T20:42:23.551898Z",
     "shell.execute_reply.started": "2023-07-17T20:42:23.534653Z"
    }
   },
   "outputs": [],
   "source": [
    "BGL_tsne.loc[BGL_tsne[\"labels\"] == 0, \"labels\"] = \"normal\"\n",
    "BGL_tsne.loc[BGL_tsne[\"labels\"] == 1, \"labels\"] = \"anomaly\""
   ]
  },
  {
   "cell_type": "code",
   "execution_count": 132,
   "metadata": {
    "execution": {
     "iopub.execute_input": "2023-07-17T20:42:44.071363Z",
     "iopub.status.busy": "2023-07-17T20:42:44.070914Z",
     "iopub.status.idle": "2023-07-17T20:42:44.089721Z",
     "shell.execute_reply": "2023-07-17T20:42:44.088393Z",
     "shell.execute_reply.started": "2023-07-17T20:42:44.071328Z"
    }
   },
   "outputs": [
    {
     "data": {
      "text/html": [
       "<div>\n",
       "<style scoped>\n",
       "    .dataframe tbody tr th:only-of-type {\n",
       "        vertical-align: middle;\n",
       "    }\n",
       "\n",
       "    .dataframe tbody tr th {\n",
       "        vertical-align: top;\n",
       "    }\n",
       "\n",
       "    .dataframe thead th {\n",
       "        text-align: right;\n",
       "    }\n",
       "</style>\n",
       "<table border=\"1\" class=\"dataframe\">\n",
       "  <thead>\n",
       "    <tr style=\"text-align: right;\">\n",
       "      <th></th>\n",
       "      <th>clusters</th>\n",
       "      <th>p-15-0</th>\n",
       "      <th>p-15-1</th>\n",
       "      <th>p-16-0</th>\n",
       "      <th>p-16-1</th>\n",
       "      <th>p-17-0</th>\n",
       "      <th>tsne_one</th>\n",
       "      <th>tsne_two</th>\n",
       "      <th>labels</th>\n",
       "    </tr>\n",
       "  </thead>\n",
       "  <tbody>\n",
       "    <tr>\n",
       "      <th>0</th>\n",
       "      <td>15</td>\n",
       "      <td>0.0</td>\n",
       "      <td>0.0</td>\n",
       "      <td>0.0</td>\n",
       "      <td>0.0</td>\n",
       "      <td>0.0</td>\n",
       "      <td>7.968689</td>\n",
       "      <td>-3.997494</td>\n",
       "      <td>normal</td>\n",
       "    </tr>\n",
       "    <tr>\n",
       "      <th>1</th>\n",
       "      <td>15</td>\n",
       "      <td>0.0</td>\n",
       "      <td>0.0</td>\n",
       "      <td>0.0</td>\n",
       "      <td>0.0</td>\n",
       "      <td>0.0</td>\n",
       "      <td>7.968689</td>\n",
       "      <td>-3.997494</td>\n",
       "      <td>normal</td>\n",
       "    </tr>\n",
       "    <tr>\n",
       "      <th>2</th>\n",
       "      <td>15</td>\n",
       "      <td>0.0</td>\n",
       "      <td>0.0</td>\n",
       "      <td>0.0</td>\n",
       "      <td>0.0</td>\n",
       "      <td>0.0</td>\n",
       "      <td>7.968689</td>\n",
       "      <td>-3.997494</td>\n",
       "      <td>normal</td>\n",
       "    </tr>\n",
       "    <tr>\n",
       "      <th>3</th>\n",
       "      <td>15</td>\n",
       "      <td>0.0</td>\n",
       "      <td>0.0</td>\n",
       "      <td>0.0</td>\n",
       "      <td>0.0</td>\n",
       "      <td>0.0</td>\n",
       "      <td>7.968689</td>\n",
       "      <td>-3.997494</td>\n",
       "      <td>normal</td>\n",
       "    </tr>\n",
       "    <tr>\n",
       "      <th>4</th>\n",
       "      <td>16</td>\n",
       "      <td>0.0</td>\n",
       "      <td>0.0</td>\n",
       "      <td>0.0</td>\n",
       "      <td>0.0</td>\n",
       "      <td>0.0</td>\n",
       "      <td>11.268318</td>\n",
       "      <td>50.422421</td>\n",
       "      <td>normal</td>\n",
       "    </tr>\n",
       "  </tbody>\n",
       "</table>\n",
       "</div>"
      ],
      "text/plain": [
       "   clusters  p-15-0  p-15-1  p-16-0  p-16-1  p-17-0   tsne_one   tsne_two  \\\n",
       "0        15     0.0     0.0     0.0     0.0     0.0   7.968689  -3.997494   \n",
       "1        15     0.0     0.0     0.0     0.0     0.0   7.968689  -3.997494   \n",
       "2        15     0.0     0.0     0.0     0.0     0.0   7.968689  -3.997494   \n",
       "3        15     0.0     0.0     0.0     0.0     0.0   7.968689  -3.997494   \n",
       "4        16     0.0     0.0     0.0     0.0     0.0  11.268318  50.422421   \n",
       "\n",
       "   labels  \n",
       "0  normal  \n",
       "1  normal  \n",
       "2  normal  \n",
       "3  normal  \n",
       "4  normal  "
      ]
     },
     "execution_count": 132,
     "metadata": {},
     "output_type": "execute_result"
    }
   ],
   "source": [
    "BGL_tsne.head()"
   ]
  },
  {
   "cell_type": "code",
   "execution_count": 133,
   "metadata": {
    "execution": {
     "iopub.execute_input": "2023-07-17T20:42:49.973496Z",
     "iopub.status.busy": "2023-07-17T20:42:49.973052Z",
     "iopub.status.idle": "2023-07-17T20:48:31.844267Z",
     "shell.execute_reply": "2023-07-17T20:48:31.843039Z",
     "shell.execute_reply.started": "2023-07-17T20:42:49.973460Z"
    }
   },
   "outputs": [
    {
     "data": {
      "image/png": "[encoded data removed]",
      "text/plain": [
       "<Figure size 1600x1000 with 1 Axes>"
      ]
     },
     "metadata": {},
     "output_type": "display_data"
    }
   ],
   "source": [
    "plt.figure(figsize=(16,10))\n",
    "import seaborn as sns\n",
    "\n",
    "x= BGL_tsne['tsne_one']\n",
    "y=BGL_tsne['tsne_two']\n",
    "\n",
    "ax= sns.scatterplot(\n",
    "    x='tsne_one', y='tsne_two',\n",
    "    hue=\"clusters\",\n",
    "    palette=sns.color_palette(\"hls\", 20),\n",
    "    data=BGL_tsne,\n",
    "    legend=\"full\",\n",
    "    alpha=1\n",
    ")\n",
    "\n",
    "sns.move_legend(ax, \"center right\")\n",
    "#annotate\n",
    "labels= list(BGL_tsne['labels'])\n",
    "for i, label in enumerate(labels):\n",
    "    plt.annotate(label, (x[i], y[i]))\n",
    "\n",
    "plt.show()"
   ]
  }
 ],
 "metadata": {
  "kernelspec": {
   "display_name": "Python 3 (ipykernel)",
   "language": "python",
   "name": "python3"
  },
  "language_info": {
   "codemirror_mode": {
    "name": "ipython",
    "version": 3
   },
   "file_extension": ".py",
   "mimetype": "text/x-python",
   "name": "python",
   "nbconvert_exporter": "python",
   "pygments_lexer": "ipython3",
   "version": "3.10.9"
  }
 },
 "nbformat": 4,
 "nbformat_minor": 4
}
