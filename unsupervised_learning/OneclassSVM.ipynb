{
 "cells": [
  {
   "cell_type": "code",
   "execution_count": 79,
   "metadata": {
    "_cell_guid": "b1076dfc-b9ad-4769-8c92-a6c4dae69d19",
    "_uuid": "8f2839f25d086af736a60e9eeb907d3b93b6e0e5",
    "tags": []
   },
   "outputs": [],
   "source": [
    "import numpy as np # linear algebra\n",
    "import pandas as pd # data processing, CSV file I/O (e.g. pd.read_csv)\n",
    "import warnings\n",
    "warnings.filterwarnings('ignore')\n",
    "\n"
   ]
  },
  {
   "cell_type": "code",
   "execution_count": 80,
   "metadata": {
    "tags": []
   },
   "outputs": [],
   "source": [
    "BGL_for_OneClass= pd.read_csv(\"output/unsupervised/BGL_all_params.csv\")"
   ]
  },
  {
   "cell_type": "code",
   "execution_count": 81,
   "metadata": {
    "tags": []
   },
   "outputs": [
    {
     "data": {
      "text/html": [
       "<div>\n",
       "<style scoped>\n",
       "    .dataframe tbody tr th:only-of-type {\n",
       "        vertical-align: middle;\n",
       "    }\n",
       "\n",
       "    .dataframe tbody tr th {\n",
       "        vertical-align: top;\n",
       "    }\n",
       "\n",
       "    .dataframe thead th {\n",
       "        text-align: right;\n",
       "    }\n",
       "</style>\n",
       "<table border=\"1\" class=\"dataframe\">\n",
       "  <thead>\n",
       "    <tr style=\"text-align: right;\">\n",
       "      <th></th>\n",
       "      <th>Unnamed: 0</th>\n",
       "      <th>timestamp</th>\n",
       "      <th>text</th>\n",
       "      <th>label</th>\n",
       "      <th>filename</th>\n",
       "      <th>clusters</th>\n",
       "      <th>p-15-0</th>\n",
       "      <th>p-15-1</th>\n",
       "      <th>p-16-0</th>\n",
       "      <th>p-16-1</th>\n",
       "      <th>p-17-0</th>\n",
       "    </tr>\n",
       "  </thead>\n",
       "  <tbody>\n",
       "    <tr>\n",
       "      <th>0</th>\n",
       "      <td>0</td>\n",
       "      <td>1.117868e+12</td>\n",
       "      <td>RAS LINKCARD INFO MidplaneSwitchController per...</td>\n",
       "      <td>False</td>\n",
       "      <td>R33-M1-L0-U22-C</td>\n",
       "      <td>15</td>\n",
       "      <td>NaN</td>\n",
       "      <td>NaN</td>\n",
       "      <td>NaN</td>\n",
       "      <td>NaN</td>\n",
       "      <td>NaN</td>\n",
       "    </tr>\n",
       "    <tr>\n",
       "      <th>1</th>\n",
       "      <td>1</td>\n",
       "      <td>1.117868e+12</td>\n",
       "      <td>RAS LINKCARD INFO MidplaneSwitchController per...</td>\n",
       "      <td>False</td>\n",
       "      <td>R27-M1-L3-U18-C</td>\n",
       "      <td>15</td>\n",
       "      <td>NaN</td>\n",
       "      <td>NaN</td>\n",
       "      <td>NaN</td>\n",
       "      <td>NaN</td>\n",
       "      <td>NaN</td>\n",
       "    </tr>\n",
       "    <tr>\n",
       "      <th>2</th>\n",
       "      <td>2</td>\n",
       "      <td>1.117869e+12</td>\n",
       "      <td>RAS LINKCARD INFO MidplaneSwitchController per...</td>\n",
       "      <td>False</td>\n",
       "      <td>R33-M1-L0-U22-C</td>\n",
       "      <td>15</td>\n",
       "      <td>NaN</td>\n",
       "      <td>NaN</td>\n",
       "      <td>NaN</td>\n",
       "      <td>NaN</td>\n",
       "      <td>NaN</td>\n",
       "    </tr>\n",
       "    <tr>\n",
       "      <th>3</th>\n",
       "      <td>3</td>\n",
       "      <td>1.117869e+12</td>\n",
       "      <td>RAS LINKCARD INFO MidplaneSwitchController per...</td>\n",
       "      <td>False</td>\n",
       "      <td>R27-M1-L3-U18-C</td>\n",
       "      <td>15</td>\n",
       "      <td>NaN</td>\n",
       "      <td>NaN</td>\n",
       "      <td>NaN</td>\n",
       "      <td>NaN</td>\n",
       "      <td>NaN</td>\n",
       "    </tr>\n",
       "    <tr>\n",
       "      <th>4</th>\n",
       "      <td>4</td>\n",
       "      <td>1.117870e+12</td>\n",
       "      <td>RAS APP FATAL ciod: LOGIN chdir(/p/gb2/draeger...</td>\n",
       "      <td>False</td>\n",
       "      <td>R23-M0-N4-I:J18-U11</td>\n",
       "      <td>16</td>\n",
       "      <td>NaN</td>\n",
       "      <td>NaN</td>\n",
       "      <td>NaN</td>\n",
       "      <td>NaN</td>\n",
       "      <td>NaN</td>\n",
       "    </tr>\n",
       "  </tbody>\n",
       "</table>\n",
       "</div>"
      ],
      "text/plain": [
       "   Unnamed: 0     timestamp  \\\n",
       "0           0  1.117868e+12   \n",
       "1           1  1.117868e+12   \n",
       "2           2  1.117869e+12   \n",
       "3           3  1.117869e+12   \n",
       "4           4  1.117870e+12   \n",
       "\n",
       "                                                text  label  \\\n",
       "0  RAS LINKCARD INFO MidplaneSwitchController per...  False   \n",
       "1  RAS LINKCARD INFO MidplaneSwitchController per...  False   \n",
       "2  RAS LINKCARD INFO MidplaneSwitchController per...  False   \n",
       "3  RAS LINKCARD INFO MidplaneSwitchController per...  False   \n",
       "4  RAS APP FATAL ciod: LOGIN chdir(/p/gb2/draeger...  False   \n",
       "\n",
       "              filename  clusters  p-15-0  p-15-1  p-16-0  p-16-1  p-17-0  \n",
       "0      R33-M1-L0-U22-C        15     NaN     NaN     NaN     NaN     NaN  \n",
       "1      R27-M1-L3-U18-C        15     NaN     NaN     NaN     NaN     NaN  \n",
       "2      R33-M1-L0-U22-C        15     NaN     NaN     NaN     NaN     NaN  \n",
       "3      R27-M1-L3-U18-C        15     NaN     NaN     NaN     NaN     NaN  \n",
       "4  R23-M0-N4-I:J18-U11        16     NaN     NaN     NaN     NaN     NaN  "
      ]
     },
     "execution_count": 81,
     "metadata": {},
     "output_type": "execute_result"
    }
   ],
   "source": [
    "BGL_for_OneClass.head()"
   ]
  },
  {
   "cell_type": "code",
   "execution_count": 82,
   "metadata": {
    "tags": []
   },
   "outputs": [
    {
     "data": {
      "text/html": [
       "<div>\n",
       "<style scoped>\n",
       "    .dataframe tbody tr th:only-of-type {\n",
       "        vertical-align: middle;\n",
       "    }\n",
       "\n",
       "    .dataframe tbody tr th {\n",
       "        vertical-align: top;\n",
       "    }\n",
       "\n",
       "    .dataframe thead th {\n",
       "        text-align: right;\n",
       "    }\n",
       "</style>\n",
       "<table border=\"1\" class=\"dataframe\">\n",
       "  <thead>\n",
       "    <tr style=\"text-align: right;\">\n",
       "      <th></th>\n",
       "      <th>0</th>\n",
       "      <th>1</th>\n",
       "      <th>2</th>\n",
       "      <th>3</th>\n",
       "      <th>4</th>\n",
       "      <th>5</th>\n",
       "      <th>6</th>\n",
       "      <th>7</th>\n",
       "      <th>8</th>\n",
       "      <th>9</th>\n",
       "      <th>10</th>\n",
       "      <th>11</th>\n",
       "      <th>12</th>\n",
       "      <th>13</th>\n",
       "      <th>14</th>\n",
       "      <th>15</th>\n",
       "      <th>16</th>\n",
       "      <th>17</th>\n",
       "      <th>18</th>\n",
       "      <th>19</th>\n",
       "    </tr>\n",
       "  </thead>\n",
       "  <tbody>\n",
       "    <tr>\n",
       "      <th>0</th>\n",
       "      <td>0</td>\n",
       "      <td>0</td>\n",
       "      <td>0</td>\n",
       "      <td>0</td>\n",
       "      <td>0</td>\n",
       "      <td>0</td>\n",
       "      <td>0</td>\n",
       "      <td>0</td>\n",
       "      <td>0</td>\n",
       "      <td>0</td>\n",
       "      <td>0</td>\n",
       "      <td>0</td>\n",
       "      <td>0</td>\n",
       "      <td>0</td>\n",
       "      <td>0</td>\n",
       "      <td>1</td>\n",
       "      <td>0</td>\n",
       "      <td>0</td>\n",
       "      <td>0</td>\n",
       "      <td>0</td>\n",
       "    </tr>\n",
       "    <tr>\n",
       "      <th>1</th>\n",
       "      <td>0</td>\n",
       "      <td>0</td>\n",
       "      <td>0</td>\n",
       "      <td>0</td>\n",
       "      <td>0</td>\n",
       "      <td>0</td>\n",
       "      <td>0</td>\n",
       "      <td>0</td>\n",
       "      <td>0</td>\n",
       "      <td>0</td>\n",
       "      <td>0</td>\n",
       "      <td>0</td>\n",
       "      <td>0</td>\n",
       "      <td>0</td>\n",
       "      <td>0</td>\n",
       "      <td>1</td>\n",
       "      <td>0</td>\n",
       "      <td>0</td>\n",
       "      <td>0</td>\n",
       "      <td>0</td>\n",
       "    </tr>\n",
       "    <tr>\n",
       "      <th>2</th>\n",
       "      <td>0</td>\n",
       "      <td>0</td>\n",
       "      <td>0</td>\n",
       "      <td>0</td>\n",
       "      <td>0</td>\n",
       "      <td>0</td>\n",
       "      <td>0</td>\n",
       "      <td>0</td>\n",
       "      <td>0</td>\n",
       "      <td>0</td>\n",
       "      <td>0</td>\n",
       "      <td>0</td>\n",
       "      <td>0</td>\n",
       "      <td>0</td>\n",
       "      <td>0</td>\n",
       "      <td>1</td>\n",
       "      <td>0</td>\n",
       "      <td>0</td>\n",
       "      <td>0</td>\n",
       "      <td>0</td>\n",
       "    </tr>\n",
       "    <tr>\n",
       "      <th>3</th>\n",
       "      <td>0</td>\n",
       "      <td>0</td>\n",
       "      <td>0</td>\n",
       "      <td>0</td>\n",
       "      <td>0</td>\n",
       "      <td>0</td>\n",
       "      <td>0</td>\n",
       "      <td>0</td>\n",
       "      <td>0</td>\n",
       "      <td>0</td>\n",
       "      <td>0</td>\n",
       "      <td>0</td>\n",
       "      <td>0</td>\n",
       "      <td>0</td>\n",
       "      <td>0</td>\n",
       "      <td>1</td>\n",
       "      <td>0</td>\n",
       "      <td>0</td>\n",
       "      <td>0</td>\n",
       "      <td>0</td>\n",
       "    </tr>\n",
       "    <tr>\n",
       "      <th>4</th>\n",
       "      <td>0</td>\n",
       "      <td>0</td>\n",
       "      <td>0</td>\n",
       "      <td>0</td>\n",
       "      <td>0</td>\n",
       "      <td>0</td>\n",
       "      <td>0</td>\n",
       "      <td>0</td>\n",
       "      <td>0</td>\n",
       "      <td>0</td>\n",
       "      <td>0</td>\n",
       "      <td>0</td>\n",
       "      <td>0</td>\n",
       "      <td>0</td>\n",
       "      <td>0</td>\n",
       "      <td>0</td>\n",
       "      <td>1</td>\n",
       "      <td>0</td>\n",
       "      <td>0</td>\n",
       "      <td>0</td>\n",
       "    </tr>\n",
       "  </tbody>\n",
       "</table>\n",
       "</div>"
      ],
      "text/plain": [
       "   0   1   2   3   4   5   6   7   8   9   10  11  12  13  14  15  16  17  18  \\\n",
       "0   0   0   0   0   0   0   0   0   0   0   0   0   0   0   0   1   0   0   0   \n",
       "1   0   0   0   0   0   0   0   0   0   0   0   0   0   0   0   1   0   0   0   \n",
       "2   0   0   0   0   0   0   0   0   0   0   0   0   0   0   0   1   0   0   0   \n",
       "3   0   0   0   0   0   0   0   0   0   0   0   0   0   0   0   1   0   0   0   \n",
       "4   0   0   0   0   0   0   0   0   0   0   0   0   0   0   0   0   1   0   0   \n",
       "\n",
       "   19  \n",
       "0   0  \n",
       "1   0  \n",
       "2   0  \n",
       "3   0  \n",
       "4   0  "
      ]
     },
     "execution_count": 82,
     "metadata": {},
     "output_type": "execute_result"
    }
   ],
   "source": [
    "one_hot_encoded_BGL = pd.get_dummies(BGL_for_OneClass['clusters'])\n",
    "one_hot_encoded_BGL.head()"
   ]
  },
  {
   "cell_type": "code",
   "execution_count": 83,
   "metadata": {
    "tags": []
   },
   "outputs": [],
   "source": [
    "for col in one_hot_encoded_BGL.columns:\n",
    "    col_name= \"c\"+str(col)\n",
    "    BGL_for_OneClass[col_name]=one_hot_encoded_BGL[col]"
   ]
  },
  {
   "cell_type": "code",
   "execution_count": 84,
   "metadata": {
    "tags": []
   },
   "outputs": [
    {
     "data": {
      "text/plain": [
       "<bound method NDFrame.head of        Unnamed: 0     timestamp  \\\n",
       "0               0  1.117868e+12   \n",
       "1               1  1.117868e+12   \n",
       "2               2  1.117869e+12   \n",
       "3               3  1.117869e+12   \n",
       "4               4  1.117870e+12   \n",
       "...           ...           ...   \n",
       "99995       99995  1.119257e+12   \n",
       "99996       99996  1.119257e+12   \n",
       "99997       99997  1.119257e+12   \n",
       "99998       99998  1.119257e+12   \n",
       "99999       99999  1.119257e+12   \n",
       "\n",
       "                                                    text  label  \\\n",
       "0      RAS LINKCARD INFO MidplaneSwitchController per...  False   \n",
       "1      RAS LINKCARD INFO MidplaneSwitchController per...  False   \n",
       "2      RAS LINKCARD INFO MidplaneSwitchController per...  False   \n",
       "3      RAS LINKCARD INFO MidplaneSwitchController per...  False   \n",
       "4      RAS APP FATAL ciod: LOGIN chdir(/p/gb2/draeger...  False   \n",
       "...                                                  ...    ...   \n",
       "99995  RAS APP FATAL ciod: failed to read message pre...   True   \n",
       "99996  RAS APP FATAL ciod: failed to read message pre...   True   \n",
       "99997  RAS APP FATAL ciod: failed to read message pre...   True   \n",
       "99998  RAS APP FATAL ciod: failed to read message pre...   True   \n",
       "99999  RAS APP FATAL ciod: failed to read message pre...   True   \n",
       "\n",
       "                  filename  clusters  p-15-0  p-15-1  p-16-0  p-16-1  ...  \\\n",
       "0          R33-M1-L0-U22-C        15     NaN     NaN     NaN     NaN  ...   \n",
       "1          R27-M1-L3-U18-C        15     NaN     NaN     NaN     NaN  ...   \n",
       "2          R33-M1-L0-U22-C        15     NaN     NaN     NaN     NaN  ...   \n",
       "3          R27-M1-L3-U18-C        15     NaN     NaN     NaN     NaN  ...   \n",
       "4      R23-M0-N4-I:J18-U11        16     NaN     NaN     NaN     NaN  ...   \n",
       "...                    ...       ...     ...     ...     ...     ...  ...   \n",
       "99995  R11-M0-N4-I:J18-U11         8     NaN     NaN     NaN     NaN  ...   \n",
       "99996  R11-M0-N4-I:J18-U01         8     NaN     NaN     NaN     NaN  ...   \n",
       "99997  R04-M1-N0-I:J18-U11         8     NaN     NaN     NaN     NaN  ...   \n",
       "99998  R04-M1-N0-I:J18-U01         8     NaN     NaN     NaN     NaN  ...   \n",
       "99999  R01-M0-N4-I:J18-U11         8     NaN     NaN     NaN     NaN  ...   \n",
       "\n",
       "       c10  c11  c12  c13  c14  c15  c16  c17  c18  c19  \n",
       "0        0    0    0    0    0    1    0    0    0    0  \n",
       "1        0    0    0    0    0    1    0    0    0    0  \n",
       "2        0    0    0    0    0    1    0    0    0    0  \n",
       "3        0    0    0    0    0    1    0    0    0    0  \n",
       "4        0    0    0    0    0    0    1    0    0    0  \n",
       "...    ...  ...  ...  ...  ...  ...  ...  ...  ...  ...  \n",
       "99995    0    0    0    0    0    0    0    0    0    0  \n",
       "99996    0    0    0    0    0    0    0    0    0    0  \n",
       "99997    0    0    0    0    0    0    0    0    0    0  \n",
       "99998    0    0    0    0    0    0    0    0    0    0  \n",
       "99999    0    0    0    0    0    0    0    0    0    0  \n",
       "\n",
       "[100000 rows x 31 columns]>"
      ]
     },
     "execution_count": 84,
     "metadata": {},
     "output_type": "execute_result"
    }
   ],
   "source": [
    "BGL_for_OneClass.head"
   ]
  },
  {
   "cell_type": "code",
   "execution_count": 85,
   "metadata": {
    "tags": []
   },
   "outputs": [
    {
     "data": {
      "text/plain": [
       "Index(['label', 'p-15-0', 'p-15-1', 'p-16-0', 'p-16-1', 'p-17-0', 'c0', 'c1',\n",
       "       'c2', 'c3', 'c4', 'c5', 'c6', 'c7', 'c8', 'c9', 'c10', 'c11', 'c12',\n",
       "       'c13', 'c14', 'c15', 'c16', 'c17', 'c18', 'c19'],\n",
       "      dtype='object')"
      ]
     },
     "execution_count": 85,
     "metadata": {},
     "output_type": "execute_result"
    }
   ],
   "source": [
    "BGL_for_OneClass.fillna(0,inplace=True)\n",
    "\n",
    "BGL_for_OneClass.drop(columns=['clusters','Unnamed: 0','timestamp','text','filename'], inplace=True)\n",
    "\n",
    "BGL_for_OneClass.columns"
   ]
  },
  {
   "cell_type": "markdown",
   "metadata": {},
   "source": [
    "# One class SVM"
   ]
  },
  {
   "cell_type": "code",
   "execution_count": 86,
   "metadata": {
    "tags": []
   },
   "outputs": [],
   "source": [
    "from sklearn.svm import OneClassSVM\n",
    "from numpy import quantile, where, random\n",
    "import matplotlib.pyplot as plt\n",
    "from sklearn.model_selection import train_test_split\n",
    "from sklearn.preprocessing import LabelEncoder"
   ]
  },
  {
   "cell_type": "code",
   "execution_count": 87,
   "metadata": {
    "tags": []
   },
   "outputs": [],
   "source": [
    "le = LabelEncoder()\n",
    "X = BGL_for_OneClass.drop('label', axis =1)\n",
    "y = le.fit_transform(BGL_for_OneClass['label'])\n",
    "X_train, X_test, y_train, y_test = train_test_split( X, y, test_size=0.33, random_state=42)"
   ]
  },
  {
   "cell_type": "code",
   "execution_count": 88,
   "metadata": {
    "tags": []
   },
   "outputs": [],
   "source": [
    "oneclass = OneClassSVM(kernel='rbf',gamma='auto').fit(X_train)\n",
    "y_pred = oneclass.predict(X_test)\n",
    "y_pred = [1 if i==-1 else 0 for i in y_pred]\n"
   ]
  },
  {
   "cell_type": "code",
   "execution_count": 89,
   "metadata": {
    "tags": []
   },
   "outputs": [
    {
     "name": "stdout",
     "output_type": "stream",
     "text": [
      "Train Result:\n",
      "================================================\n",
      "Accuracy Score: 90.36%\n",
      "_______________________________________________\n",
      "CLASSIFICATION REPORT:\n",
      "                      0            1  accuracy     macro avg  weighted avg\n",
      "precision      1.000000     0.441027  0.903636      0.720513      0.957501\n",
      "recall         0.895707     1.000000  0.903636      0.947853      0.903636\n",
      "f1-score       0.944985     0.612101  0.903636      0.778543      0.919675\n",
      "support    30491.000000  2509.000000  0.903636  33000.000000  33000.000000\n",
      "_______________________________________________\n",
      "Confusion Matrix: \n",
      " [[27311  3180]\n",
      " [    0  2509]]\n",
      "\n",
      "_______________________________________________\n",
      "Recall Score: \n",
      " 1.0\n",
      "_______________________________________________\n",
      "Roc AUC Score: \n",
      " 0.9478534649568725\n"
     ]
    },
    {
     "data": {
      "image/png": "[encoded data removed]",
      "text/plain": [
       "<Figure size 640x480 with 2 Axes>"
      ]
     },
     "metadata": {},
     "output_type": "display_data"
    }
   ],
   "source": [
    "from sklearn.metrics import roc_curve, roc_auc_score, classification_report, \\\n",
    "accuracy_score, confusion_matrix ,f1_score, precision_score, recall_score, auc\n",
    "oneClass_report = pd.DataFrame(classification_report(y_test, y_pred, output_dict=True))\n",
    "print(\"Train Result:\\n================================================\")        \n",
    "print(f\"Accuracy Score: {accuracy_score(y_test, y_pred) * 100:.2f}%\")\n",
    "print(\"_______________________________________________\")\n",
    "print(f\"CLASSIFICATION REPORT:\\n{oneClass_report}\")\n",
    "print(\"_______________________________________________\")\n",
    "print(f\"Confusion Matrix: \\n {confusion_matrix(y_test, y_pred)}\\n\")\n",
    "print(\"_______________________________________________\")\n",
    "print(f'Recall Score: \\n {recall_score(y_test, y_pred)}')\n",
    "print(\"_______________________________________________\")\n",
    "print(f'Roc AUC Score: \\n {roc_auc_score(y_test, y_pred)}')\n",
    "\n",
    "oneClass_report\n",
    "from sklearn.metrics import ConfusionMatrixDisplay\n",
    "import matplotlib.pyplot as plt\n",
    "\n",
    "ConfusionMatrixDisplay.from_predictions(y_test, y_pred)\n",
    "plt.show()\n",
    "\n"
   ]
  },
  {
   "cell_type": "code",
   "execution_count": null,
   "metadata": {},
   "outputs": [],
   "source": []
  }
 ],
 "metadata": {
  "kernelspec": {
   "display_name": "Python 3 (ipykernel)",
   "language": "python",
   "name": "python3"
  },
  "language_info": {
   "codemirror_mode": {
    "name": "ipython",
    "version": 3
   },
   "file_extension": ".py",
   "mimetype": "text/x-python",
   "name": "python",
   "nbconvert_exporter": "python",
   "pygments_lexer": "ipython3",
   "version": "3.9.13"
  }
 },
 "nbformat": 4,
 "nbformat_minor": 4
}
