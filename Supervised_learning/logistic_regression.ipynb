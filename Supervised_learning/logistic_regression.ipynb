{
 "cells": [
  {
   "cell_type": "markdown",
   "id": "55b24b4c",
   "metadata": {},
   "source": [
    "## 1.Data Exploration\n"
   ]
  },
  {
   "cell_type": "code",
   "execution_count": 1,
   "id": "73038468",
   "metadata": {},
   "outputs": [],
   "source": [
    "#import necessary libraries\n",
    "import re\n",
    "import pandas as pd\n",
    "import nltk\n",
    "import csv\n",
    "import numpy as np\n",
    "import seaborn as sns\n",
    "from tqdm import tqdm\n",
    "tqdm.pandas()\n",
    "from nltk.corpus import stopwords\n",
    "pd.set_option('display.max_colwidth', None)\n",
    "from tqdm import tqdm\n",
    "import matplotlib.pyplot as plt\n",
    "from sklearn.feature_extraction.text import TfidfVectorizer\n",
    "from sklearn.dummy import DummyClassifier\n",
    "from sklearn.linear_model import LogisticRegression\n",
    "from sklearn.model_selection import train_test_split\n",
    "from sklearn.model_selection import cross_val_score, StratifiedKFold\n",
    "from sklearn.preprocessing import LabelEncoder\n",
    "from sklearn.metrics import accuracy_score\n",
    "from sklearn.metrics import f1_score"
   ]
  },
  {
   "cell_type": "code",
   "execution_count": 2,
   "id": "f619a7a7",
   "metadata": {},
   "outputs": [],
   "source": [
    "def explore_dataset(input_dir,file):\n",
    "    df= pd.read_csv(input_dir+\"/\"+file)\n",
    "    df.loc[df[\"label\"] == False, \"label\"] = 0 #anomaly\n",
    "    df.loc[df[\"label\"] == True, \"label\"] = 1 #non_anomaly\n",
    "    df.dropna(inplace=True)\n",
    "    print(\"This file consists of {} log files\".format(df.shape[0]))\n",
    "    print(\"The number of unique logs in the text field is: \" + str(df['text'].nunique()))\n",
    "    plt.figure(figsize=(3, 4), dpi = 110)\n",
    "    imbalanced_data_plot= sns.countplot(x=df['label'])\n",
    "    return df,imbalanced_data_plot   "
   ]
  },
  {
   "cell_type": "code",
   "execution_count": 3,
   "id": "61fcb0da",
   "metadata": {},
   "outputs": [
    {
     "name": "stdout",
     "output_type": "stream",
     "text": [
      "This file consists of 393433 log files\n",
      "The number of unique logs in the text field is: 83188\n"
     ]
    },
    {
     "data": {
      "image/png": "[encoded data removed]",
      "text/plain": [
       "<Figure size 330x440 with 1 Axes>"
      ]
     },
     "metadata": {
      "needs_background": "light"
     },
     "output_type": "display_data"
    }
   ],
   "source": [
    "input_dir=\"output\"\n",
    "file=\"Hadoop.csv\"\n",
    "\n",
    "hadoop_df,plot=explore_dataset(input_dir,file)"
   ]
  },
  {
   "cell_type": "code",
   "execution_count": 4,
   "id": "a94dcb55",
   "metadata": {},
   "outputs": [
    {
     "data": {
      "text/html": [
       "<div>\n",
       "<style scoped>\n",
       "    .dataframe tbody tr th:only-of-type {\n",
       "        vertical-align: middle;\n",
       "    }\n",
       "\n",
       "    .dataframe tbody tr th {\n",
       "        vertical-align: top;\n",
       "    }\n",
       "\n",
       "    .dataframe thead th {\n",
       "        text-align: right;\n",
       "    }\n",
       "</style>\n",
       "<table border=\"1\" class=\"dataframe\">\n",
       "  <thead>\n",
       "    <tr style=\"text-align: right;\">\n",
       "      <th></th>\n",
       "      <th>timestamp</th>\n",
       "      <th>text</th>\n",
       "      <th>label</th>\n",
       "    </tr>\n",
       "  </thead>\n",
       "  <tbody>\n",
       "    <tr>\n",
       "      <th>0</th>\n",
       "      <td>1.445121e+12</td>\n",
       "      <td>INFO [main] org.apache.hadoop.metrics2.impl.MetricsConfig: loaded properties from hadoop-metrics2.properties</td>\n",
       "      <td>0</td>\n",
       "    </tr>\n",
       "    <tr>\n",
       "      <th>1</th>\n",
       "      <td>1.445121e+12</td>\n",
       "      <td>INFO [main] org.apache.hadoop.metrics2.impl.MetricsSystemImpl: Scheduled snapshot period at 10 second(s).</td>\n",
       "      <td>0</td>\n",
       "    </tr>\n",
       "    <tr>\n",
       "      <th>2</th>\n",
       "      <td>1.445121e+12</td>\n",
       "      <td>INFO [main] org.apache.hadoop.metrics2.impl.MetricsSystemImpl: MapTask metrics system started</td>\n",
       "      <td>0</td>\n",
       "    </tr>\n",
       "    <tr>\n",
       "      <th>3</th>\n",
       "      <td>1.445121e+12</td>\n",
       "      <td>INFO [main] org.apache.hadoop.mapred.YarnChild: Executing with tokens:</td>\n",
       "      <td>0</td>\n",
       "    </tr>\n",
       "    <tr>\n",
       "      <th>4</th>\n",
       "      <td>1.445121e+12</td>\n",
       "      <td>INFO [main] org.apache.hadoop.mapred.YarnChild: Kind: mapreduce.job, Service: job_1445062781478_0011, Ident: (org.apache.hadoop.mapreduce.security.token.JobTokenIdentifier@56b87a95)</td>\n",
       "      <td>0</td>\n",
       "    </tr>\n",
       "  </tbody>\n",
       "</table>\n",
       "</div>"
      ],
      "text/plain": [
       "      timestamp  \\\n",
       "0  1.445121e+12   \n",
       "1  1.445121e+12   \n",
       "2  1.445121e+12   \n",
       "3  1.445121e+12   \n",
       "4  1.445121e+12   \n",
       "\n",
       "                                                                                                                                                                                    text  \\\n",
       "0                                                                           INFO [main] org.apache.hadoop.metrics2.impl.MetricsConfig: loaded properties from hadoop-metrics2.properties   \n",
       "1                                                                              INFO [main] org.apache.hadoop.metrics2.impl.MetricsSystemImpl: Scheduled snapshot period at 10 second(s).   \n",
       "2                                                                                          INFO [main] org.apache.hadoop.metrics2.impl.MetricsSystemImpl: MapTask metrics system started   \n",
       "3                                                                                                                 INFO [main] org.apache.hadoop.mapred.YarnChild: Executing with tokens:   \n",
       "4  INFO [main] org.apache.hadoop.mapred.YarnChild: Kind: mapreduce.job, Service: job_1445062781478_0011, Ident: (org.apache.hadoop.mapreduce.security.token.JobTokenIdentifier@56b87a95)   \n",
       "\n",
       "  label  \n",
       "0     0  \n",
       "1     0  \n",
       "2     0  \n",
       "3     0  \n",
       "4     0  "
      ]
     },
     "execution_count": 4,
     "metadata": {},
     "output_type": "execute_result"
    }
   ],
   "source": [
    "hadoop_df.head()"
   ]
  },
  {
   "cell_type": "markdown",
   "id": "dcff8305",
   "metadata": {},
   "source": [
    "## 2.Feature Extraction\n",
    "\n",
    "Steps to follow:\n",
    "1. Split data into training and testing to avoid data leakage\n",
    "2. Run X_train and X_test through the vectorizer to obtain tfidf values"
   ]
  },
  {
   "cell_type": "code",
   "execution_count": 13,
   "id": "1c44ee60",
   "metadata": {},
   "outputs": [],
   "source": [
    "def train_test_vectorize(df):\n",
    "    training_data,testing_data = train_test_split(df, test_size=0.2, random_state=0)\n",
    "\n",
    "    \n",
    "    X_train_unprocessed=training_data['text']\n",
    "    y_train=training_data['label']\n",
    "    y_train=y_train.astype('int')\n",
    "\n",
    "    X_test_unprocessed=testing_data['text']\n",
    "    y_test=testing_data['label']\n",
    "    y_test=y_test.astype('int')\n",
    "\n",
    "    tfidf_vectorizer = TfidfVectorizer()\n",
    "    \n",
    "    vectorized_text_train=tfidf_vectorizer.fit_transform(X_train_unprocessed)\n",
    "    vectorized_text_test=tfidf_vectorizer.fit_transform(X_test_unprocessed)\n",
    "    \n",
    "    return vectorized_text_train,y_train,vectorized_text_test,y_test"
   ]
  },
  {
   "cell_type": "code",
   "execution_count": 14,
   "id": "317d146c",
   "metadata": {},
   "outputs": [],
   "source": [
    "X_train,y_train,X_test,y_test=train_test_vectorize(hadoop_df)"
   ]
  },
  {
   "cell_type": "code",
   "execution_count": 15,
   "id": "3fe082d5",
   "metadata": {},
   "outputs": [
    {
     "data": {
      "text/plain": [
       "<314746x25434 sparse matrix of type '<class 'numpy.float64'>'\n",
       "\twith 4060981 stored elements in Compressed Sparse Row format>"
      ]
     },
     "execution_count": 15,
     "metadata": {},
     "output_type": "execute_result"
    }
   ],
   "source": [
    "X_train"
   ]
  },
  {
   "cell_type": "code",
   "execution_count": 16,
   "id": "9675c7d6",
   "metadata": {},
   "outputs": [],
   "source": [
    "def simple_logistic_regression(X_train, y_train, X_test, y_test):\n",
    "    \n",
    "    clf = LogisticRegression(random_state=0).fit(X_train, y_train)\n",
    "    pred=clf.predict(X_test)\n",
    "    return pred"
   ]
  },
  {
   "cell_type": "code",
   "execution_count": null,
   "id": "f4a55930",
   "metadata": {},
   "outputs": [],
   "source": [
    "simple_logistic_regression(X_train, y_train, X_test, y_test)"
   ]
  },
  {
   "cell_type": "markdown",
   "id": "2bfe182c",
   "metadata": {},
   "source": [
    "After a failed attempt to run the logistic regression, I hoped that normalizing the data or reducing the feature space might prove helpful. However, I have not been successul at this either."
   ]
  },
  {
   "cell_type": "code",
   "execution_count": 4,
   "id": "9f8fee2e",
   "metadata": {},
   "outputs": [],
   "source": [
    "\n",
    "def normalize_and_pca(df,text, lines = -1,keep_stopwords = True):\n",
    "    \"\"\"Normalizes text in to lower capital letters, removes non-alpha numeric characters,\n",
    "    new lines, stopwords from the original text\"\"\"\n",
    "    \n",
    "    # 1. Normalize text: \n",
    "    if keep_stopwords:\n",
    "        df['norm_text'] = (df[text]\n",
    "                .progress_apply(lambda x: x.lower())                             #lower text\n",
    "                .progress_apply(lambda y: re.sub('[\\W+\\d+]', \" \", y))            #remove non-alpha numeric charcaters\n",
    "                .progress_apply(lambda z: re.sub('\\n',\"\", z))                    #remove new line\n",
    "                .progress_apply(lambda d: re.sub('__',\"\",d))                     #remove double underscore\n",
    "                .progress_apply(lambda sd: re.sub('_',\"\",sd))                    #remove single underscore\n",
    "                .progress_apply(lambda rs: \" \".join(rs.split())))                #remove extra spaces   \n",
    "        \n",
    "  \n",
    "    # 2. Vectorize text\n",
    "    \n",
    "    # keep max_features 500\n",
    "    # initiate vectorizer: \n",
    "    vectorizer  = TfidfVectorizer(max_features=500)\n",
    "    \n",
    "    if lines>=0:\n",
    "        norm_text = df['norm_text'].values[0:lines]\n",
    "    else: \n",
    "        norm_text = df['norm_text'].values\n",
    "\n",
    "    # fit transform\n",
    "    X = vectorizer.fit_transform(norm_text)\n",
    "    \n",
    "    # convert vectorized text into dataframe\n",
    "    df_x_tdif = pd.DataFrame(X.toarray(), columns = vectorizer.get_feature_names_out())\n",
    "    \n",
    "    \n",
    "    # 3. Reduce TFIDF features X, to 6 Principle components (Assessing impact)\n",
    "    \n",
    "    from sklearn.decomposition import PCA\n",
    "    \n",
    "    X_pca = PCA(n_components=6).fit_transform(StandardScaler().fit_transform(df_x_tdif))\n",
    "    \n",
    "    # convert pca features to dataframe:\n",
    "    df_xpca = pd.DataFrame(X_pca, columns = [\"pca\"+str(i) for i in range(1, npca_components+1)])\n",
    "    \n",
    "    # concat df_pca features with df\n",
    "    df_pca = pd.concat([df, df_xpca], axis = 1, ignore_index=False)\n",
    "\n",
    "    # 4. Return output \n",
    "    # df with reduced pca features\n",
    "    # df with vectorized text\n",
    "    \n",
    "    return df_pca, df_x_tdif"
   ]
  },
  {
   "cell_type": "code",
   "execution_count": null,
   "id": "617f782e",
   "metadata": {},
   "outputs": [
    {
     "name": "stderr",
     "output_type": "stream",
     "text": [
      "100%|██████████| 393433/393433 [00:00<00:00, 1117075.61it/s]\n",
      "100%|██████████| 393433/393433 [00:02<00:00, 154287.83it/s]\n",
      "100%|██████████| 393433/393433 [00:00<00:00, 802407.55it/s]\n",
      "100%|██████████| 393433/393433 [00:00<00:00, 808458.41it/s]\n",
      "100%|██████████| 393433/393433 [00:00<00:00, 758991.29it/s]\n",
      "100%|██████████| 393433/393433 [00:00<00:00, 823904.03it/s]\n"
     ]
    }
   ],
   "source": [
    "normalize_pca(hadoop_df,'text', lines = -1,keep_stopwords = True)"
   ]
  }
 ],
 "metadata": {
  "kernelspec": {
   "display_name": "venv",
   "language": "python",
   "name": "venv"
  },
  "language_info": {
   "codemirror_mode": {
    "name": "ipython",
    "version": 3
   },
   "file_extension": ".py",
   "mimetype": "text/x-python",
   "name": "python",
   "nbconvert_exporter": "python",
   "pygments_lexer": "ipython3",
   "version": "3.8.8"
  }
 },
 "nbformat": 4,
 "nbformat_minor": 5
}
