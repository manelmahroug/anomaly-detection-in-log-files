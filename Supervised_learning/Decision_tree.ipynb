{
 "cells": [
  {
   "cell_type": "code",
   "execution_count": 1,
   "metadata": {
    "tags": []
   },
   "outputs": [],
   "source": [
    "import pandas as pd\n",
    "from sklearn.metrics import classification_report\n",
    "from sklearn.model_selection import train_test_split\n",
    "from sklearn.preprocessing import StandardScaler\n",
    "from sklearn.model_selection import GridSearchCV\n",
    "from sklearn.tree import DecisionTreeClassifier\n"
   ]
  },
  {
   "cell_type": "markdown",
   "metadata": {},
   "source": [
    "### Supervised learning using decision trees"
   ]
  },
  {
   "cell_type": "markdown",
   "metadata": {},
   "source": [
    "### Import Models"
   ]
  },
  {
   "cell_type": "code",
   "execution_count": 2,
   "metadata": {
    "tags": []
   },
   "outputs": [],
   "source": [
    "#import models\n",
    "from sklearn.neighbors import KNeighborsClassifier\n",
    "from sklearn.svm import LinearSVC\n",
    "from sklearn.svm import SVC\n",
    "from sklearn.ensemble import GradientBoostingClassifier\n",
    "from sklearn.ensemble import RandomForestClassifier"
   ]
  },
  {
   "cell_type": "markdown",
   "metadata": {},
   "source": [
    "### Load Dataset"
   ]
  },
  {
   "cell_type": "code",
   "execution_count": 3,
   "metadata": {
    "tags": []
   },
   "outputs": [
    {
     "data": {
      "text/html": [
       "<div>\n",
       "<style scoped>\n",
       "    .dataframe tbody tr th:only-of-type {\n",
       "        vertical-align: middle;\n",
       "    }\n",
       "\n",
       "    .dataframe tbody tr th {\n",
       "        vertical-align: top;\n",
       "    }\n",
       "\n",
       "    .dataframe thead th {\n",
       "        text-align: right;\n",
       "    }\n",
       "</style>\n",
       "<table border=\"1\" class=\"dataframe\">\n",
       "  <thead>\n",
       "    <tr style=\"text-align: right;\">\n",
       "      <th></th>\n",
       "      <th>Unnamed: 0</th>\n",
       "      <th>timestamp</th>\n",
       "      <th>text</th>\n",
       "      <th>label</th>\n",
       "      <th>clusters</th>\n",
       "    </tr>\n",
       "  </thead>\n",
       "  <tbody>\n",
       "    <tr>\n",
       "      <th>0</th>\n",
       "      <td>0</td>\n",
       "      <td>1.445120e+12</td>\n",
       "      <td>INFO [main] org.apache.hadoop.metrics2.impl.Me...</td>\n",
       "      <td>False</td>\n",
       "      <td>73</td>\n",
       "    </tr>\n",
       "    <tr>\n",
       "      <th>1</th>\n",
       "      <td>1</td>\n",
       "      <td>1.445120e+12</td>\n",
       "      <td>INFO [main] org.apache.hadoop.metrics2.impl.Me...</td>\n",
       "      <td>False</td>\n",
       "      <td>88</td>\n",
       "    </tr>\n",
       "    <tr>\n",
       "      <th>2</th>\n",
       "      <td>2</td>\n",
       "      <td>1.445120e+12</td>\n",
       "      <td>INFO [main] org.apache.hadoop.metrics2.impl.Me...</td>\n",
       "      <td>False</td>\n",
       "      <td>37</td>\n",
       "    </tr>\n",
       "    <tr>\n",
       "      <th>3</th>\n",
       "      <td>3</td>\n",
       "      <td>1.445120e+12</td>\n",
       "      <td>INFO [main] org.apache.hadoop.mapred.YarnChild...</td>\n",
       "      <td>False</td>\n",
       "      <td>70</td>\n",
       "    </tr>\n",
       "    <tr>\n",
       "      <th>4</th>\n",
       "      <td>4</td>\n",
       "      <td>1.445120e+12</td>\n",
       "      <td>INFO [main] org.apache.hadoop.mapred.YarnChild...</td>\n",
       "      <td>False</td>\n",
       "      <td>104</td>\n",
       "    </tr>\n",
       "    <tr>\n",
       "      <th>...</th>\n",
       "      <td>...</td>\n",
       "      <td>...</td>\n",
       "      <td>...</td>\n",
       "      <td>...</td>\n",
       "      <td>...</td>\n",
       "    </tr>\n",
       "    <tr>\n",
       "      <th>144</th>\n",
       "      <td>144</td>\n",
       "      <td>1.445120e+12</td>\n",
       "      <td>INFO [main] org.apache.hadoop.yarn.util.Procfs...</td>\n",
       "      <td>False</td>\n",
       "      <td>83</td>\n",
       "    </tr>\n",
       "    <tr>\n",
       "      <th>145</th>\n",
       "      <td>145</td>\n",
       "      <td>1.445120e+12</td>\n",
       "      <td>INFO [main] org.apache.hadoop.mapred.Task:  Us...</td>\n",
       "      <td>False</td>\n",
       "      <td>56</td>\n",
       "    </tr>\n",
       "    <tr>\n",
       "      <th>146</th>\n",
       "      <td>146</td>\n",
       "      <td>1.445120e+12</td>\n",
       "      <td>INFO [main] org.apache.hadoop.mapred.MapTask: ...</td>\n",
       "      <td>False</td>\n",
       "      <td>131</td>\n",
       "    </tr>\n",
       "    <tr>\n",
       "      <th>147</th>\n",
       "      <td>147</td>\n",
       "      <td>1.445120e+12</td>\n",
       "      <td>INFO [main] org.apache.hadoop.mapred.MapTask: ...</td>\n",
       "      <td>False</td>\n",
       "      <td>111</td>\n",
       "    </tr>\n",
       "    <tr>\n",
       "      <th>148</th>\n",
       "      <td>148</td>\n",
       "      <td>1.445120e+12</td>\n",
       "      <td>INFO [main] org.apache.hadoop.mapred.MapTask: ...</td>\n",
       "      <td>False</td>\n",
       "      <td>89</td>\n",
       "    </tr>\n",
       "  </tbody>\n",
       "</table>\n",
       "<p>149 rows × 5 columns</p>\n",
       "</div>"
      ],
      "text/plain": [
       "     Unnamed: 0     timestamp  \\\n",
       "0             0  1.445120e+12   \n",
       "1             1  1.445120e+12   \n",
       "2             2  1.445120e+12   \n",
       "3             3  1.445120e+12   \n",
       "4             4  1.445120e+12   \n",
       "..          ...           ...   \n",
       "144         144  1.445120e+12   \n",
       "145         145  1.445120e+12   \n",
       "146         146  1.445120e+12   \n",
       "147         147  1.445120e+12   \n",
       "148         148  1.445120e+12   \n",
       "\n",
       "                                                  text  label  clusters  \n",
       "0    INFO [main] org.apache.hadoop.metrics2.impl.Me...  False        73  \n",
       "1    INFO [main] org.apache.hadoop.metrics2.impl.Me...  False        88  \n",
       "2    INFO [main] org.apache.hadoop.metrics2.impl.Me...  False        37  \n",
       "3    INFO [main] org.apache.hadoop.mapred.YarnChild...  False        70  \n",
       "4    INFO [main] org.apache.hadoop.mapred.YarnChild...  False       104  \n",
       "..                                                 ...    ...       ...  \n",
       "144  INFO [main] org.apache.hadoop.yarn.util.Procfs...  False        83  \n",
       "145  INFO [main] org.apache.hadoop.mapred.Task:  Us...  False        56  \n",
       "146  INFO [main] org.apache.hadoop.mapred.MapTask: ...  False       131  \n",
       "147  INFO [main] org.apache.hadoop.mapred.MapTask: ...  False       111  \n",
       "148  INFO [main] org.apache.hadoop.mapred.MapTask: ...  False        89  \n",
       "\n",
       "[149 rows x 5 columns]"
      ]
     },
     "execution_count": 3,
     "metadata": {},
     "output_type": "execute_result"
    }
   ],
   "source": [
    "df_hadoop = pd.read_csv('output/Hadoopclusters.csv', delimiter=',', quotechar='\"')\n",
    "df_hadoop"
   ]
  },
  {
   "cell_type": "markdown",
   "metadata": {},
   "source": [
    "### Hadoop clusters Dataset"
   ]
  },
  {
   "cell_type": "code",
   "execution_count": 4,
   "metadata": {
    "tags": []
   },
   "outputs": [],
   "source": [
    "#split into train and test sets\n",
    "from sklearn.feature_extraction.text import TfidfVectorizer\n",
    "\n",
    "\n",
    "X = df_hadoop.iloc[:, :-1]\n",
    "y = df_hadoop.iloc[:, -1]\n",
    "\n",
    "\n",
    "X_train_raw, X_test_raw, y_train, y_test = train_test_split(X, y, random_state=0)\n",
    "#X_train = StandardScaler().fit_transform(X_train_raw)\n",
    "#X_test  = StandardScaler().fit_transform(X_test_raw)\n",
    "vectorizer = TfidfVectorizer()\n",
    "X_train= vectorizer.fit_transform(X_train_raw.text)\n",
    "X_test= vectorizer.transform(X_test_raw.text)\n",
    "\n"
   ]
  },
  {
   "cell_type": "code",
   "execution_count": 5,
   "metadata": {
    "tags": []
   },
   "outputs": [
    {
     "data": {
      "text/html": [
       "<div>\n",
       "<style scoped>\n",
       "    .dataframe tbody tr th:only-of-type {\n",
       "        vertical-align: middle;\n",
       "    }\n",
       "\n",
       "    .dataframe tbody tr th {\n",
       "        vertical-align: top;\n",
       "    }\n",
       "\n",
       "    .dataframe thead th {\n",
       "        text-align: right;\n",
       "    }\n",
       "</style>\n",
       "<table border=\"1\" class=\"dataframe\">\n",
       "  <thead>\n",
       "    <tr style=\"text-align: right;\">\n",
       "      <th></th>\n",
       "      <th>Unnamed: 0</th>\n",
       "      <th>timestamp</th>\n",
       "      <th>text</th>\n",
       "      <th>label</th>\n",
       "      <th>clusters</th>\n",
       "    </tr>\n",
       "  </thead>\n",
       "  <tbody>\n",
       "    <tr>\n",
       "      <th>0</th>\n",
       "      <td>0</td>\n",
       "      <td>1.445120e+12</td>\n",
       "      <td>INFO [main] org.apache.hadoop.metrics2.impl.Me...</td>\n",
       "      <td>False</td>\n",
       "      <td>73</td>\n",
       "    </tr>\n",
       "    <tr>\n",
       "      <th>1</th>\n",
       "      <td>1</td>\n",
       "      <td>1.445120e+12</td>\n",
       "      <td>INFO [main] org.apache.hadoop.metrics2.impl.Me...</td>\n",
       "      <td>False</td>\n",
       "      <td>88</td>\n",
       "    </tr>\n",
       "    <tr>\n",
       "      <th>2</th>\n",
       "      <td>2</td>\n",
       "      <td>1.445120e+12</td>\n",
       "      <td>INFO [main] org.apache.hadoop.metrics2.impl.Me...</td>\n",
       "      <td>False</td>\n",
       "      <td>37</td>\n",
       "    </tr>\n",
       "    <tr>\n",
       "      <th>3</th>\n",
       "      <td>3</td>\n",
       "      <td>1.445120e+12</td>\n",
       "      <td>INFO [main] org.apache.hadoop.mapred.YarnChild...</td>\n",
       "      <td>False</td>\n",
       "      <td>70</td>\n",
       "    </tr>\n",
       "    <tr>\n",
       "      <th>4</th>\n",
       "      <td>4</td>\n",
       "      <td>1.445120e+12</td>\n",
       "      <td>INFO [main] org.apache.hadoop.mapred.YarnChild...</td>\n",
       "      <td>False</td>\n",
       "      <td>104</td>\n",
       "    </tr>\n",
       "    <tr>\n",
       "      <th>...</th>\n",
       "      <td>...</td>\n",
       "      <td>...</td>\n",
       "      <td>...</td>\n",
       "      <td>...</td>\n",
       "      <td>...</td>\n",
       "    </tr>\n",
       "    <tr>\n",
       "      <th>144</th>\n",
       "      <td>144</td>\n",
       "      <td>1.445120e+12</td>\n",
       "      <td>INFO [main] org.apache.hadoop.yarn.util.Procfs...</td>\n",
       "      <td>False</td>\n",
       "      <td>83</td>\n",
       "    </tr>\n",
       "    <tr>\n",
       "      <th>145</th>\n",
       "      <td>145</td>\n",
       "      <td>1.445120e+12</td>\n",
       "      <td>INFO [main] org.apache.hadoop.mapred.Task:  Us...</td>\n",
       "      <td>False</td>\n",
       "      <td>56</td>\n",
       "    </tr>\n",
       "    <tr>\n",
       "      <th>146</th>\n",
       "      <td>146</td>\n",
       "      <td>1.445120e+12</td>\n",
       "      <td>INFO [main] org.apache.hadoop.mapred.MapTask: ...</td>\n",
       "      <td>False</td>\n",
       "      <td>131</td>\n",
       "    </tr>\n",
       "    <tr>\n",
       "      <th>147</th>\n",
       "      <td>147</td>\n",
       "      <td>1.445120e+12</td>\n",
       "      <td>INFO [main] org.apache.hadoop.mapred.MapTask: ...</td>\n",
       "      <td>False</td>\n",
       "      <td>111</td>\n",
       "    </tr>\n",
       "    <tr>\n",
       "      <th>148</th>\n",
       "      <td>148</td>\n",
       "      <td>1.445120e+12</td>\n",
       "      <td>INFO [main] org.apache.hadoop.mapred.MapTask: ...</td>\n",
       "      <td>False</td>\n",
       "      <td>89</td>\n",
       "    </tr>\n",
       "  </tbody>\n",
       "</table>\n",
       "<p>149 rows × 5 columns</p>\n",
       "</div>"
      ],
      "text/plain": [
       "     Unnamed: 0     timestamp  \\\n",
       "0             0  1.445120e+12   \n",
       "1             1  1.445120e+12   \n",
       "2             2  1.445120e+12   \n",
       "3             3  1.445120e+12   \n",
       "4             4  1.445120e+12   \n",
       "..          ...           ...   \n",
       "144         144  1.445120e+12   \n",
       "145         145  1.445120e+12   \n",
       "146         146  1.445120e+12   \n",
       "147         147  1.445120e+12   \n",
       "148         148  1.445120e+12   \n",
       "\n",
       "                                                  text  label  clusters  \n",
       "0    INFO [main] org.apache.hadoop.metrics2.impl.Me...  False        73  \n",
       "1    INFO [main] org.apache.hadoop.metrics2.impl.Me...  False        88  \n",
       "2    INFO [main] org.apache.hadoop.metrics2.impl.Me...  False        37  \n",
       "3    INFO [main] org.apache.hadoop.mapred.YarnChild...  False        70  \n",
       "4    INFO [main] org.apache.hadoop.mapred.YarnChild...  False       104  \n",
       "..                                                 ...    ...       ...  \n",
       "144  INFO [main] org.apache.hadoop.yarn.util.Procfs...  False        83  \n",
       "145  INFO [main] org.apache.hadoop.mapred.Task:  Us...  False        56  \n",
       "146  INFO [main] org.apache.hadoop.mapred.MapTask: ...  False       131  \n",
       "147  INFO [main] org.apache.hadoop.mapred.MapTask: ...  False       111  \n",
       "148  INFO [main] org.apache.hadoop.mapred.MapTask: ...  False        89  \n",
       "\n",
       "[149 rows x 5 columns]"
      ]
     },
     "execution_count": 5,
     "metadata": {},
     "output_type": "execute_result"
    }
   ],
   "source": [
    "df_hadoop"
   ]
  },
  {
   "cell_type": "markdown",
   "metadata": {},
   "source": [
    "### Gradient Boosted Decision Tree Classifier\n",
    "-  [documentation](https://scikit-learn.org/stable/modules/generated/sklearn.ensemble.GradientBoostingClassifier.html#sklearn.ensemble.GradientBoostingClassifier)"
   ]
  },
  {
   "cell_type": "code",
   "execution_count": 7,
   "metadata": {
    "tags": []
   },
   "outputs": [
    {
     "data": {
      "text/plain": [
       "(1.0, 0.7368421052631579)"
      ]
     },
     "execution_count": 7,
     "metadata": {},
     "output_type": "execute_result"
    }
   ],
   "source": [
    "clf = GradientBoostingClassifier(random_state=0).fit(X_train, y_train)\n",
    "    \n",
    "clf.score(X_train, y_train),clf.score(X_test, y_test)\n"
   ]
  }
 ],
 "metadata": {
  "kernelspec": {
   "display_name": "Python 3 (ipykernel)",
   "language": "python",
   "name": "python3"
  },
  "language_info": {
   "codemirror_mode": {
    "name": "ipython",
    "version": 3
   },
   "file_extension": ".py",
   "mimetype": "text/x-python",
   "name": "python",
   "nbconvert_exporter": "python",
   "pygments_lexer": "ipython3",
   "version": "3.9.13"
  }
 },
 "nbformat": 4,
 "nbformat_minor": 4
}
