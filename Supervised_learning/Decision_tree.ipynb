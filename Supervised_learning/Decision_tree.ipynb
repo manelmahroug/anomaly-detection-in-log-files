{
 "cells": [
  {
   "cell_type": "code",
   "execution_count": 40,
   "metadata": {
    "tags": []
   },
   "outputs": [],
   "source": [
    "import pandas as pd\n",
    "from sklearn.metrics import classification_report\n",
    "from sklearn.model_selection import train_test_split\n",
    "from sklearn.preprocessing import StandardScaler\n",
    "from sklearn.preprocessing import LabelEncoder"
   ]
  },
  {
   "cell_type": "markdown",
   "metadata": {},
   "source": [
    "### Supervised learning using decision trees"
   ]
  },
  {
   "cell_type": "markdown",
   "metadata": {},
   "source": [
    "### Import Models"
   ]
  },
  {
   "cell_type": "code",
   "execution_count": 41,
   "metadata": {
    "tags": []
   },
   "outputs": [],
   "source": [
    "#import models\n",
    "from sklearn.ensemble import GradientBoostingClassifier"
   ]
  },
  {
   "cell_type": "markdown",
   "metadata": {},
   "source": [
    "### Load Dataset"
   ]
  },
  {
   "cell_type": "code",
   "execution_count": 42,
   "metadata": {
    "tags": []
   },
   "outputs": [
    {
     "data": {
      "text/plain": [
       "<bound method NDFrame.head of         cluster_0  cluster_1  cluster_2  cluster_3  cluster_4  cluster_5  \\\n",
       "0               0          0          0          0          0          0   \n",
       "1               0          0          0          0          0          0   \n",
       "2               0          0          0          0          0          0   \n",
       "3               0          0          0          0          0          0   \n",
       "4               0          0          0          0          0          0   \n",
       "...           ...        ...        ...        ...        ...        ...   \n",
       "143830          0          0          0          0          0          0   \n",
       "143831          0          0          0          0          0          0   \n",
       "143832          0          0          0          0          0          0   \n",
       "143833          0          0          0          0          0          0   \n",
       "143834          0          0          0          0          0          0   \n",
       "\n",
       "        cluster_6  cluster_7  cluster_8  cluster_9  ...  p-245-0  p-245-1  \\\n",
       "0               0          0          0          0  ...      NaN      NaN   \n",
       "1               0          0          0          0  ...      NaN      NaN   \n",
       "2               0          0          0          0  ...      NaN      NaN   \n",
       "3               0          0          0          0  ...      NaN      NaN   \n",
       "4               0          0          0          0  ...      NaN      NaN   \n",
       "...           ...        ...        ...        ...  ...      ...      ...   \n",
       "143830          0          0          0          0  ...      NaN      NaN   \n",
       "143831          0          0          0          0  ...      NaN      NaN   \n",
       "143832          0          0          0          0  ...      NaN      NaN   \n",
       "143833          0          0          0          0  ...      NaN      NaN   \n",
       "143834          0          0          0          0  ...      NaN      NaN   \n",
       "\n",
       "        p-246-0   p-246-1  p-247-0  p-247-1  p-248-0  p-248-1  p-249-0  \\\n",
       "0           NaN       NaN      NaN      NaN      NaN      NaN      NaN   \n",
       "1           NaN       NaN      NaN      NaN      NaN      NaN      NaN   \n",
       "2           NaN       NaN      NaN      NaN      NaN      NaN      NaN   \n",
       "3           NaN       NaN      NaN      NaN      NaN      NaN      NaN   \n",
       "4           NaN       NaN      NaN      NaN      NaN      NaN      NaN   \n",
       "...         ...       ...      ...      ...      ...      ...      ...   \n",
       "143830     20.0  0.995252      NaN      NaN      NaN      NaN      NaN   \n",
       "143831     20.0  0.995252      NaN      NaN      NaN      NaN      NaN   \n",
       "143832     20.0  0.995252      NaN      NaN      NaN      NaN      NaN   \n",
       "143833     20.0  0.995252      NaN      NaN      NaN      NaN      NaN   \n",
       "143834     20.0  0.995252      NaN      NaN      NaN      NaN      NaN   \n",
       "\n",
       "        p-249-1  \n",
       "0           NaN  \n",
       "1           NaN  \n",
       "2           NaN  \n",
       "3           NaN  \n",
       "4           NaN  \n",
       "...         ...  \n",
       "143830      NaN  \n",
       "143831      NaN  \n",
       "143832      NaN  \n",
       "143833      NaN  \n",
       "143834      NaN  \n",
       "\n",
       "[143835 rows x 566 columns]>"
      ]
     },
     "execution_count": 42,
     "metadata": {},
     "output_type": "execute_result"
    }
   ],
   "source": [
    "df_hadoop_train = pd.read_csv('output/Hadoop_train_sliding_window.csv')\n",
    "df_hadoop_test = pd.read_csv('output/Hadoop_test_sliding_window.csv')\n",
    "df_hadoop_train.head"
   ]
  },
  {
   "cell_type": "code",
   "execution_count": 43,
   "metadata": {
    "tags": []
   },
   "outputs": [],
   "source": [
    "#deleting columns with Nan\n",
    "\n",
    "df_hadoop_train.dropna(axis =1,inplace=True)\n",
    "df_hadoop_test.dropna(axis =1,inplace=True)\n",
    "\n",
    "# drop column filename as it is not appropriate feature for prediction\n",
    "\n",
    "df_hadoop_train.drop(['filename'], axis=1,inplace=True)\n",
    "df_hadoop_test.drop(['filename'], axis=1,inplace=True)\n",
    "\n",
    "common_cols = [col for col in set(df_hadoop_train.columns).intersection(df_hadoop_test.columns)]\n",
    "df_hadoop_train_reduced_dim = df_hadoop_train[common_cols]\n"
   ]
  },
  {
   "cell_type": "markdown",
   "metadata": {},
   "source": [
    "### Encode and scale the dataset"
   ]
  },
  {
   "cell_type": "code",
   "execution_count": 44,
   "metadata": {
    "tags": []
   },
   "outputs": [
    {
     "name": "stdout",
     "output_type": "stream",
     "text": [
      "(143835, 249)\n",
      "(35884, 249)\n"
     ]
    },
    {
     "data": {
      "text/plain": [
       "Index(['cluster_244', 'cluster_245', 'cluster_246', 'cluster_247',\n",
       "       'cluster_248', 'cluster_249'],\n",
       "      dtype='object')"
      ]
     },
     "execution_count": 44,
     "metadata": {},
     "output_type": "execute_result"
    }
   ],
   "source": [
    "lbl_enc=LabelEncoder()\n",
    "\n",
    "df_hadoop_train_reduced_dim['label'] = lbl_enc.fit_transform(df_hadoop_train_reduced_dim['label'])\n",
    "df_hadoop_test['label'] = lbl_enc.fit_transform(df_hadoop_test_reduced_dim['label'])\n",
    "\n",
    "\n",
    "X_train= df_hadoop_train_reduced_dim.drop(columns = ['label'])\n",
    "y_train=df_hadoop_train_reduced_dim.loc[:,'label']\n",
    "X_test= df_hadoop_test_reduced_dim.drop(columns = ['label'])\n",
    "y_test=df_hadoop_test_reduced_dim.loc[:,'label']\n",
    "\n",
    "#X_train.head\n",
    "print(df_hadoop_train_reduced_dim.shape)\n",
    "print(df_hadoop_test_reduced_dim.shape)\n",
    "df_hadoop_train.columns.difference(df_hadoop_test_reduced_dim.columns)\n"
   ]
  },
  {
   "cell_type": "markdown",
   "metadata": {},
   "source": [
    "### Gradient Boosted Decision Tree Classifier\n",
    "-  [documentation](https://scikit-learn.org/stable/modules/generated/sklearn.ensemble.GradientBoostingClassifier.html#sklearn.ensemble.GradientBoostingClassifier)"
   ]
  },
  {
   "cell_type": "code",
   "execution_count": 45,
   "metadata": {
    "tags": []
   },
   "outputs": [],
   "source": [
    "clf = GradientBoostingClassifier(random_state=0).fit(X_train, y_train)"
   ]
  },
  {
   "cell_type": "code",
   "execution_count": 47,
   "metadata": {
    "tags": []
   },
   "outputs": [
    {
     "name": "stdout",
     "output_type": "stream",
     "text": [
      "              precision    recall  f1-score   support\n",
      "\n",
      "           1       0.87      1.00      0.93     31154\n",
      "           2       0.00      0.00      0.00         0\n",
      "\n",
      "   micro avg       0.87      1.00      0.93     31154\n",
      "   macro avg       0.43      0.50      0.46     31154\n",
      "weighted avg       0.87      1.00      0.93     31154\n",
      "\n"
     ]
    }
   ],
   "source": [
    "y_pred = clf.predict(X_test)\n",
    "\n",
    "print(classification_report(y_test, y_pred, labels=[1, 2]))"
   ]
  },
  {
   "cell_type": "code",
   "execution_count": null,
   "metadata": {},
   "outputs": [],
   "source": []
  }
 ],
 "metadata": {
  "kernelspec": {
   "display_name": "Python 3 (ipykernel)",
   "language": "python",
   "name": "python3"
  },
  "language_info": {
   "codemirror_mode": {
    "name": "ipython",
    "version": 3
   },
   "file_extension": ".py",
   "mimetype": "text/x-python",
   "name": "python",
   "nbconvert_exporter": "python",
   "pygments_lexer": "ipython3",
   "version": "3.9.13"
  }
 },
 "nbformat": 4,
 "nbformat_minor": 4
}
